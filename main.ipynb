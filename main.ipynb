{
 "cells": [
  {
   "cell_type": "code",
   "execution_count": null,
   "metadata": {},
   "outputs": [],
   "source": [
    "%load_ext autoreload\n",
    "import pandas as pd\n",
    "import numpy as np\n",
    "from matplotlib.colors import LogNorm\n",
    "from matplotlib.cm import ScalarMappable\n",
    "from scipy.ndimage import gaussian_filter\n",
    "from functools import partial\n",
    "import operator\n",
    "from IPython.display import clear_output\n",
    "from tqdm import tqdm\n",
    "import networkx as nx\n",
    "import timeit\n",
    "import random\n",
    "import copy\n",
    "import community"
   ]
  },
  {
   "cell_type": "code",
   "execution_count": null,
   "metadata": {},
   "outputs": [],
   "source": [
    "%autoreload 2\n",
    "from utils import summary, visualise, string_to_color, visualise_at_interval, convertImage, initialize_data_loader"
   ]
  },
  {
   "cell_type": "markdown",
   "metadata": {},
   "source": [
    "# Canvas reproduction"
   ]
  },
  {
   "cell_type": "code",
   "execution_count": null,
   "metadata": {},
   "outputs": [],
   "source": [
    "visualise_at_interval(\n",
    "    lambda rez, row : row.pixel_color, \n",
    "    lambda l : list(tqdm((convertImage(x,string_to_color) for x in l), total=len(l))), \n",
    "    pd.Timedelta(minutes = 15), \n",
    "    [[\"#FFFFFF\" for i in range(2000)] for i in range(1000)],\n",
    "    \"image\",\n",
    ") "
   ]
  },
  {
   "cell_type": "markdown",
   "metadata": {},
   "source": [
    "# Activity"
   ]
  },
  {
   "cell_type": "code",
   "execution_count": null,
   "metadata": {},
   "outputs": [],
   "source": [
    "def get_transform(images, blur = 0):\n",
    "    blurImages =[gaussian_filter(np.array(img), blur) for img in images]\n",
    "    maximum = np.max(blurImages)\n",
    "    custom_cmap = ScalarMappable(cmap='RdBu_r', norm=LogNorm(vmin=1, vmax=maximum + 1))\n",
    "    return [custom_cmap.to_rgba(img, bytes= True) for img in blurImages]"
   ]
  },
  {
   "cell_type": "code",
   "execution_count": null,
   "metadata": {},
   "outputs": [],
   "source": [
    "\n",
    "visualise_at_interval(\n",
    "    lambda rez, row: rez + 1, \n",
    "    get_transform,\n",
    "    pd.Timedelta(minutes = 15), \n",
    "    np.ones((1000,2000)),\n",
    "    \"activite\",\n",
    "    duration = pd.Timedelta(minutes = 30),\n",
    ") "
   ]
  },
  {
   "cell_type": "code",
   "execution_count": null,
   "metadata": {},
   "outputs": [],
   "source": [
    "\n",
    "visualise_at_interval(\n",
    "    lambda rez, row : rez + 1, \n",
    "    get_transform, \n",
    "    -1, \n",
    "    np.ones((1000,2000)),\n",
    "    \"activite_total\",\n",
    ") "
   ]
  },
  {
   "cell_type": "code",
   "execution_count": null,
   "metadata": {},
   "outputs": [],
   "source": [
    "blurs =[1,2,5,10,50,100]\n",
    "visualise_at_interval(\n",
    "    lambda rez, row  : rez + 1, \n",
    "    { str(blur) : partial(get_transform, blur = blur) for blur in blurs}, \n",
    "    pd.Timedelta(minutes = 15), \n",
    "    np.ones((1000,1000)),\n",
    "    lambda blur : f\"activite_blur_{blur}\",\n",
    "    duration = pd.Timedelta(minutes = 30),\n",
    ") \n",
    "\n",
    "\n",
    "visualise_at_interval(\n",
    "    lambda rez, row : rez + int(not row.is_mod), \n",
    "    { str(blur) : partial(get_transform, blur = blur) for blur in blurs}, \n",
    "    pd.Timedelta(minutes = 15), \n",
    "    np.ones((1000,1000)),\n",
    "    lambda blur : f\"activite_blur_no_moderator_{blur}\",\n",
    "    duration = pd.Timedelta(minutes = 30),\n",
    ") \n"
   ]
  },
  {
   "cell_type": "markdown",
   "metadata": {},
   "source": [
    "# Variété d'utilisateur"
   ]
  },
  {
   "cell_type": "code",
   "execution_count": null,
   "metadata": {},
   "outputs": [],
   "source": [
    "def compose(f, g):\n",
    "    return lambda *args, **kwargs : f(g(*args, **kwargs))\n",
    "\n",
    "def add_user(user, users):\n",
    "    users.add(user)\n",
    "    return users\n",
    "\n",
    "def from_users_sets_by_points_to_len_by_points(images):\n",
    "    return [[[len(user_set)+1 for user_set in row] for row in image] for image in images]"
   ]
  },
  {
   "cell_type": "code",
   "execution_count": null,
   "metadata": {},
   "outputs": [],
   "source": [
    "blurs =[1,5,10]\n",
    "visualise_at_interval(\n",
    "    lambda users, _, user, is_mod  : users if is_mod else add_user(user, users), \n",
    "    { str(blur) : compose(partial(get_transform, blur = blur),\n",
    "                          from_users_sets_by_points_to_len_by_points) for blur in blurs}, \n",
    "    pd.Timedelta(minutes = 5), \n",
    "    [[set() for i in range(1000)] for j in range(1000)],\n",
    "    lambda blur : f\"users_variety_blur{blur}\",\n",
    "    duration = pd.Timedelta(minutes = 15),\n",
    ")"
   ]
  },
  {
   "cell_type": "markdown",
   "metadata": {},
   "source": [
    "# Détection de communauté"
   ]
  },
  {
   "cell_type": "code",
   "execution_count": null,
   "metadata": {},
   "outputs": [],
   "source": []
  },
  {
   "cell_type": "code",
   "execution_count": null,
   "metadata": {},
   "outputs": [],
   "source": [
    "ennemies = {}\n",
    "moderators = set()\n",
    "\n",
    "def get_ennemy_and_return_new_user(last_user, row, is_mod):\n",
    "\n",
    "    if is_mod :\n",
    "        moderators.add(row.user)\n",
    "    if last_user :\n",
    "        if not row.user in ennemies:\n",
    "            ennemies[row.user] = {}\n",
    "        ennemies[row.user][last_user] = ennemies[row.user].get(last_user, 0) + 1\n",
    "    return row.user\n",
    "\n",
    "\n",
    "visualise_at_interval(\n",
    "    get_ennemy_and_return_new_user, \n",
    "    {}, \n",
    "    -1, \n",
    "    [[\"\" for i in range(2000)] for j in range(1000)],\n",
    "    \"\",\n",
    "    EndingTimeStamp= pd.Timedelta(days= 1)\n",
    ") "
   ]
  },
  {
   "cell_type": "code",
   "execution_count": null,
   "metadata": {},
   "outputs": [],
   "source": [
    "total_link = sum(len(neighbors) for neighbors in ennemies.values())\n",
    "total_link"
   ]
  },
  {
   "cell_type": "code",
   "execution_count": null,
   "metadata": {},
   "outputs": [],
   "source": [
    "def make_symmetric(adj_dict):\n",
    "    rez = copy.deepcopy(adj_dict)\n",
    "    for node in adj_dict:\n",
    "        for enemy in adj_dict[node]:\n",
    "            rez[enemy][node] = adj_dict[enemy].get(node,0) + adj_dict[node].get(enemy,0)\n",
    "    return rez\n",
    "\n",
    "def normalize_weights(adj_dict):\n",
    "    degree = { node : sum(neighbor.values()) for node, neighbor in adj_dict.items()}\n",
    "\n",
    "    for node1 in adj_dict:\n",
    "        for node2 in adj_dict[node1]:\n",
    "            adj_dict[node1][node2] /= degree[node1]\n",
    "\n",
    "def get_weight_from_stats(middle_weight,weight1, weight2):\n",
    "    return middle_weight * (weight1 + weight2) / 4\n",
    "\n",
    "\n",
    "def ennemies_of_enemies_are_friends(enemies):\n",
    "    enemies = make_symmetric(enemies)\n",
    "    degree = { node : sum(neighbor.values()) for node, neighbor in enemies.items()}\n",
    "    enemies_of_enemies = {node : {enemy : -2*value / (degree[node] + degree[enemy]) for enemy, value in enemies[node].items()} for node in enemies}\n",
    "    for node in enemies:\n",
    "        for enemy, weight1 in enemies[node].items():\n",
    "            for enemy_of_enemy, weight2 in enemies[enemy].items():\n",
    "                if enemy_of_enemy != node :\n",
    "                    enemies_of_enemies[node][enemy_of_enemy] = enemies_of_enemies[node].get(enemy_of_enemy,0) + get_weight_from_stats((weight1 + weight2)/degree[enemy], weight1/degree[node],weight2/degree[enemy_of_enemy])\n",
    "    return enemies_of_enemies\n",
    "\n",
    "def keep_only_above_threshold(graph, threshold):\n",
    "    if threshold < 0 :\n",
    "        raise ValueError(\"threshold needs to be a positive value\")\n",
    "    return {node : {neighbor : val for neighbor,val in neighbors.items() if val > threshold} for node, neighbors in tqdm(graph.items())}\n",
    "\n",
    "def to_networkx(adj_dict):\n",
    "    total_link = sum(len(neighbors) for neighbors in adj_dict.values())\n",
    "    G= nx.Graph()\n",
    "    G.add_edges_from(tqdm(((node1,node2,{'weight' : weight}) for node1, neighbors in adj_dict.items() for node2, weight in neighbors.items()), total= total_link, desc = \"to_networkx\"))\n",
    "    return G"
   ]
  },
  {
   "cell_type": "code",
   "execution_count": null,
   "metadata": {},
   "outputs": [],
   "source": [
    "ennemies_of_enemies_are_friends(\n",
    "    {\n",
    "        1 : {2:1},\n",
    "        2 : {1:1},\n",
    "    }\n",
    ")"
   ]
  },
  {
   "cell_type": "code",
   "execution_count": null,
   "metadata": {},
   "outputs": [],
   "source": [
    "n = 10000\n",
    "friends = ennemies_of_enemies_are_friends({i : {j : 1 for j in range(n) if random.random() < 10/n} for i in range(n)})\n",
    "above_threshold = keep_only_above_threshold(friends, 0)\n",
    "G= to_networkx(above_threshold)\n",
    "len(community.generate_dendrogram(G))\n"
   ]
  },
  {
   "cell_type": "code",
   "execution_count": null,
   "metadata": {},
   "outputs": [],
   "source": []
  },
  {
   "cell_type": "code",
   "execution_count": null,
   "metadata": {},
   "outputs": [],
   "source": [
    "print(range(5))"
   ]
  },
  {
   "cell_type": "code",
   "execution_count": null,
   "metadata": {},
   "outputs": [],
   "source": [
    "# Create a NetworkX graph\n",
    "G_ennemies = nx.Graph(tqdm(((node,neighbor) for node, neighbors in ennemies.items() for neighbor in neighbors), total= total_link))"
   ]
  },
  {
   "cell_type": "code",
   "execution_count": null,
   "metadata": {},
   "outputs": [],
   "source": [
    "import community"
   ]
  },
  {
   "cell_type": "code",
   "execution_count": null,
   "metadata": {},
   "outputs": [],
   "source": [
    "G_basic = nx.Graph()\n",
    "G_basic.add_edges_from([(1,2),(2,3),(1,3),(1,4),(3,4),(1,5),(2,5),(4,5)])"
   ]
  },
  {
   "cell_type": "code",
   "execution_count": null,
   "metadata": {},
   "outputs": [],
   "source": [
    "community.generate_dendrogram(G_basic, inverted= True)"
   ]
  },
  {
   "cell_type": "markdown",
   "metadata": {},
   "source": [
    "# Todo"
   ]
  },
  {
   "cell_type": "code",
   "execution_count": null,
   "metadata": {},
   "outputs": [],
   "source": [
    "class all_in_one:\n",
    "    def __init__(self, val) -> None:\n",
    "        self.val = val\n",
    "    \n",
    "    def __getitem__(self, index):\n",
    "        return self.val\n",
    "    \n",
    "    def __setitem__(self, index, val):\n",
    "        self.val = val\n",
    "\n",
    "def get_color (colors, row, is_mod):\n",
    "    if not is_mod:\n",
    "        colors[row.pixel_color] = colors.get(row.pixel_color, 0) + 1\n",
    "    return colors\n",
    "\n",
    "rez = []\n",
    "\n",
    "interval = 5\n",
    "\n",
    "visualise_at_interval(\n",
    "    get_color, \n",
    "    {}, \n",
    "    pd.Timedelta(minutes = interval), \n",
    "    all_in_one(all_in_one({})),\n",
    "    \"\",\n",
    "    startingTimeStamp= pd.Timedelta(minutes = 4),\n",
    "    duration = pd.Timedelta(minutes = interval),\n",
    "    rez = rez,\n",
    ")\n",
    "colors_each_min = [image[0][0] for image in rez]\n",
    "colors_each_min = colors_each_min[1:]\n",
    "#sum up pixels\n",
    "for i in range(0,len(colors_each_min)):\n",
    "    colors_each_min[i]['total'] = 0\n",
    "    for color in colors_each_min[i]:\n",
    "        if color != 'total':\n",
    "            colors_each_min[i]['total'] += colors_each_min[i].get(color,0)\n",
    "\n",
    "print([image['total'] for image in colors_each_min])\n",
    "\n",
    "#normalize numbers of pixels\n",
    "'''\n",
    "for i in range(0,len(colors_each_min)):\n",
    "    for color in colors_each_min[i]:\n",
    "        if color != 'total':\n",
    "            colors_each_min[i][color] = colors_each_min[i][color] / colors_each_min[i]['total']\n",
    "'''\n",
    "\n",
    "#smooth points if necesary\n",
    "smoothed_colors_each_min = []\n",
    "smooth_factor = 2\n",
    "for i in range(0,len(colors_each_min)-smooth_factor):\n",
    "    smoothed_colors_each_min.append({})\n",
    "    for color in colors_each_min[i]:\n",
    "        smoothed_colors_each_min[i][color] = np.sum(\n",
    "            [colors_each_min[i+j][color] for j in range(0,smooth_factor)]) / smooth_factor\n",
    "\n",
    "#plot curve of pixels placement frequency with colors as area under the curve\n",
    "import matplotlib.pyplot as plt\n",
    "\n",
    "colors = set()\n",
    "for i in range(0,len(smoothed_colors_each_min)):\n",
    "    for color in colors_each_min[i]:\n",
    "        if color != 'total':\n",
    "            colors.add(color)\n",
    "\n",
    "#sort colors by frequency\n",
    "colors = sorted(colors, key=lambda color: smoothed_colors_each_min[-1][color])\n",
    "\n",
    "plt.figure()\n",
    "curr_y = [0 for i in range(0,len(smoothed_colors_each_min))]\n",
    "\n",
    "for color in colors:\n",
    "    if color == 'total':\n",
    "        continue\n",
    "    x = range(0,len(smoothed_colors_each_min))\n",
    "    loc_y = [smoothed_colors_each_min[i].get(color,0) for i in range(0,len(smoothed_colors_each_min))]\n",
    "    last_y = copy.deepcopy(curr_y)\n",
    "    curr_y = [curr_y[i] + loc_y[i] for i in range(0,len(smoothed_colors_each_min))]\n",
    "    p_color = color\n",
    "    if color == '#FFFFFF': #white\n",
    "        p_color = 'lightgrey'\n",
    "    plt.plot(x, curr_y, color=p_color, label=color)\n",
    "    plt.fill_between(x, last_y, curr_y, alpha=0.5, color=p_color)\n",
    "\n",
    "#plot tick every x hours instead of minutes\n",
    "hours_tick = 5\n",
    "ticks = [i for i in range(0,len(smoothed_colors_each_min),hours_tick*60//interval)]\n",
    "plt.xticks(ticks, [str(int(i*interval/60)) for i in ticks])\n",
    "\n",
    "plt.xlabel('Temps en heures')\n",
    "plt.ylabel('Nombre de pixels placés sur les 5 dernières minutes')\n",
    "plt.savefig('pixel_placement_frequency_by_color.png', dpi=1000)\n",
    "plt.show()\n"
   ]
  },
  {
   "cell_type": "markdown",
   "metadata": {},
   "source": [
    "# Users activity distribution"
   ]
  },
  {
   "cell_type": "code",
   "execution_count": null,
   "metadata": {},
   "outputs": [],
   "source": [
    "#aggregate how much points has been placed by each user\n",
    "users_pixels = {}\n",
    "\n",
    "def up_user_pixels(aggr, row, is_mod):\n",
    "    if not is_mod:\n",
    "        users_pixels[row.user] = users_pixels.get(row.user, 0) + 1 \n",
    "    return users_pixels\n",
    "\n",
    "interval = 3000\n",
    "max_pixels = (interval / 5) + 1\n",
    "\n",
    "visualise_at_interval(\n",
    "    up_user_pixels, \n",
    "    {}, \n",
    "    -1, \n",
    "    all_in_one(all_in_one({})),\n",
    "    \"\",\n",
    "    EndingTimeStamp= pd.Timedelta(minutes = interval),\n",
    ")\n",
    "\n",
    "#sort users by number of pixels placed\n",
    "users_pixels = sorted(users_pixels.items(), key=lambda item: item[1], reverse=True)\n",
    "#remove cheaters\n",
    "users_pixels = [user for user in users_pixels if user[1] < max_pixels]\n",
    "\n",
    "#plot curve of pixels placement frequency by users\n",
    "import matplotlib.pyplot as plt\n",
    "\n",
    "plt.figure()\n",
    "x = range(0,len(users_pixels))\n",
    "y = [user[1] for user in users_pixels]\n",
    "plt.plot(x, y, color='blue')\n",
    "plt.xlabel('Utilisateurs')\n",
    "plt.ylabel('Nombre de pixels')\n",
    "plt.savefig('pixel_placement_frequency_by_user.png', dpi=1000)"
   ]
  },
  {
   "cell_type": "code",
   "execution_count": null,
   "metadata": {},
   "outputs": [],
   "source": [
    "stats = {'pixels': 0, 'mods': 0, 'non_mods': 0}\n",
    "users = set()\n",
    "def aggregate(stats, users, user, is_mod):\n",
    "    users.add(user)\n",
    "    stats['pixels'] += 1\n",
    "    if is_mod:\n",
    "        stats['mods'] += 1\n",
    "    else:\n",
    "        stats['non_mods'] += 1\n",
    "\n",
    "visualise_at_interval(\n",
    "    lambda x, y, user, is_mod : aggregate(stats, users, user, is_mod),\n",
    "    {}, \n",
    "    pd.Timedelta(minutes= 30), \n",
    "    [[\"#FFFFFF\" for i in range(2000)] for i in range(1000)],\n",
    "    \"image\",\n",
    "    duration= pd.Timedelta(minutes= 1)\n",
    ") \n",
    "stats, users"
   ]
  },
  {
   "cell_type": "markdown",
   "metadata": {},
   "source": [
    "\n",
    "matActivité forme : [x][y] = freq de maj --> image de l'activité bleu à rouge\n",
    "\n",
    "### map:\n",
    "- map de zone d'activité\n",
    "- map de zone d'activité par couleur?\n",
    "- map de certains utilisateurs actif \n",
    "- map de la couleur la plus utilisé\n",
    "- map de la variété d'utilisateurs\n",
    "- \n",
    "\n",
    "### statistique descriptive:\n",
    "- activité par utilisateur\n",
    "- activité par couleur\n",
    "- activité par heure\n",
    "\n",
    "### identifications:\n",
    "- identifié les bots\n",
    "- identifié communauté / projet de communauté\n",
    "- identification de la modération\n",
    "\n",
    "### technique:\n",
    "- download fait\n",
    "- augmentation taille grille fait\n",
    "- detection des antagonistes pour trouver les communautés fait\n",
    "- prétraitemtent des temps et diverse valeur pour réduire le temps d'ouverture fait"
   ]
  }
 ],
 "metadata": {
  "kernelspec": {
   "display_name": "Python 3.10.9 ('base')",
   "language": "python",
   "name": "python3"
  },
  "language_info": {
   "codemirror_mode": {
    "name": "ipython",
    "version": 3
   },
   "file_extension": ".py",
   "mimetype": "text/x-python",
   "name": "python",
   "nbconvert_exporter": "python",
   "pygments_lexer": "ipython3",
   "version": "3.10.13"
  },
  "orig_nbformat": 4,
  "vscode": {
   "interpreter": {
    "hash": "a5a318b75a7586e7126ee807ac3c15c9d32b27634cac574e72ad2f13c9c76b5e"
   }
  }
 },
 "nbformat": 4,
 "nbformat_minor": 2
}
