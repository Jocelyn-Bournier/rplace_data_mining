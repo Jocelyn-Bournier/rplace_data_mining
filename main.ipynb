{
 "cells": [
  {
   "cell_type": "markdown",
   "metadata": {},
   "source": []
  },
  {
   "cell_type": "code",
   "execution_count": 1,
   "metadata": {},
   "outputs": [],
   "source": [
    "%load_ext autoreload\n",
    "import pandas as pd\n",
    "import numpy as np\n",
    "from matplotlib.colors import LogNorm\n",
    "from matplotlib.cm import ScalarMappable\n",
    "from scipy.ndimage import gaussian_filter\n",
    "from functools import partial\n",
    "import operator\n",
    "from IPython.display import clear_output\n",
    "from tqdm import tqdm"
   ]
  },
  {
   "cell_type": "code",
   "execution_count": 2,
   "metadata": {},
   "outputs": [
    {
     "name": "stdout",
     "output_type": "stream",
     "text": [
      "Warning: Your Kaggle API key is readable by other users on this system! To fix this, you can run 'chmod 600 /Users/timothebonhoure/.kaggle/kaggle.json'\n"
     ]
    }
   ],
   "source": [
    "%autoreload 2\n",
    "from utils import summary, visualise, string_to_color, visualise_at_interval, convertImage, initialize_data_loader"
   ]
  },
  {
   "cell_type": "markdown",
   "metadata": {},
   "source": [
    "# Canvas reproduction"
   ]
  },
  {
   "cell_type": "code",
   "execution_count": 4,
   "metadata": {},
   "outputs": [
    {
     "name": "stdout",
     "output_type": "stream",
     "text": [
      "Warning: Your Kaggle API key is readable by other users on this system! To fix this, you can run 'chmod 600 /Users/timothebonhoure/.kaggle/kaggle.json'\n"
     ]
    },
    {
     "ename": "ZeroDivisionError",
     "evalue": "division by zero",
     "output_type": "error",
     "traceback": [
      "\u001b[0;31m---------------------------------------------------------------------------\u001b[0m",
      "\u001b[0;31mZeroDivisionError\u001b[0m                         Traceback (most recent call last)",
      "Cell \u001b[0;32mIn[4], line 1\u001b[0m\n\u001b[0;32m----> 1\u001b[0m \u001b[43mvisualise_at_interval\u001b[49m\u001b[43m(\u001b[49m\n\u001b[1;32m      2\u001b[0m \u001b[43m    \u001b[49m\u001b[38;5;28;43;01mlambda\u001b[39;49;00m\u001b[43m \u001b[49m\u001b[43mx\u001b[49m\u001b[43m,\u001b[49m\u001b[43m \u001b[49m\u001b[43my\u001b[49m\u001b[43m,\u001b[49m\u001b[43m \u001b[49m\u001b[43muser\u001b[49m\u001b[43m,\u001b[49m\u001b[43m \u001b[49m\u001b[43mis_mod\u001b[49m\u001b[43m \u001b[49m\u001b[43m:\u001b[49m\u001b[43m \u001b[49m\u001b[43my\u001b[49m\u001b[43m,\u001b[49m\u001b[43m \u001b[49m\n\u001b[1;32m      3\u001b[0m \u001b[43m    \u001b[49m\u001b[38;5;28;43;01mlambda\u001b[39;49;00m\u001b[43m \u001b[49m\u001b[43ml\u001b[49m\u001b[43m \u001b[49m\u001b[43m:\u001b[49m\u001b[43m \u001b[49m\u001b[38;5;28;43mlist\u001b[39;49m\u001b[43m(\u001b[49m\u001b[43mtqdm\u001b[49m\u001b[43m(\u001b[49m\u001b[43m(\u001b[49m\u001b[43mconvertImage\u001b[49m\u001b[43m(\u001b[49m\u001b[43mx\u001b[49m\u001b[43m,\u001b[49m\u001b[43mstring_to_color\u001b[49m\u001b[43m)\u001b[49m\u001b[43m \u001b[49m\u001b[38;5;28;43;01mfor\u001b[39;49;00m\u001b[43m \u001b[49m\u001b[43mx\u001b[49m\u001b[43m \u001b[49m\u001b[38;5;129;43;01min\u001b[39;49;00m\u001b[43m \u001b[49m\u001b[43ml\u001b[49m\u001b[43m)\u001b[49m\u001b[43m,\u001b[49m\u001b[43m \u001b[49m\u001b[43mtotal\u001b[49m\u001b[38;5;241;43m=\u001b[39;49m\u001b[38;5;28;43mlen\u001b[39;49m\u001b[43m(\u001b[49m\u001b[43ml\u001b[49m\u001b[43m)\u001b[49m\u001b[43m)\u001b[49m\u001b[43m)\u001b[49m\u001b[43m,\u001b[49m\u001b[43m \u001b[49m\n\u001b[1;32m      4\u001b[0m \u001b[43m    \u001b[49m\u001b[43mpd\u001b[49m\u001b[38;5;241;43m.\u001b[39;49m\u001b[43mTimedelta\u001b[49m\u001b[43m(\u001b[49m\u001b[43mminutes\u001b[49m\u001b[43m \u001b[49m\u001b[38;5;241;43m=\u001b[39;49m\u001b[43m \u001b[49m\u001b[38;5;241;43m15\u001b[39;49m\u001b[43m)\u001b[49m\u001b[43m,\u001b[49m\u001b[43m \u001b[49m\n\u001b[1;32m      5\u001b[0m \u001b[43m    \u001b[49m\u001b[43m[\u001b[49m\u001b[43m[\u001b[49m\u001b[38;5;124;43m\"\u001b[39;49m\u001b[38;5;124;43m#FFFFFF\u001b[39;49m\u001b[38;5;124;43m\"\u001b[39;49m\u001b[43m \u001b[49m\u001b[38;5;28;43;01mfor\u001b[39;49;00m\u001b[43m \u001b[49m\u001b[43mi\u001b[49m\u001b[43m \u001b[49m\u001b[38;5;129;43;01min\u001b[39;49;00m\u001b[43m \u001b[49m\u001b[38;5;28;43mrange\u001b[39;49m\u001b[43m(\u001b[49m\u001b[38;5;241;43m2000\u001b[39;49m\u001b[43m)\u001b[49m\u001b[43m]\u001b[49m\u001b[43m \u001b[49m\u001b[38;5;28;43;01mfor\u001b[39;49;00m\u001b[43m \u001b[49m\u001b[43mi\u001b[49m\u001b[43m \u001b[49m\u001b[38;5;129;43;01min\u001b[39;49;00m\u001b[43m \u001b[49m\u001b[38;5;28;43mrange\u001b[39;49m\u001b[43m(\u001b[49m\u001b[38;5;241;43m1000\u001b[39;49m\u001b[43m)\u001b[49m\u001b[43m]\u001b[49m\u001b[43m,\u001b[49m\n\u001b[1;32m      6\u001b[0m \u001b[43m    \u001b[49m\u001b[38;5;124;43m\"\u001b[39;49m\u001b[38;5;124;43mimage\u001b[39;49m\u001b[38;5;124;43m\"\u001b[39;49m\u001b[43m,\u001b[49m\n\u001b[1;32m      7\u001b[0m \u001b[43m)\u001b[49m\n",
      "File \u001b[0;32m~/Documents/GitHub/rplace_data_mining/utils.py:185\u001b[0m, in \u001b[0;36mvisualise_at_interval\u001b[0;34m(summary_function, transforms, interval, startingState, rezfilename, startingTimeStamp, EndingTimeStamp, duration, rez)\u001b[0m\n\u001b[1;32m    182\u001b[0m files_and_timestamp \u001b[39m=\u001b[39m data\u001b[39m.\u001b[39mstartStamps\n\u001b[1;32m    184\u001b[0m \u001b[39m# Transform Timedelta to ms\u001b[39;00m\n\u001b[0;32m--> 185\u001b[0m startingTimeStamp \u001b[39m=\u001b[39m convert_to_milliseconds(startingTimeStamp)\n\u001b[1;32m    186\u001b[0m EndingTimeStamp \u001b[39m=\u001b[39m convert_to_milliseconds(EndingTimeStamp)\n\u001b[1;32m    187\u001b[0m duration \u001b[39m=\u001b[39m convert_to_milliseconds(duration)\n",
      "File \u001b[0;32m~/Documents/GitHub/rplace_data_mining/utils.py:152\u001b[0m, in \u001b[0;36mconvert_to_milliseconds\u001b[0;34m(value)\u001b[0m\n\u001b[1;32m    151\u001b[0m \u001b[39mdef\u001b[39;00m \u001b[39mconvert_to_milliseconds\u001b[39m(value: TimePassed) \u001b[39m-\u001b[39m\u001b[39m>\u001b[39m \u001b[39mint\u001b[39m:\n\u001b[0;32m--> 152\u001b[0m     \u001b[39m1\u001b[39;49m\u001b[39m/\u001b[39;49m\u001b[39m0\u001b[39;49m\n\u001b[1;32m    153\u001b[0m     \u001b[39mif\u001b[39;00m \u001b[39misinstance\u001b[39m(value, pd\u001b[39m.\u001b[39mTimedelta):\n\u001b[1;32m    154\u001b[0m         \u001b[39mreturn\u001b[39;00m value\u001b[39m.\u001b[39mmicroseconds \u001b[39m/\u001b[39m\u001b[39m/\u001b[39m \u001b[39m1000\u001b[39m\n",
      "\u001b[0;31mZeroDivisionError\u001b[0m: division by zero"
     ]
    }
   ],
   "source": [
    "visualise_at_interval(\n",
    "    lambda x, y, user, is_mod : y, \n",
    "    lambda l : list(tqdm((convertImage(x,string_to_color) for x in l), total=len(l))), \n",
    "    pd.Timedelta(minutes = 15), \n",
    "    [[\"#FFFFFF\" for i in range(2000)] for i in range(1000)],\n",
    "    \"image\",\n",
    ") "
   ]
  },
  {
   "cell_type": "markdown",
   "metadata": {},
   "source": [
    "# Activity"
   ]
  },
  {
   "cell_type": "code",
   "execution_count": 19,
   "metadata": {},
   "outputs": [],
   "source": [
    "def get_transform(images, blur = 0):\n",
    "    blurImages =[gaussian_filter(np.array(img), blur) for img in images]\n",
    "    maximum = np.max(blurImages)\n",
    "    custom_cmap = ScalarMappable(cmap='RdBu_r', norm=LogNorm(vmin=1, vmax=maximum + 1))\n",
    "    return [custom_cmap.to_rgba(img, bytes= True) for img in blurImages]"
   ]
  },
  {
   "cell_type": "code",
   "execution_count": 24,
   "metadata": {},
   "outputs": [
    {
     "name": "stdout",
     "output_type": "stream",
     "text": [
      "loaded file : 2023_place_canvas_history-000000000019.csv.gzip\n",
      "\n",
      "start making visualizations\n",
      "results saved on activite.gif\n"
     ]
    }
   ],
   "source": [
    "\n",
    "visualise_at_interval(\n",
    "    lambda x, y, user, is_mod : x + 1, \n",
    "    get_transform,\n",
    "    pd.Timedelta(minutes = 15), \n",
    "    np.ones((1000,2000)),\n",
    "    \"activite\",\n",
    "    duration = pd.Timedelta(minutes = 30),\n",
    ") "
   ]
  },
  {
   "cell_type": "code",
   "execution_count": 26,
   "metadata": {},
   "outputs": [
    {
     "name": "stdout",
     "output_type": "stream",
     "text": [
      "loaded file : 2023_place_canvas_history-000000000019.csv.gzip\n",
      "\n",
      "start making visualizations\n",
      "results saved on activite_total.gif\n"
     ]
    }
   ],
   "source": [
    "\n",
    "visualise_at_interval(\n",
    "    lambda x, y, user, is_mod  : x + 1, \n",
    "    get_transform, \n",
    "    -1, \n",
    "    np.ones((1000,2000)),\n",
    "    \"activite_total\",\n",
    ") "
   ]
  },
  {
   "cell_type": "code",
   "execution_count": null,
   "metadata": {},
   "outputs": [],
   "source": [
    "blurs =[1,2,5,10,50,100]\n",
    "visualise_at_interval(\n",
    "    lambda x, y, user, is_mod  : x + 1, \n",
    "    { str(blur) : partial(get_transform, blur = blur) for blur in blurs}, \n",
    "    pd.Timedelta(minutes = 15), \n",
    "    np.ones((1000,1000)),\n",
    "    lambda blur : f\"activite_blur_{blur}\",\n",
    "    duration = pd.Timedelta(minutes = 30),\n",
    ") \n",
    "\n",
    "\n",
    "visualise_at_interval(\n",
    "    lambda x, y, user, is_mod  : x + int(not is_mod), \n",
    "    { str(blur) : partial(get_transform, blur = blur) for blur in blurs}, \n",
    "    pd.Timedelta(minutes = 15), \n",
    "    np.ones((1000,1000)),\n",
    "    lambda blur : f\"activite_blur_no_moderator_{blur}\",\n",
    "    duration = pd.Timedelta(minutes = 30),\n",
    ") \n"
   ]
  },
  {
   "cell_type": "markdown",
   "metadata": {},
   "source": [
    "# Variété d'utilisateur"
   ]
  },
  {
   "cell_type": "code",
   "execution_count": 35,
   "metadata": {},
   "outputs": [],
   "source": [
    "def compose(f, g):\n",
    "    return lambda *args, **kwargs : f(g(*args, **kwargs))\n",
    "\n",
    "def add_user(user, users):\n",
    "    users.add(user)\n",
    "    return users\n",
    "\n",
    "def from_users_sets_by_points_to_len_by_points(images):\n",
    "    return [[[len(user_set)+1 for user_set in row] for row in image] for image in images]"
   ]
  },
  {
   "cell_type": "code",
   "execution_count": 37,
   "metadata": {},
   "outputs": [
    {
     "data": {
      "text/plain": [
       "just made summary from 2023-07-20 13:55:26.088000+00:00 to 2023-07-20 14:10:26.088000+00:00"
      ]
     },
     "metadata": {},
     "output_type": "display_data"
    },
    {
     "name": "stdout",
     "output_type": "stream",
     "text": [
      "start loading file: 2023_place_canvas_history-000000000000.csv\n",
      "start formating data\n",
      "loaded file : 2023_place_canvas_history-000000000000.csv\n",
      "results saved on users_variety_blur1.gif\n",
      "results saved on users_variety_blur5.gif\n",
      "results saved on users_variety_blur10.gif\n"
     ]
    }
   ],
   "source": [
    "blurs =[1,5,10]\n",
    "visualise_at_interval(\n",
    "    lambda users, _, user, is_mod  : users if is_mod else add_user(user, users), \n",
    "    { str(blur) : compose(partial(get_transform, blur = blur),\n",
    "                          from_users_sets_by_points_to_len_by_points) for blur in blurs}, \n",
    "    pd.Timedelta(minutes = 5), \n",
    "    [[set() for i in range(1000)] for j in range(1000)],\n",
    "    lambda blur : f\"users_variety_blur{blur}\",\n",
    "    duration = pd.Timedelta(minutes = 15),\n",
    "    EndingTimeStamp= pd.Timestamp(\"2023-07-20 14:00:26.088 UTC\")\n",
    ")"
   ]
  },
  {
   "cell_type": "markdown",
   "metadata": {},
   "source": [
    "# Détection de communauté"
   ]
  },
  {
   "cell_type": "code",
   "execution_count": 3,
   "metadata": {},
   "outputs": [
    {
     "name": "stdout",
     "output_type": "stream",
     "text": [
      "loaded file : 2023_place_canvas_history-000000000019.csv.gzip\n",
      "\n",
      "start making visualizations\n"
     ]
    }
   ],
   "source": [
    "ennemies = {}\n",
    "moderators = set()\n",
    "\n",
    "def get_ennemy_and_return_new_user(last_user, color, user, is_mod):\n",
    "\n",
    "    if is_mod :\n",
    "        moderators.add(user)\n",
    "    if last_user :\n",
    "        if user not in ennemies:\n",
    "            ennemies[user] = set()\n",
    "        ennemies[user].add(last_user)\n",
    "    return user\n",
    "    \n",
    "visualise_at_interval(\n",
    "    get_ennemy_and_return_new_user, \n",
    "    {}, \n",
    "    -1, \n",
    "    [[\"\" for i in range(2000)] for j in range(1000)],\n",
    "    \"\",\n",
    ") "
   ]
  },
  {
   "cell_type": "code",
   "execution_count": null,
   "metadata": {},
   "outputs": [],
   "source": [
    "def graph_from_neighbors_dict(neighbors_dict):\n",
    "    # Create a NetworkX graph\n",
    "    G = nx.Graph()\n",
    "\n",
    "\n",
    "    # Add edges to the graph\n",
    "    G.add_edges_from((node,neighbor) for node, neighbors in neighbors_dict.items() for neighbor in neighbors)"
   ]
  },
  {
   "cell_type": "markdown",
   "metadata": {},
   "source": [
    "# Todo"
   ]
  },
  {
   "cell_type": "markdown",
   "metadata": {},
   "source": [
    "\n",
    "matActivité forme : [x][y] = freq de maj --> image de l'activité bleu à rouge\n",
    "\n",
    "### map:\n",
    "- map de zone d'activité\n",
    "- map de zone d'activité par couleur?\n",
    "- map de certains utilisateurs actif \n",
    "- map de la couleur la plus utilisé\n",
    "- map de la variété d'utilisateurs\n",
    "- \n",
    "\n",
    "### statistique descriptive:\n",
    "- activité par utilisateur\n",
    "- activité par couleur\n",
    "- activité par heure\n",
    "\n",
    "### identifications:\n",
    "- identifié les bots\n",
    "- identifié communauté / projet de communauté\n",
    "- identification de la modération\n",
    "\n",
    "### technique:\n",
    "- download\n",
    "- augmentation taille grille\n",
    "- detection des antagonistes pour trouver les communautés\n",
    "- prétraitemtent des temps et diverse valeur pour réduire le temps d'ouverture"
   ]
  }
 ],
 "metadata": {
  "kernelspec": {
   "display_name": "Python 3.10.9 ('base')",
   "language": "python",
   "name": "python3"
  },
  "language_info": {
   "codemirror_mode": {
    "name": "ipython",
    "version": 3
   },
   "file_extension": ".py",
   "mimetype": "text/x-python",
   "name": "python",
   "nbconvert_exporter": "python",
   "pygments_lexer": "ipython3",
   "version": "3.10.13"
  },
  "orig_nbformat": 4,
  "vscode": {
   "interpreter": {
    "hash": "a5a318b75a7586e7126ee807ac3c15c9d32b27634cac574e72ad2f13c9c76b5e"
   }
  }
 },
 "nbformat": 4,
 "nbformat_minor": 2
}
