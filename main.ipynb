{
 "cells": [
  {
   "cell_type": "markdown",
   "metadata": {},
   "source": []
  },
  {
   "cell_type": "code",
   "execution_count": 2,
   "metadata": {},
   "outputs": [],
   "source": [
    "%load_ext autoreload\n",
    "import pandas as pd\n",
    "import numpy as np\n",
    "from matplotlib.colors import LogNorm\n",
    "from matplotlib.cm import ScalarMappable\n",
    "from scipy.ndimage import gaussian_filter\n",
    "from functools import partial\n",
    "import operator\n",
    "from IPython.display import clear_output\n",
    "from tqdm import tqdm\n",
    "import networkx as nx\n",
    "import timeit\n",
    "import random"
   ]
  },
  {
   "cell_type": "code",
   "execution_count": 3,
   "metadata": {},
   "outputs": [
    {
     "name": "stdout",
     "output_type": "stream",
     "text": [
      "Warning: Your Kaggle API key is readable by other users on this system! To fix this, you can run 'chmod 600 /Users/timothebonhoure/.kaggle/kaggle.json'\n"
     ]
    }
   ],
   "source": [
    "%autoreload 2\n",
    "from utils import summary, visualise, string_to_color, visualise_at_interval, convertImage, initialize_data_loader"
   ]
  },
  {
   "cell_type": "markdown",
   "metadata": {},
   "source": [
    "# Canvas reproduction"
   ]
  },
  {
   "cell_type": "code",
   "execution_count": 4,
   "metadata": {},
   "outputs": [
    {
     "name": "stdout",
     "output_type": "stream",
     "text": [
      "Warning: Your Kaggle API key is readable by other users on this system! To fix this, you can run 'chmod 600 /Users/timothebonhoure/.kaggle/kaggle.json'\n"
     ]
    },
    {
     "ename": "ZeroDivisionError",
     "evalue": "division by zero",
     "output_type": "error",
     "traceback": [
      "\u001b[0;31m---------------------------------------------------------------------------\u001b[0m",
      "\u001b[0;31mZeroDivisionError\u001b[0m                         Traceback (most recent call last)",
      "Cell \u001b[0;32mIn[4], line 1\u001b[0m\n\u001b[0;32m----> 1\u001b[0m \u001b[43mvisualise_at_interval\u001b[49m\u001b[43m(\u001b[49m\n\u001b[1;32m      2\u001b[0m \u001b[43m    \u001b[49m\u001b[38;5;28;43;01mlambda\u001b[39;49;00m\u001b[43m \u001b[49m\u001b[43mx\u001b[49m\u001b[43m,\u001b[49m\u001b[43m \u001b[49m\u001b[43my\u001b[49m\u001b[43m,\u001b[49m\u001b[43m \u001b[49m\u001b[43muser\u001b[49m\u001b[43m,\u001b[49m\u001b[43m \u001b[49m\u001b[43mis_mod\u001b[49m\u001b[43m \u001b[49m\u001b[43m:\u001b[49m\u001b[43m \u001b[49m\u001b[43my\u001b[49m\u001b[43m,\u001b[49m\u001b[43m \u001b[49m\n\u001b[1;32m      3\u001b[0m \u001b[43m    \u001b[49m\u001b[38;5;28;43;01mlambda\u001b[39;49;00m\u001b[43m \u001b[49m\u001b[43ml\u001b[49m\u001b[43m \u001b[49m\u001b[43m:\u001b[49m\u001b[43m \u001b[49m\u001b[38;5;28;43mlist\u001b[39;49m\u001b[43m(\u001b[49m\u001b[43mtqdm\u001b[49m\u001b[43m(\u001b[49m\u001b[43m(\u001b[49m\u001b[43mconvertImage\u001b[49m\u001b[43m(\u001b[49m\u001b[43mx\u001b[49m\u001b[43m,\u001b[49m\u001b[43mstring_to_color\u001b[49m\u001b[43m)\u001b[49m\u001b[43m \u001b[49m\u001b[38;5;28;43;01mfor\u001b[39;49;00m\u001b[43m \u001b[49m\u001b[43mx\u001b[49m\u001b[43m \u001b[49m\u001b[38;5;129;43;01min\u001b[39;49;00m\u001b[43m \u001b[49m\u001b[43ml\u001b[49m\u001b[43m)\u001b[49m\u001b[43m,\u001b[49m\u001b[43m \u001b[49m\u001b[43mtotal\u001b[49m\u001b[38;5;241;43m=\u001b[39;49m\u001b[38;5;28;43mlen\u001b[39;49m\u001b[43m(\u001b[49m\u001b[43ml\u001b[49m\u001b[43m)\u001b[49m\u001b[43m)\u001b[49m\u001b[43m)\u001b[49m\u001b[43m,\u001b[49m\u001b[43m \u001b[49m\n\u001b[1;32m      4\u001b[0m \u001b[43m    \u001b[49m\u001b[43mpd\u001b[49m\u001b[38;5;241;43m.\u001b[39;49m\u001b[43mTimedelta\u001b[49m\u001b[43m(\u001b[49m\u001b[43mminutes\u001b[49m\u001b[43m \u001b[49m\u001b[38;5;241;43m=\u001b[39;49m\u001b[43m \u001b[49m\u001b[38;5;241;43m15\u001b[39;49m\u001b[43m)\u001b[49m\u001b[43m,\u001b[49m\u001b[43m \u001b[49m\n\u001b[1;32m      5\u001b[0m \u001b[43m    \u001b[49m\u001b[43m[\u001b[49m\u001b[43m[\u001b[49m\u001b[38;5;124;43m\"\u001b[39;49m\u001b[38;5;124;43m#FFFFFF\u001b[39;49m\u001b[38;5;124;43m\"\u001b[39;49m\u001b[43m \u001b[49m\u001b[38;5;28;43;01mfor\u001b[39;49;00m\u001b[43m \u001b[49m\u001b[43mi\u001b[49m\u001b[43m \u001b[49m\u001b[38;5;129;43;01min\u001b[39;49;00m\u001b[43m \u001b[49m\u001b[38;5;28;43mrange\u001b[39;49m\u001b[43m(\u001b[49m\u001b[38;5;241;43m2000\u001b[39;49m\u001b[43m)\u001b[49m\u001b[43m]\u001b[49m\u001b[43m \u001b[49m\u001b[38;5;28;43;01mfor\u001b[39;49;00m\u001b[43m \u001b[49m\u001b[43mi\u001b[49m\u001b[43m \u001b[49m\u001b[38;5;129;43;01min\u001b[39;49;00m\u001b[43m \u001b[49m\u001b[38;5;28;43mrange\u001b[39;49m\u001b[43m(\u001b[49m\u001b[38;5;241;43m1000\u001b[39;49m\u001b[43m)\u001b[49m\u001b[43m]\u001b[49m\u001b[43m,\u001b[49m\n\u001b[1;32m      6\u001b[0m \u001b[43m    \u001b[49m\u001b[38;5;124;43m\"\u001b[39;49m\u001b[38;5;124;43mimage\u001b[39;49m\u001b[38;5;124;43m\"\u001b[39;49m\u001b[43m,\u001b[49m\n\u001b[1;32m      7\u001b[0m \u001b[43m)\u001b[49m\n",
      "File \u001b[0;32m~/Documents/GitHub/rplace_data_mining/utils.py:185\u001b[0m, in \u001b[0;36mvisualise_at_interval\u001b[0;34m(summary_function, transforms, interval, startingState, rezfilename, startingTimeStamp, EndingTimeStamp, duration, rez)\u001b[0m\n\u001b[1;32m    182\u001b[0m files_and_timestamp \u001b[39m=\u001b[39m data\u001b[39m.\u001b[39mstartStamps\n\u001b[1;32m    184\u001b[0m \u001b[39m# Transform Timedelta to ms\u001b[39;00m\n\u001b[0;32m--> 185\u001b[0m startingTimeStamp \u001b[39m=\u001b[39m convert_to_milliseconds(startingTimeStamp)\n\u001b[1;32m    186\u001b[0m EndingTimeStamp \u001b[39m=\u001b[39m convert_to_milliseconds(EndingTimeStamp)\n\u001b[1;32m    187\u001b[0m duration \u001b[39m=\u001b[39m convert_to_milliseconds(duration)\n",
      "File \u001b[0;32m~/Documents/GitHub/rplace_data_mining/utils.py:152\u001b[0m, in \u001b[0;36mconvert_to_milliseconds\u001b[0;34m(value)\u001b[0m\n\u001b[1;32m    151\u001b[0m \u001b[39mdef\u001b[39;00m \u001b[39mconvert_to_milliseconds\u001b[39m(value: TimePassed) \u001b[39m-\u001b[39m\u001b[39m>\u001b[39m \u001b[39mint\u001b[39m:\n\u001b[0;32m--> 152\u001b[0m     \u001b[39m1\u001b[39;49m\u001b[39m/\u001b[39;49m\u001b[39m0\u001b[39;49m\n\u001b[1;32m    153\u001b[0m     \u001b[39mif\u001b[39;00m \u001b[39misinstance\u001b[39m(value, pd\u001b[39m.\u001b[39mTimedelta):\n\u001b[1;32m    154\u001b[0m         \u001b[39mreturn\u001b[39;00m value\u001b[39m.\u001b[39mmicroseconds \u001b[39m/\u001b[39m\u001b[39m/\u001b[39m \u001b[39m1000\u001b[39m\n",
      "\u001b[0;31mZeroDivisionError\u001b[0m: division by zero"
     ]
    }
   ],
   "source": [
    "visualise_at_interval(\n",
    "    lambda rez, row : row.pixel_color, \n",
    "    lambda l : list(tqdm((convertImage(x,string_to_color) for x in l), total=len(l))), \n",
    "    pd.Timedelta(minutes = 15), \n",
    "    [[\"#FFFFFF\" for i in range(2000)] for i in range(1000)],\n",
    "    \"image\",\n",
    ") "
   ]
  },
  {
   "cell_type": "markdown",
   "metadata": {},
   "source": [
    "# Activity"
   ]
  },
  {
   "cell_type": "code",
   "execution_count": 19,
   "metadata": {},
   "outputs": [],
   "source": [
    "def get_transform(images, blur = 0):\n",
    "    blurImages =[gaussian_filter(np.array(img), blur) for img in images]\n",
    "    maximum = np.max(blurImages)\n",
    "    custom_cmap = ScalarMappable(cmap='RdBu_r', norm=LogNorm(vmin=1, vmax=maximum + 1))\n",
    "    return [custom_cmap.to_rgba(img, bytes= True) for img in blurImages]"
   ]
  },
  {
   "cell_type": "code",
   "execution_count": 24,
   "metadata": {},
   "outputs": [
    {
     "name": "stdout",
     "output_type": "stream",
     "text": [
      "loaded file : 2023_place_canvas_history-000000000019.csv.gzip\n",
      "\n",
      "start making visualizations\n",
      "results saved on activite.gif\n"
     ]
    }
   ],
   "source": [
    "\n",
    "visualise_at_interval(\n",
    "    lambda rez, row: rez + 1, \n",
    "    get_transform,\n",
    "    pd.Timedelta(minutes = 15), \n",
    "    np.ones((1000,2000)),\n",
    "    \"activite\",\n",
    "    duration = pd.Timedelta(minutes = 30),\n",
    ") "
   ]
  },
  {
   "cell_type": "code",
   "execution_count": 26,
   "metadata": {},
   "outputs": [
    {
     "name": "stdout",
     "output_type": "stream",
     "text": [
      "loaded file : 2023_place_canvas_history-000000000019.csv.gzip\n",
      "\n",
      "start making visualizations\n",
      "results saved on activite_total.gif\n"
     ]
    }
   ],
   "source": [
    "\n",
    "visualise_at_interval(\n",
    "    lambda rez, row : rez + 1, \n",
    "    get_transform, \n",
    "    -1, \n",
    "    np.ones((1000,2000)),\n",
    "    \"activite_total\",\n",
    ") "
   ]
  },
  {
   "cell_type": "code",
   "execution_count": null,
   "metadata": {},
   "outputs": [],
   "source": [
    "blurs =[1,2,5,10,50,100]\n",
    "visualise_at_interval(\n",
    "    lambda rez, row  : rez + 1, \n",
    "    { str(blur) : partial(get_transform, blur = blur) for blur in blurs}, \n",
    "    pd.Timedelta(minutes = 15), \n",
    "    np.ones((1000,1000)),\n",
    "    lambda blur : f\"activite_blur_{blur}\",\n",
    "    duration = pd.Timedelta(minutes = 30),\n",
    ") \n",
    "\n",
    "\n",
    "visualise_at_interval(\n",
    "    lambda rez, row : rez + int(not row.is_mod), \n",
    "    { str(blur) : partial(get_transform, blur = blur) for blur in blurs}, \n",
    "    pd.Timedelta(minutes = 15), \n",
    "    np.ones((1000,1000)),\n",
    "    lambda blur : f\"activite_blur_no_moderator_{blur}\",\n",
    "    duration = pd.Timedelta(minutes = 30),\n",
    ") \n"
   ]
  },
  {
   "cell_type": "markdown",
   "metadata": {},
   "source": [
    "# Variété d'utilisateur"
   ]
  },
  {
   "cell_type": "code",
   "execution_count": 35,
   "metadata": {},
   "outputs": [],
   "source": [
    "def compose(f, g):\n",
    "    return lambda *args, **kwargs : f(g(*args, **kwargs))\n",
    "\n",
    "def add_user(user, users):\n",
    "    users.add(user)\n",
    "    return users\n",
    "\n",
    "def from_users_sets_by_points_to_len_by_points(images):\n",
    "    return [[[len(user_set)+1 for user_set in row] for row in image] for image in images]"
   ]
  },
  {
   "cell_type": "code",
   "execution_count": 37,
   "metadata": {},
   "outputs": [
    {
     "data": {
      "text/plain": [
       "just made summary from 2023-07-20 13:55:26.088000+00:00 to 2023-07-20 14:10:26.088000+00:00"
      ]
     },
     "metadata": {},
     "output_type": "display_data"
    },
    {
     "name": "stdout",
     "output_type": "stream",
     "text": [
      "start loading file: 2023_place_canvas_history-000000000000.csv\n",
      "start formating data\n",
      "loaded file : 2023_place_canvas_history-000000000000.csv\n",
      "results saved on users_variety_blur1.gif\n",
      "results saved on users_variety_blur5.gif\n",
      "results saved on users_variety_blur10.gif\n"
     ]
    }
   ],
   "source": [
    "blurs =[1,5,10]\n",
    "visualise_at_interval(\n",
    "    lambda users, _, user, is_mod  : users if is_mod else add_user(user, users), \n",
    "    { str(blur) : compose(partial(get_transform, blur = blur),\n",
    "                          from_users_sets_by_points_to_len_by_points) for blur in blurs}, \n",
    "    pd.Timedelta(minutes = 5), \n",
    "    [[set() for i in range(1000)] for j in range(1000)],\n",
    "    lambda blur : f\"users_variety_blur{blur}\",\n",
    "    duration = pd.Timedelta(minutes = 15),\n",
    ")"
   ]
  },
  {
   "cell_type": "markdown",
   "metadata": {},
   "source": [
    "# Détection de communauté"
   ]
  },
  {
   "cell_type": "code",
   "execution_count": 14,
   "metadata": {},
   "outputs": [
    {
     "name": "stdout",
     "output_type": "stream",
     "text": [
      "loaded file : 2023_place_canvas_history-000000000019.csv.gzip\n",
      "\n",
      "start making visualizations\n"
     ]
    }
   ],
   "source": [
    "ennemies = {}\n",
    "moderators = set()\n",
    "\n",
    "def get_ennemy_and_return_new_user(last_user, row, is_mod):\n",
    "\n",
    "    if is_mod :\n",
    "        moderators.add(row.user)\n",
    "    if last_user :\n",
    "        if not row.user in ennemies:\n",
    "            ennemies[row.user] = {}\n",
    "        ennemies[row.user][last_user] = ennemies[row.user].get(last_user, 0) + 1\n",
    "    return row.user\n",
    "\n",
    "\n",
    "visualise_at_interval(\n",
    "    get_ennemy_and_return_new_user, \n",
    "    {}, \n",
    "    -1, \n",
    "    [[\"\" for i in range(2000)] for j in range(1000)],\n",
    "    \"\",\n",
    ") "
   ]
  },
  {
   "cell_type": "code",
   "execution_count": 17,
   "metadata": {},
   "outputs": [
    {
     "name": "stderr",
     "output_type": "stream",
     "text": [
      "  0%|          | 1/2359617 [00:00<05:09, 7626.01it/s]"
     ]
    },
    {
     "name": "stdout",
     "output_type": "stream",
     "text": [
      "{}\n",
      "None\n",
      "202 1000\n",
      "0,-298\n"
     ]
    },
    {
     "name": "stderr",
     "output_type": "stream",
     "text": [
      "\n"
     ]
    },
    {
     "ename": "AttributeError",
     "evalue": "'NoneType' object has no attribute 'get'",
     "output_type": "error",
     "traceback": [
      "\u001b[0;31m---------------------------------------------------------------------------\u001b[0m",
      "\u001b[0;31mAttributeError\u001b[0m                            Traceback (most recent call last)",
      "Cell \u001b[0;32mIn[17], line 17\u001b[0m\n\u001b[1;32m     14\u001b[0m     \u001b[38;5;28;01mif\u001b[39;00m \u001b[38;5;129;01mnot\u001b[39;00m is_mod:\n\u001b[1;32m     15\u001b[0m         colors[row\u001b[38;5;241m.\u001b[39mpixel_color] \u001b[38;5;241m=\u001b[39m colors\u001b[38;5;241m.\u001b[39mget(row\u001b[38;5;241m.\u001b[39mpixel_color, \u001b[38;5;241m0\u001b[39m) \u001b[38;5;241m+\u001b[39m \u001b[38;5;241m1\u001b[39m\n\u001b[0;32m---> 17\u001b[0m \u001b[43mvisualise_at_interval\u001b[49m\u001b[43m(\u001b[49m\n\u001b[1;32m     18\u001b[0m \u001b[43m    \u001b[49m\u001b[43mget_color\u001b[49m\u001b[43m,\u001b[49m\u001b[43m \u001b[49m\n\u001b[1;32m     19\u001b[0m \u001b[43m    \u001b[49m\u001b[43m{\u001b[49m\u001b[43m}\u001b[49m\u001b[43m,\u001b[49m\n\u001b[1;32m     20\u001b[0m \u001b[43m    \u001b[49m\u001b[38;5;241;43m-\u001b[39;49m\u001b[38;5;241;43m1\u001b[39;49m\u001b[43m,\u001b[49m\n\u001b[1;32m     21\u001b[0m \u001b[43m    \u001b[49m\u001b[43mall_in_one\u001b[49m\u001b[43m(\u001b[49m\u001b[43mall_in_one\u001b[49m\u001b[43m(\u001b[49m\u001b[43m{\u001b[49m\u001b[43m}\u001b[49m\u001b[43m)\u001b[49m\u001b[43m)\u001b[49m\u001b[43m,\u001b[49m\n\u001b[1;32m     22\u001b[0m \u001b[43m    \u001b[49m\u001b[38;5;124;43m\"\u001b[39;49m\u001b[38;5;124;43m\"\u001b[39;49m\u001b[43m,\u001b[49m\n\u001b[1;32m     23\u001b[0m \u001b[43m)\u001b[49m\n",
      "File \u001b[0;32m~/Documents/GitHub/rplace_data_mining/utils.py:215\u001b[0m, in \u001b[0;36mvisualise_at_interval\u001b[0;34m(summary_function, transforms, interval, startingState, rezfilename, startingTimeStamp, EndingTimeStamp, duration, rez)\u001b[0m\n\u001b[1;32m    211\u001b[0m rez.append(startingState)\n\u001b[1;32m    212\u001b[0m start_idx = idx\n\u001b[1;32m    214\u001b[0m while currentTimeStamp < EndingTimeStamp:\n\u001b[0;32m--> 215\u001b[0m     # make the summary\n\u001b[1;32m    216\u001b[0m     currentState = summary(\n\u001b[1;32m    217\u001b[0m         currentTimeStamp, nextTimeStamp, currentState, df, summary_function)\n\u001b[1;32m    218\u001b[0m     if nextTimeStamp > nextFileTimeStamp and idx + 1 < len(files_and_timestamp):\n",
      "File \u001b[0;32m~/Documents/GitHub/rplace_data_mining/utils.py:127\u001b[0m, in \u001b[0;36msummary\u001b[0;34m(startingTimeStamp, EndingTimeStamp, startingData, df, summary_function)\u001b[0m\n\u001b[1;32m    125\u001b[0m         \u001b[39mexcept\u001b[39;00m \u001b[39mException\u001b[39;00m \u001b[39mas\u001b[39;00m e:\n\u001b[1;32m    126\u001b[0m             \u001b[39mprint\u001b[39m(x, y)\n\u001b[0;32m--> 127\u001b[0m             \u001b[39mprint\u001b[39m(row\u001b[39m.\u001b[39mcoordinate)\n\u001b[1;32m    128\u001b[0m             \u001b[39mraise\u001b[39;00m e\n\u001b[1;32m    129\u001b[0m \u001b[39mreturn\u001b[39;00m rezData\n",
      "File \u001b[0;32m~/Documents/GitHub/rplace_data_mining/utils.py:122\u001b[0m, in \u001b[0;36msummary\u001b[0;34m(startingTimeStamp, EndingTimeStamp, startingData, df, summary_function)\u001b[0m\n\u001b[1;32m    120\u001b[0m x, y \u001b[39m=\u001b[39m coord\n\u001b[1;32m    121\u001b[0m \u001b[39mtry\u001b[39;00m:\n\u001b[0;32m--> 122\u001b[0m     rezData[x][y] \u001b[39m=\u001b[39m summary_function(\n\u001b[1;32m    123\u001b[0m         rezData[x][y], row, is_mod)\n\u001b[1;32m    124\u001b[0m \u001b[39mexcept\u001b[39;00m \u001b[39mException\u001b[39;00m \u001b[39mas\u001b[39;00m e:\n\u001b[1;32m    125\u001b[0m     \u001b[39mprint\u001b[39m(x, y)\n",
      "Cell \u001b[0;32mIn[17], line 15\u001b[0m, in \u001b[0;36mget_color\u001b[0;34m(colors, row, is_mod)\u001b[0m\n\u001b[1;32m     13\u001b[0m \u001b[38;5;28mprint\u001b[39m(colors)\n\u001b[1;32m     14\u001b[0m \u001b[38;5;28;01mif\u001b[39;00m \u001b[38;5;129;01mnot\u001b[39;00m is_mod:\n\u001b[0;32m---> 15\u001b[0m     colors[row\u001b[38;5;241m.\u001b[39mpixel_color] \u001b[38;5;241m=\u001b[39m \u001b[43mcolors\u001b[49m\u001b[38;5;241;43m.\u001b[39;49m\u001b[43mget\u001b[49m(row\u001b[38;5;241m.\u001b[39mpixel_color, \u001b[38;5;241m0\u001b[39m) \u001b[38;5;241m+\u001b[39m \u001b[38;5;241m1\u001b[39m\n",
      "\u001b[0;31mAttributeError\u001b[0m: 'NoneType' object has no attribute 'get'"
     ]
    }
   ],
   "source": [
    "class all_in_one:\n",
    "    def __init__(self, val) -> None:\n",
    "        self.val = val\n",
    "    \n",
    "    def __getitem__(self, index):\n",
    "        return self.val\n",
    "    \n",
    "    def __setitem__(self, index, val):\n",
    "        self.val = val\n",
    "\n",
    "\n",
    "def get_color (colors, row, is_mod):\n",
    "    if not is_mod:\n",
    "        colors[row.pixel_color] = colors.get(row.pixel_color, 0) + 1\n",
    "    return colors\n",
    "\n",
    "\n",
    "\n",
    "visualise_at_interval(\n",
    "    get_color, \n",
    "    {},\n",
    "    -1,\n",
    "    all_in_one(all_in_one({})),\n",
    "    \"\",\n",
    ")"
   ]
  },
  {
   "cell_type": "code",
   "execution_count": 4,
   "metadata": {},
   "outputs": [
    {
     "data": {
      "text/plain": [
       "47163075"
      ]
     },
     "execution_count": 4,
     "metadata": {},
     "output_type": "execute_result"
    }
   ],
   "source": [
    "total_link = sum(len(neighbors) for neighbors in ennemies.values())\n",
    "total_link"
   ]
  },
  {
   "cell_type": "code",
   "execution_count": 26,
   "metadata": {},
   "outputs": [
    {
     "name": "stdout",
     "output_type": "stream",
     "text": [
      "3000\n"
     ]
    }
   ],
   "source": [
    "from utils import convert_to_milliseconds\n",
    "\n",
    "print(convert_to_milliseconds(pd.Timedelta(milliseconds=3000)))"
   ]
  },
  {
   "cell_type": "code",
   "execution_count": null,
   "metadata": {},
   "outputs": [],
   "source": [
    "def make_symmetric(ennemies):\n",
    "    for node in ennemies:\n",
    "        for enemy in ennemies[node]:\n",
    "            ennemies[enemy][node] = ennemies[enemy].get(node,0) + ennemies[enemy][node]\n",
    "            \n",
    "\n",
    "def ennemies_of_enemies_are_friends(enemies):\n",
    "    make_symmetric(enemies)\n",
    "    enemies_of_enemies = {node : {enemy : -value for enemy, value in enemies[node].items()} for node in enemies}\n",
    "\n",
    "    for node in enemies:\n",
    "        for enemy in enemies[node]:\n",
    "            for enemy_of_enemy in enemies[enemy]:\n",
    "                enemies_of_enemies[node] = enemies_of_enemies.get(node,0) + "
   ]
  },
  {
   "cell_type": "code",
   "execution_count": 9,
   "metadata": {},
   "outputs": [
    {
     "name": "stdout",
     "output_type": "stream",
     "text": [
      "range(0, 5)\n"
     ]
    }
   ],
   "source": [
    "print(range(5))"
   ]
  },
  {
   "cell_type": "code",
   "execution_count": null,
   "metadata": {},
   "outputs": [],
   "source": [
    "# Create a NetworkX graph\n",
    "G_ennemies = nx.Graph(tqdm(((node,neighbor) for node, neighbors in ennemies.items() for neighbor in neighbors), total= total_link))"
   ]
  },
  {
   "cell_type": "code",
   "execution_count": 6,
   "metadata": {},
   "outputs": [],
   "source": [
    "import community"
   ]
  },
  {
   "cell_type": "code",
   "execution_count": 8,
   "metadata": {},
   "outputs": [],
   "source": [
    "G_basic = nx.Graph()\n",
    "G_basic.add_edges_from([(1,2),(2,3),(1,3),(1,4),(3,4),(1,5),(2,5),(4,5)])"
   ]
  },
  {
   "cell_type": "code",
   "execution_count": 9,
   "metadata": {},
   "outputs": [
    {
     "data": {
      "text/plain": [
       "[{1: 0, 2: 0, 3: 0, 4: 1, 5: 1}]"
      ]
     },
     "execution_count": 9,
     "metadata": {},
     "output_type": "execute_result"
    }
   ],
   "source": [
    "community.generate_dendrogram(G_basic, inverted= True)"
   ]
  },
  {
   "cell_type": "markdown",
   "metadata": {},
   "source": [
    "# Todo"
   ]
  },
  {
   "cell_type": "code",
   "execution_count": 4,
   "metadata": {},
   "outputs": [
    {
     "name": "stdout",
     "output_type": "stream",
     "text": [
      "loaded file : 2023_place_canvas_history-000000000019.csv.gzip\n",
      "\n",
      "start making visualizations\n"
     ]
    },
    {
     "data": {
      "text/plain": [
       "{'pixels': 49971807, 'mods': 296716, 'non_mods': 49675091}"
      ]
     },
     "execution_count": 4,
     "metadata": {},
     "output_type": "execute_result"
    }
   ],
   "source": [
    "stats = {'pixels': 0, 'mods': 0, 'non_mods': 0}\n",
    "users = set()\n",
    "def aggregate(stats, users, user, is_mod):\n",
    "    users.add(user)\n",
    "    stats['pixels'] += 1\n",
    "    if is_mod:\n",
    "        stats['mods'] += 1\n",
    "    else:\n",
    "        stats['non_mods'] += 1\n",
    "\n",
    "visualise_at_interval(\n",
    "    lambda x, y, user, is_mod : aggregate(stats, users, user, is_mod),\n",
    "    {}, \n",
    "    pd.Timedelta(minutes= 30), \n",
    "    [[\"#FFFFFF\" for i in range(2000)] for i in range(1000)],\n",
    "    \"image\",\n",
    ") \n",
    "stats, users"
   ]
  },
  {
   "cell_type": "markdown",
   "metadata": {},
   "source": [
    "\n",
    "matActivité forme : [x][y] = freq de maj --> image de l'activité bleu à rouge\n",
    "\n",
    "### map:\n",
    "- map de zone d'activité\n",
    "- map de zone d'activité par couleur?\n",
    "- map de certains utilisateurs actif \n",
    "- map de la couleur la plus utilisé\n",
    "- map de la variété d'utilisateurs\n",
    "- \n",
    "\n",
    "### statistique descriptive:\n",
    "- activité par utilisateur\n",
    "- activité par couleur\n",
    "- activité par heure\n",
    "\n",
    "### identifications:\n",
    "- identifié les bots\n",
    "- identifié communauté / projet de communauté\n",
    "- identification de la modération\n",
    "\n",
    "### technique:\n",
    "- download fait\n",
    "- augmentation taille grille fait\n",
    "- detection des antagonistes pour trouver les communautés fait\n",
    "- prétraitemtent des temps et diverse valeur pour réduire le temps d'ouverture fait"
   ]
  }
 ],
 "metadata": {
  "kernelspec": {
   "display_name": "Python 3.10.9 ('base')",
   "language": "python",
   "name": "python3"
  },
  "language_info": {
   "codemirror_mode": {
    "name": "ipython",
    "version": 3
   },
   "file_extension": ".py",
   "mimetype": "text/x-python",
   "name": "python",
   "nbconvert_exporter": "python",
   "pygments_lexer": "ipython3",
   "version": "3.10.13"
  },
  "orig_nbformat": 4,
  "vscode": {
   "interpreter": {
    "hash": "a5a318b75a7586e7126ee807ac3c15c9d32b27634cac574e72ad2f13c9c76b5e"
   }
  }
 },
 "nbformat": 4,
 "nbformat_minor": 2
}
