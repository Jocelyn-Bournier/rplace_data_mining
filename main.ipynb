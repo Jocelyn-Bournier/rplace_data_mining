{
 "cells": [
  {
   "cell_type": "markdown",
   "metadata": {},
   "source": []
  },
  {
   "cell_type": "code",
   "execution_count": 71,
   "metadata": {},
   "outputs": [
    {
     "name": "stdout",
     "output_type": "stream",
     "text": [
      "Warning: Your Kaggle API key is readable by other users on this system! To fix this, you can run 'chmod 600 /Users/timothebonhoure/.kaggle/kaggle.json'\n",
      "The autoreload extension is already loaded. To reload it, use:\n",
      "  %reload_ext autoreload\n"
     ]
    }
   ],
   "source": [
    "%load_ext autoreload\n",
    "import pandas as pd\n",
    "import numpy as np\n",
    "from matplotlib.colors import LogNorm\n",
    "from matplotlib.cm import ScalarMappable\n",
    "from scipy.ndimage import gaussian_filter\n",
    "from functools import partial\n",
    "import operator\n",
    "from IPython.display import clear_output\n",
    "from kaggle.api.kaggle_api_extended import KaggleApi"
   ]
  },
  {
   "cell_type": "code",
   "execution_count": 55,
   "metadata": {},
   "outputs": [
    {
     "name": "stdout",
     "output_type": "stream",
     "text": [
      "Warning: Your Kaggle API key is readable by other users on this system! To fix this, you can run 'chmod 600 /Users/timothebonhoure/.kaggle/kaggle.json'\n",
      "['2023_place_canvas_history-000000000000.csv', '2023_place_canvas_history-000000000001.csv', '2023_place_canvas_history-000000000002.csv', '2023_place_canvas_history-000000000003.csv', '2023_place_canvas_history-000000000004.csv', '2023_place_canvas_history-000000000005.csv', '2023_place_canvas_history-000000000006.csv', '2023_place_canvas_history-000000000007.csv', '2023_place_canvas_history-000000000008.csv', '2023_place_canvas_history-000000000009.csv', '2023_place_canvas_history-000000000010.csv', '2023_place_canvas_history-000000000011.csv', '2023_place_canvas_history-000000000012.csv', '2023_place_canvas_history-000000000013.csv', '2023_place_canvas_history-000000000014.csv', '2023_place_canvas_history-000000000015.csv', '2023_place_canvas_history-000000000016.csv', '2023_place_canvas_history-000000000017.csv', '2023_place_canvas_history-000000000018.csv', '2023_place_canvas_history-000000000019.csv', '2023_place_canvas_history-000000000020.csv', '2023_place_canvas_history-000000000021.csv', '2023_place_canvas_history-000000000022.csv', '2023_place_canvas_history-000000000023.csv', '2023_place_canvas_history-000000000024.csv', '2023_place_canvas_history-000000000025.csv', '2023_place_canvas_history-000000000026.csv', '2023_place_canvas_history-000000000027.csv', '2023_place_canvas_history-000000000028.csv', '2023_place_canvas_history-000000000029.csv', '2023_place_canvas_history-000000000030.csv', '2023_place_canvas_history-000000000031.csv', '2023_place_canvas_history-000000000032.csv', '2023_place_canvas_history-000000000033.csv', '2023_place_canvas_history-000000000034.csv', '2023_place_canvas_history-000000000035.csv', '2023_place_canvas_history-000000000036.csv', '2023_place_canvas_history-000000000037.csv', '2023_place_canvas_history-000000000038.csv', '2023_place_canvas_history-000000000039.csv', '2023_place_canvas_history-000000000040.csv', '2023_place_canvas_history-000000000041.csv', '2023_place_canvas_history-000000000042.csv', '2023_place_canvas_history-000000000043.csv', '2023_place_canvas_history-000000000044.csv', '2023_place_canvas_history-000000000045.csv', '2023_place_canvas_history-000000000046.csv', '2023_place_canvas_history-000000000047.csv', '2023_place_canvas_history-000000000048.csv', '2023_place_canvas_history-000000000049.csv']\n"
     ]
    }
   ],
   "source": [
    "%autoreload 2\n",
    "from utils import summary, visualise, string_to_color, visualise_at_interval, convertImage, data"
   ]
  },
  {
   "cell_type": "markdown",
   "metadata": {},
   "source": [
    "# Canvas reproduction"
   ]
  },
  {
   "cell_type": "code",
   "execution_count": null,
   "metadata": {},
   "outputs": [],
   "source": [
    "first_data = data[0]\n",
    "\n",
    "startingImage = [[\"#FFFFFF\" for i in range(1000)] for i in range(1000)]\n",
    "\n",
    "rez = summary(\n",
    "    pd.Timestamp(\"2023-07-20 13:00:26.088 UTC\"),\n",
    "    pd.Timestamp(\"2023-07-20 16:00:26.088 UTC\"),\n",
    "    startingImage,\n",
    "    data ,\n",
    "    lambda x, y, user, is_mod : y,\n",
    ")\n",
    "\n",
    "rez[0][10:20]"
   ]
  },
  {
   "cell_type": "code",
   "execution_count": null,
   "metadata": {},
   "outputs": [],
   "source": [
    "visualise(rez, string_to_color)"
   ]
  },
  {
   "cell_type": "markdown",
   "metadata": {},
   "source": [
    "# Activity"
   ]
  },
  {
   "cell_type": "code",
   "execution_count": 77,
   "metadata": {},
   "outputs": [
    {
     "name": "stdout",
     "output_type": "stream",
     "text": [
      "Warning: Your Kaggle API key is readable by other users on this system! To fix this, you can run 'chmod 600 /Users/timothebonhoure/.kaggle/kaggle.json'\n"
     ]
    }
   ],
   "source": [
    "def get_transform(images, blur = 0):\n",
    "    blurImages =[gaussian_filter(np.array(img), blur) for img in images]\n",
    "    maximum = np.max(blurImages)\n",
    "    custom_cmap = ScalarMappable(cmap='RdBu_r', norm=LogNorm(vmin=1, vmax=maximum + 1))\n",
    "    return [custom_cmap.to_rgba(img, bytes= True) for img in blurImages]"
   ]
  },
  {
   "cell_type": "code",
   "execution_count": 78,
   "metadata": {},
   "outputs": [
    {
     "data": {
      "text/plain": []
     },
     "metadata": {},
     "output_type": "display_data"
    },
    {
     "name": "stdout",
     "output_type": "stream",
     "text": [
      "cleaning file 2023_place_canvas_history-000000000000.csv.gzip\n"
     ]
    },
    {
     "ename": "IsADirectoryError",
     "evalue": "[Errno 21] Is a directory: 'raw/2023_place_canvas_history-000000000000.csv.gzip'",
     "output_type": "error",
     "traceback": [
      "\u001b[0;31m---------------------------------------------------------------------------\u001b[0m",
      "\u001b[0;31mIsADirectoryError\u001b[0m                         Traceback (most recent call last)",
      "Cell \u001b[0;32mIn[78], line 1\u001b[0m\n\u001b[0;32m----> 1\u001b[0m \u001b[43mvisualise_at_interval\u001b[49m\u001b[43m(\u001b[49m\n\u001b[1;32m      2\u001b[0m \u001b[43m    \u001b[49m\u001b[38;5;28;43;01mlambda\u001b[39;49;00m\u001b[43m \u001b[49m\u001b[43mx\u001b[49m\u001b[43m,\u001b[49m\u001b[43m \u001b[49m\u001b[43my\u001b[49m\u001b[43m,\u001b[49m\u001b[43m \u001b[49m\u001b[43muser\u001b[49m\u001b[43m,\u001b[49m\u001b[43m \u001b[49m\u001b[43mis_mod\u001b[49m\u001b[43m \u001b[49m\u001b[43m:\u001b[49m\u001b[43m \u001b[49m\u001b[43my\u001b[49m\u001b[43m,\u001b[49m\u001b[43m \u001b[49m\n\u001b[1;32m      3\u001b[0m \u001b[43m    \u001b[49m\u001b[38;5;28;43;01mlambda\u001b[39;49;00m\u001b[43m \u001b[49m\u001b[43ml\u001b[49m\u001b[43m \u001b[49m\u001b[43m:\u001b[49m\u001b[43m \u001b[49m\u001b[43m[\u001b[49m\u001b[43mconvertImage\u001b[49m\u001b[43m(\u001b[49m\u001b[43mx\u001b[49m\u001b[43m,\u001b[49m\u001b[43mstring_to_color\u001b[49m\u001b[43m)\u001b[49m\u001b[43m \u001b[49m\u001b[38;5;28;43;01mfor\u001b[39;49;00m\u001b[43m \u001b[49m\u001b[43mx\u001b[49m\u001b[43m \u001b[49m\u001b[38;5;129;43;01min\u001b[39;49;00m\u001b[43m \u001b[49m\u001b[43ml\u001b[49m\u001b[43m]\u001b[49m\u001b[43m,\u001b[49m\u001b[43m \u001b[49m\n\u001b[1;32m      4\u001b[0m \u001b[43m    \u001b[49m\u001b[43mpd\u001b[49m\u001b[38;5;241;43m.\u001b[39;49m\u001b[43mTimedelta\u001b[49m\u001b[43m(\u001b[49m\u001b[43mminutes\u001b[49m\u001b[43m \u001b[49m\u001b[38;5;241;43m=\u001b[39;49m\u001b[43m \u001b[49m\u001b[38;5;241;43m15\u001b[39;49m\u001b[43m)\u001b[49m\u001b[43m,\u001b[49m\u001b[43m \u001b[49m\n\u001b[1;32m      5\u001b[0m \u001b[43m    \u001b[49m\u001b[43m[\u001b[49m\u001b[43m[\u001b[49m\u001b[38;5;124;43m\"\u001b[39;49m\u001b[38;5;124;43m#FFFFFF\u001b[39;49m\u001b[38;5;124;43m\"\u001b[39;49m\u001b[43m \u001b[49m\u001b[38;5;28;43;01mfor\u001b[39;49;00m\u001b[43m \u001b[49m\u001b[43mi\u001b[49m\u001b[43m \u001b[49m\u001b[38;5;129;43;01min\u001b[39;49;00m\u001b[43m \u001b[49m\u001b[38;5;28;43mrange\u001b[39;49m\u001b[43m(\u001b[49m\u001b[38;5;241;43m1000\u001b[39;49m\u001b[43m)\u001b[49m\u001b[43m]\u001b[49m\u001b[43m \u001b[49m\u001b[38;5;28;43;01mfor\u001b[39;49;00m\u001b[43m \u001b[49m\u001b[43mi\u001b[49m\u001b[43m \u001b[49m\u001b[38;5;129;43;01min\u001b[39;49;00m\u001b[43m \u001b[49m\u001b[38;5;28;43mrange\u001b[39;49m\u001b[43m(\u001b[49m\u001b[38;5;241;43m1000\u001b[39;49m\u001b[43m)\u001b[49m\u001b[43m]\u001b[49m\u001b[43m,\u001b[49m\n\u001b[1;32m      6\u001b[0m \u001b[43m    \u001b[49m\u001b[38;5;124;43m\"\u001b[39;49m\u001b[38;5;124;43mimage\u001b[39;49m\u001b[38;5;124;43m\"\u001b[39;49m\u001b[43m,\u001b[49m\n\u001b[1;32m      7\u001b[0m \u001b[43m)\u001b[49m\n",
      "File \u001b[0;32m~/Documents/GitHub/rplace_data_mining/utils.py:129\u001b[0m, in \u001b[0;36mvisualise_at_interval\u001b[0;34m(summary_function, transforms, interval, startingState, rezfilename, startingTimeStamp, EndingTimeStamp, duration)\u001b[0m\n\u001b[1;32m    127\u001b[0m \u001b[39melse\u001b[39;00m :\n\u001b[1;32m    128\u001b[0m     idx \u001b[39m=\u001b[39m \u001b[39m0\u001b[39m\n\u001b[0;32m--> 129\u001b[0m     currentTimeStamp \u001b[39m=\u001b[39m files_and_timestamp[\u001b[39m0\u001b[39;49m][\u001b[39m0\u001b[39m]\n\u001b[1;32m    130\u001b[0m \u001b[39mif\u001b[39;00m \u001b[39mnot\u001b[39;00m EndingTimeStamp : \n\u001b[1;32m    131\u001b[0m     EndingTimeStamp \u001b[39m=\u001b[39m files_and_timestamp[\u001b[39m-\u001b[39m\u001b[39m1\u001b[39m][\u001b[39m1\u001b[39m]\n",
      "File \u001b[0;32m~/Documents/GitHub/rplace_data_mining/data.py:39\u001b[0m, in \u001b[0;36mStartStamps.__getitem__\u001b[0;34m(self, index)\u001b[0m\n\u001b[1;32m     37\u001b[0m \u001b[39mdef\u001b[39;00m \u001b[39m__getitem__\u001b[39m(\u001b[39mself\u001b[39m, index : \u001b[39mint\u001b[39m):\n\u001b[1;32m     38\u001b[0m     index \u001b[39m=\u001b[39m index \u001b[39mif\u001b[39;00m index \u001b[39m>\u001b[39m\u001b[39m=\u001b[39m \u001b[39m0\u001b[39m \u001b[39melse\u001b[39;00m \u001b[39mlen\u001b[39m(\u001b[39mself\u001b[39m) \u001b[39m+\u001b[39m index\n\u001b[0;32m---> 39\u001b[0m     \u001b[39mself\u001b[39;49m\u001b[39m.\u001b[39;49mdata\u001b[39m.\u001b[39;49mmake_usable(index)\n\u001b[1;32m     40\u001b[0m     \u001b[39mreturn\u001b[39;00m \u001b[39mself\u001b[39m\u001b[39m.\u001b[39m_startStamps[index]\n",
      "File \u001b[0;32m~/Documents/GitHub/rplace_data_mining/data.py:78\u001b[0m, in \u001b[0;36mDataIteratorDownload.make_usable\u001b[0;34m(self, index)\u001b[0m\n\u001b[1;32m     75\u001b[0m     unzip_file(\u001b[39mself\u001b[39m\u001b[39m.\u001b[39mraw_data_folder \u001b[39m+\u001b[39m file \u001b[39m+\u001b[39m \u001b[39m\"\u001b[39m\u001b[39m.zip\u001b[39m\u001b[39m\"\u001b[39m)\n\u001b[1;32m     77\u001b[0m \u001b[39mif\u001b[39;00m \u001b[39mnot\u001b[39;00m Path(\u001b[39mself\u001b[39m\u001b[39m.\u001b[39mcleaned_data_folder \u001b[39m+\u001b[39m file)\u001b[39m.\u001b[39mexists():\n\u001b[0;32m---> 78\u001b[0m     \u001b[39mself\u001b[39;49m\u001b[39m.\u001b[39;49mclean_data(index)\n",
      "File \u001b[0;32m~/Documents/GitHub/rplace_data_mining/data.py:113\u001b[0m, in \u001b[0;36mDataIteratorDownload.clean_data\u001b[0;34m(self, idx)\u001b[0m\n\u001b[1;32m    111\u001b[0m \u001b[39mif\u001b[39;00m \u001b[39mnot\u001b[39;00m Path(\u001b[39mself\u001b[39m\u001b[39m.\u001b[39mraw_data_folder \u001b[39m+\u001b[39m file):\n\u001b[1;32m    112\u001b[0m     \u001b[39mraise\u001b[39;00m \u001b[39mValueError\u001b[39;00m(\u001b[39mf\u001b[39m\u001b[39m\"\u001b[39m\u001b[39mThe file \u001b[39m\u001b[39m{\u001b[39;00mfile\u001b[39m}\u001b[39;00m\u001b[39m is not present in the raw folder\u001b[39m\u001b[39m\"\u001b[39m)\n\u001b[0;32m--> 113\u001b[0m df \u001b[39m=\u001b[39m pd\u001b[39m.\u001b[39;49mread_csv(\u001b[39mself\u001b[39;49m\u001b[39m.\u001b[39;49mraw_data_folder \u001b[39m+\u001b[39;49m file)\n\u001b[1;32m    114\u001b[0m df\u001b[39m.\u001b[39mtimestamp\u001b[39m.\u001b[39mreplace(\u001b[39m\"\u001b[39m\u001b[39m:(..) UTC\u001b[39m\u001b[39m\"\u001b[39m, \u001b[39mr\u001b[39m\u001b[39m\"\u001b[39m\u001b[39m:\u001b[39m\u001b[39m\\\u001b[39m\u001b[39m1.000 UTC\u001b[39m\u001b[39m\"\u001b[39m, regex\u001b[39m=\u001b[39m\u001b[39mTrue\u001b[39;00m, inplace\u001b[39m=\u001b[39m\u001b[39mTrue\u001b[39;00m)\n\u001b[1;32m    115\u001b[0m df\u001b[39m.\u001b[39mto_csv(\u001b[39m\"\u001b[39m\u001b[39mcleaned/\u001b[39m\u001b[39m\"\u001b[39m \u001b[39m+\u001b[39m file)\n",
      "File \u001b[0;32m~/miniconda3/lib/python3.10/site-packages/pandas/io/parsers/readers.py:948\u001b[0m, in \u001b[0;36mread_csv\u001b[0;34m(filepath_or_buffer, sep, delimiter, header, names, index_col, usecols, dtype, engine, converters, true_values, false_values, skipinitialspace, skiprows, skipfooter, nrows, na_values, keep_default_na, na_filter, verbose, skip_blank_lines, parse_dates, infer_datetime_format, keep_date_col, date_parser, date_format, dayfirst, cache_dates, iterator, chunksize, compression, thousands, decimal, lineterminator, quotechar, quoting, doublequote, escapechar, comment, encoding, encoding_errors, dialect, on_bad_lines, delim_whitespace, low_memory, memory_map, float_precision, storage_options, dtype_backend)\u001b[0m\n\u001b[1;32m    935\u001b[0m kwds_defaults \u001b[39m=\u001b[39m _refine_defaults_read(\n\u001b[1;32m    936\u001b[0m     dialect,\n\u001b[1;32m    937\u001b[0m     delimiter,\n\u001b[0;32m   (...)\u001b[0m\n\u001b[1;32m    944\u001b[0m     dtype_backend\u001b[39m=\u001b[39mdtype_backend,\n\u001b[1;32m    945\u001b[0m )\n\u001b[1;32m    946\u001b[0m kwds\u001b[39m.\u001b[39mupdate(kwds_defaults)\n\u001b[0;32m--> 948\u001b[0m \u001b[39mreturn\u001b[39;00m _read(filepath_or_buffer, kwds)\n",
      "File \u001b[0;32m~/miniconda3/lib/python3.10/site-packages/pandas/io/parsers/readers.py:611\u001b[0m, in \u001b[0;36m_read\u001b[0;34m(filepath_or_buffer, kwds)\u001b[0m\n\u001b[1;32m    608\u001b[0m _validate_names(kwds\u001b[39m.\u001b[39mget(\u001b[39m\"\u001b[39m\u001b[39mnames\u001b[39m\u001b[39m\"\u001b[39m, \u001b[39mNone\u001b[39;00m))\n\u001b[1;32m    610\u001b[0m \u001b[39m# Create the parser.\u001b[39;00m\n\u001b[0;32m--> 611\u001b[0m parser \u001b[39m=\u001b[39m TextFileReader(filepath_or_buffer, \u001b[39m*\u001b[39;49m\u001b[39m*\u001b[39;49mkwds)\n\u001b[1;32m    613\u001b[0m \u001b[39mif\u001b[39;00m chunksize \u001b[39mor\u001b[39;00m iterator:\n\u001b[1;32m    614\u001b[0m     \u001b[39mreturn\u001b[39;00m parser\n",
      "File \u001b[0;32m~/miniconda3/lib/python3.10/site-packages/pandas/io/parsers/readers.py:1448\u001b[0m, in \u001b[0;36mTextFileReader.__init__\u001b[0;34m(self, f, engine, **kwds)\u001b[0m\n\u001b[1;32m   1445\u001b[0m     \u001b[39mself\u001b[39m\u001b[39m.\u001b[39moptions[\u001b[39m\"\u001b[39m\u001b[39mhas_index_names\u001b[39m\u001b[39m\"\u001b[39m] \u001b[39m=\u001b[39m kwds[\u001b[39m\"\u001b[39m\u001b[39mhas_index_names\u001b[39m\u001b[39m\"\u001b[39m]\n\u001b[1;32m   1447\u001b[0m \u001b[39mself\u001b[39m\u001b[39m.\u001b[39mhandles: IOHandles \u001b[39m|\u001b[39m \u001b[39mNone\u001b[39;00m \u001b[39m=\u001b[39m \u001b[39mNone\u001b[39;00m\n\u001b[0;32m-> 1448\u001b[0m \u001b[39mself\u001b[39m\u001b[39m.\u001b[39m_engine \u001b[39m=\u001b[39m \u001b[39mself\u001b[39;49m\u001b[39m.\u001b[39;49m_make_engine(f, \u001b[39mself\u001b[39;49m\u001b[39m.\u001b[39;49mengine)\n",
      "File \u001b[0;32m~/miniconda3/lib/python3.10/site-packages/pandas/io/parsers/readers.py:1705\u001b[0m, in \u001b[0;36mTextFileReader._make_engine\u001b[0;34m(self, f, engine)\u001b[0m\n\u001b[1;32m   1703\u001b[0m     \u001b[39mif\u001b[39;00m \u001b[39m\"\u001b[39m\u001b[39mb\u001b[39m\u001b[39m\"\u001b[39m \u001b[39mnot\u001b[39;00m \u001b[39min\u001b[39;00m mode:\n\u001b[1;32m   1704\u001b[0m         mode \u001b[39m+\u001b[39m\u001b[39m=\u001b[39m \u001b[39m\"\u001b[39m\u001b[39mb\u001b[39m\u001b[39m\"\u001b[39m\n\u001b[0;32m-> 1705\u001b[0m \u001b[39mself\u001b[39m\u001b[39m.\u001b[39mhandles \u001b[39m=\u001b[39m get_handle(\n\u001b[1;32m   1706\u001b[0m     f,\n\u001b[1;32m   1707\u001b[0m     mode,\n\u001b[1;32m   1708\u001b[0m     encoding\u001b[39m=\u001b[39;49m\u001b[39mself\u001b[39;49m\u001b[39m.\u001b[39;49moptions\u001b[39m.\u001b[39;49mget(\u001b[39m\"\u001b[39;49m\u001b[39mencoding\u001b[39;49m\u001b[39m\"\u001b[39;49m, \u001b[39mNone\u001b[39;49;00m),\n\u001b[1;32m   1709\u001b[0m     compression\u001b[39m=\u001b[39;49m\u001b[39mself\u001b[39;49m\u001b[39m.\u001b[39;49moptions\u001b[39m.\u001b[39;49mget(\u001b[39m\"\u001b[39;49m\u001b[39mcompression\u001b[39;49m\u001b[39m\"\u001b[39;49m, \u001b[39mNone\u001b[39;49;00m),\n\u001b[1;32m   1710\u001b[0m     memory_map\u001b[39m=\u001b[39;49m\u001b[39mself\u001b[39;49m\u001b[39m.\u001b[39;49moptions\u001b[39m.\u001b[39;49mget(\u001b[39m\"\u001b[39;49m\u001b[39mmemory_map\u001b[39;49m\u001b[39m\"\u001b[39;49m, \u001b[39mFalse\u001b[39;49;00m),\n\u001b[1;32m   1711\u001b[0m     is_text\u001b[39m=\u001b[39;49mis_text,\n\u001b[1;32m   1712\u001b[0m     errors\u001b[39m=\u001b[39;49m\u001b[39mself\u001b[39;49m\u001b[39m.\u001b[39;49moptions\u001b[39m.\u001b[39;49mget(\u001b[39m\"\u001b[39;49m\u001b[39mencoding_errors\u001b[39;49m\u001b[39m\"\u001b[39;49m, \u001b[39m\"\u001b[39;49m\u001b[39mstrict\u001b[39;49m\u001b[39m\"\u001b[39;49m),\n\u001b[1;32m   1713\u001b[0m     storage_options\u001b[39m=\u001b[39;49m\u001b[39mself\u001b[39;49m\u001b[39m.\u001b[39;49moptions\u001b[39m.\u001b[39;49mget(\u001b[39m\"\u001b[39;49m\u001b[39mstorage_options\u001b[39;49m\u001b[39m\"\u001b[39;49m, \u001b[39mNone\u001b[39;49;00m),\n\u001b[1;32m   1714\u001b[0m )\n\u001b[1;32m   1715\u001b[0m \u001b[39massert\u001b[39;00m \u001b[39mself\u001b[39m\u001b[39m.\u001b[39mhandles \u001b[39mis\u001b[39;00m \u001b[39mnot\u001b[39;00m \u001b[39mNone\u001b[39;00m\n\u001b[1;32m   1716\u001b[0m f \u001b[39m=\u001b[39m \u001b[39mself\u001b[39m\u001b[39m.\u001b[39mhandles\u001b[39m.\u001b[39mhandle\n",
      "File \u001b[0;32m~/miniconda3/lib/python3.10/site-packages/pandas/io/common.py:863\u001b[0m, in \u001b[0;36mget_handle\u001b[0;34m(path_or_buf, mode, encoding, compression, memory_map, is_text, errors, storage_options)\u001b[0m\n\u001b[1;32m    858\u001b[0m \u001b[39melif\u001b[39;00m \u001b[39misinstance\u001b[39m(handle, \u001b[39mstr\u001b[39m):\n\u001b[1;32m    859\u001b[0m     \u001b[39m# Check whether the filename is to be opened in binary mode.\u001b[39;00m\n\u001b[1;32m    860\u001b[0m     \u001b[39m# Binary mode does not support 'encoding' and 'newline'.\u001b[39;00m\n\u001b[1;32m    861\u001b[0m     \u001b[39mif\u001b[39;00m ioargs\u001b[39m.\u001b[39mencoding \u001b[39mand\u001b[39;00m \u001b[39m\"\u001b[39m\u001b[39mb\u001b[39m\u001b[39m\"\u001b[39m \u001b[39mnot\u001b[39;00m \u001b[39min\u001b[39;00m ioargs\u001b[39m.\u001b[39mmode:\n\u001b[1;32m    862\u001b[0m         \u001b[39m# Encoding\u001b[39;00m\n\u001b[0;32m--> 863\u001b[0m         handle \u001b[39m=\u001b[39m \u001b[39mopen\u001b[39;49m(\n\u001b[1;32m    864\u001b[0m             handle,\n\u001b[1;32m    865\u001b[0m             ioargs\u001b[39m.\u001b[39;49mmode,\n\u001b[1;32m    866\u001b[0m             encoding\u001b[39m=\u001b[39;49mioargs\u001b[39m.\u001b[39;49mencoding,\n\u001b[1;32m    867\u001b[0m             errors\u001b[39m=\u001b[39;49merrors,\n\u001b[1;32m    868\u001b[0m             newline\u001b[39m=\u001b[39;49m\u001b[39m\"\u001b[39;49m\u001b[39m\"\u001b[39;49m,\n\u001b[1;32m    869\u001b[0m         )\n\u001b[1;32m    870\u001b[0m     \u001b[39melse\u001b[39;00m:\n\u001b[1;32m    871\u001b[0m         \u001b[39m# Binary mode\u001b[39;00m\n\u001b[1;32m    872\u001b[0m         handle \u001b[39m=\u001b[39m \u001b[39mopen\u001b[39m(handle, ioargs\u001b[39m.\u001b[39mmode)\n",
      "\u001b[0;31mIsADirectoryError\u001b[0m: [Errno 21] Is a directory: 'raw/2023_place_canvas_history-000000000000.csv.gzip'"
     ]
    }
   ],
   "source": [
    "visualise_at_interval(\n",
    "    lambda x, y, user, is_mod : y, \n",
    "    lambda l : [convertImage(x,string_to_color) for x in l], \n",
    "    pd.Timedelta(minutes = 15), \n",
    "    [[\"#FFFFFF\" for i in range(1000)] for i in range(1000)],\n",
    "    \"image\",\n",
    ") "
   ]
  },
  {
   "cell_type": "code",
   "execution_count": null,
   "metadata": {},
   "outputs": [],
   "source": [
    "\n",
    "visualise_at_interval(\n",
    "    lambda x, y, user, is_mod : x + 1, \n",
    "    get_transform,\n",
    "    pd.Timedelta(minutes = 15), \n",
    "    np.zeros((1000,1000)),\n",
    "    \"activite\",\n",
    "    duration = pd.Timedelta(minutes = 30),\n",
    ") "
   ]
  },
  {
   "cell_type": "code",
   "execution_count": 68,
   "metadata": {},
   "outputs": [
    {
     "name": "stdout",
     "output_type": "stream",
     "text": [
      "Warning: Your Kaggle API key is readable by other users on this system! To fix this, you can run 'chmod 600 /Users/timothebonhoure/.kaggle/kaggle.json'\n",
      "['2023_place_canvas_history-000000000000.csv', '2023_place_canvas_history-000000000001.csv']\n"
     ]
    },
    {
     "data": {
      "text/plain": [
       "just made summary until 2023-07-20 18:15:26.088000+00:00"
      ]
     },
     "metadata": {},
     "output_type": "display_data"
    },
    {
     "name": "stdout",
     "output_type": "stream",
     "text": [
      "made usable 0\n",
      "{0: (Timestamp('2023-07-20 13:00:26.088000+0000', tz='tzutc()'), Timestamp('2023-07-20 15:56:56.162000+0000', tz='tzutc()')), 1: (Timestamp('2023-07-20 15:56:56.167000+0000', tz='tzutc()'), Timestamp('2023-07-20 18:09:49.642000+0000', tz='tzutc()'))}\n",
      "made usable 1\n",
      "{0: (Timestamp('2023-07-20 13:00:26.088000+0000', tz='tzutc()'), Timestamp('2023-07-20 15:56:56.162000+0000', tz='tzutc()')), 1: (Timestamp('2023-07-20 15:56:56.167000+0000', tz='tzutc()'), Timestamp('2023-07-20 18:09:49.642000+0000', tz='tzutc()'))}\n",
      "made usable 0\n",
      "{0: (Timestamp('2023-07-20 13:00:26.088000+0000', tz='tzutc()'), Timestamp('2023-07-20 15:56:56.162000+0000', tz='tzutc()')), 1: (Timestamp('2023-07-20 15:56:56.167000+0000', tz='tzutc()'), Timestamp('2023-07-20 18:09:49.642000+0000', tz='tzutc()'))}\n",
      "made usable 0\n",
      "start loading file: 2023_place_canvas_history-000000000000.csv\n",
      "start formating data\n",
      "loaded file : 2023_place_canvas_history-000000000000.csv\n",
      "made usable 1\n",
      "{0: (Timestamp('2023-07-20 13:00:26.088000+0000', tz='tzutc()'), Timestamp('2023-07-20 15:56:56.162000+0000', tz='tzutc()')), 1: (Timestamp('2023-07-20 15:56:56.167000+0000', tz='tzutc()'), Timestamp('2023-07-20 18:09:49.642000+0000', tz='tzutc()'))}\n",
      "made usable 1\n",
      "start loading file: 2023_place_canvas_history-000000000001.csv\n",
      "start formating data\n",
      "loaded file : 2023_place_canvas_history-000000000001.csv\n",
      "Unexpected exception formatting exception. Falling back to standard exception\n"
     ]
    },
    {
     "name": "stderr",
     "output_type": "stream",
     "text": [
      "Traceback (most recent call last):\n",
      "  File \"/Users/timothebonhoure/Documents/GitHub/rplace_data_mining/utils.py\", line 201, in visualise_at_interval\n",
      "    for name, transform in transforms.items() :\n",
      "AttributeError: 'function' object has no attribute 'items'\n",
      "\n",
      "During handling of the above exception, another exception occurred:\n",
      "\n",
      "Traceback (most recent call last):\n",
      "  File \"/Users/timothebonhoure/miniconda3/lib/python3.10/site-packages/IPython/core/interactiveshell.py\", line 3526, in run_code\n",
      "    exec(code_obj, self.user_global_ns, self.user_ns)\n",
      "  File \"/var/folders/t6/dcx_br0j7j34tyk6_kptcj1h0000gn/T/ipykernel_79989/629969222.py\", line 1, in <module>\n",
      "    visualise_at_interval(\n",
      "  File \"/Users/timothebonhoure/Documents/GitHub/rplace_data_mining/utils.py\", line 207, in visualise_at_interval\n",
      "    except Error as e:\n",
      "NameError: name 'Error' is not defined. Did you mean: 'OSError'?\n",
      "\n",
      "During handling of the above exception, another exception occurred:\n",
      "\n",
      "Traceback (most recent call last):\n",
      "  File \"/Users/timothebonhoure/miniconda3/lib/python3.10/site-packages/IPython/core/interactiveshell.py\", line 2120, in showtraceback\n",
      "    stb = self.InteractiveTB.structured_traceback(\n",
      "  File \"/Users/timothebonhoure/miniconda3/lib/python3.10/site-packages/IPython/core/ultratb.py\", line 1435, in structured_traceback\n",
      "    return FormattedTB.structured_traceback(\n",
      "  File \"/Users/timothebonhoure/miniconda3/lib/python3.10/site-packages/IPython/core/ultratb.py\", line 1326, in structured_traceback\n",
      "    return VerboseTB.structured_traceback(\n",
      "  File \"/Users/timothebonhoure/miniconda3/lib/python3.10/site-packages/IPython/core/ultratb.py\", line 1173, in structured_traceback\n",
      "    formatted_exception = self.format_exception_as_a_whole(etype, evalue, etb, number_of_lines_of_context,\n",
      "  File \"/Users/timothebonhoure/miniconda3/lib/python3.10/site-packages/IPython/core/ultratb.py\", line 1088, in format_exception_as_a_whole\n",
      "    frames.append(self.format_record(record))\n",
      "  File \"/Users/timothebonhoure/miniconda3/lib/python3.10/site-packages/IPython/core/ultratb.py\", line 970, in format_record\n",
      "    frame_info.lines, Colors, self.has_colors, lvals\n",
      "  File \"/Users/timothebonhoure/miniconda3/lib/python3.10/site-packages/IPython/core/ultratb.py\", line 792, in lines\n",
      "    return self._sd.lines\n",
      "  File \"/Users/timothebonhoure/miniconda3/lib/python3.10/site-packages/stack_data/utils.py\", line 145, in cached_property_wrapper\n",
      "    value = obj.__dict__[self.func.__name__] = self.func(obj)\n",
      "  File \"/Users/timothebonhoure/miniconda3/lib/python3.10/site-packages/stack_data/core.py\", line 698, in lines\n",
      "    pieces = self.included_pieces\n",
      "  File \"/Users/timothebonhoure/miniconda3/lib/python3.10/site-packages/stack_data/utils.py\", line 145, in cached_property_wrapper\n",
      "    value = obj.__dict__[self.func.__name__] = self.func(obj)\n",
      "  File \"/Users/timothebonhoure/miniconda3/lib/python3.10/site-packages/stack_data/core.py\", line 649, in included_pieces\n",
      "    pos = scope_pieces.index(self.executing_piece)\n",
      "  File \"/Users/timothebonhoure/miniconda3/lib/python3.10/site-packages/stack_data/utils.py\", line 145, in cached_property_wrapper\n",
      "    value = obj.__dict__[self.func.__name__] = self.func(obj)\n",
      "  File \"/Users/timothebonhoure/miniconda3/lib/python3.10/site-packages/stack_data/core.py\", line 628, in executing_piece\n",
      "    return only(\n",
      "  File \"/Users/timothebonhoure/miniconda3/lib/python3.10/site-packages/executing/executing.py\", line 164, in only\n",
      "    raise NotOneValueFound('Expected one value, found 0')\n",
      "executing.executing.NotOneValueFound: Expected one value, found 0\n"
     ]
    }
   ],
   "source": [
    "\n",
    "visualise_at_interval(\n",
    "    lambda x, y, user, is_mod  : x + 1, \n",
    "    get_transform, \n",
    "    pd.Timedelta(minutes = 15), \n",
    "    np.zeros((1000,1000)),\n",
    "    \"activite_total\",\n",
    ") "
   ]
  },
  {
   "cell_type": "code",
   "execution_count": null,
   "metadata": {},
   "outputs": [],
   "source": [
    "blurs =[1,2,5,10,50,100]\n",
    "visualise_at_interval(\n",
    "    lambda x, y, user, is_mod  : x + 1, \n",
    "    { str(blur) : partial(get_transform, blur = blur) for blur in blurs}, \n",
    "    pd.Timedelta(minutes = 15), \n",
    "    np.ones((1000,1000)),\n",
    "    lambda blur : f\"activite_blur_{blur}\",\n",
    "    duration = pd.Timedelta(minutes = 30),\n",
    ") \n",
    "\n",
    "\n",
    "visualise_at_interval(\n",
    "    lambda x, y, user, is_mod  : x + int(not is_mod), \n",
    "    { str(blur) : partial(get_transform, blur = blur) for blur in blurs}, \n",
    "    pd.Timedelta(minutes = 15), \n",
    "    np.ones((1000,1000)),\n",
    "    lambda blur : f\"activite_blur_no_moderator_{blur}\",\n",
    "    duration = pd.Timedelta(minutes = 30),\n",
    ") \n"
   ]
  },
  {
   "cell_type": "markdown",
   "metadata": {},
   "source": [
    "# Variété d'utilisateur"
   ]
  },
  {
   "cell_type": "code",
   "execution_count": 35,
   "metadata": {},
   "outputs": [],
   "source": [
    "def compose(f, g):\n",
    "    return lambda *args, **kwargs : f(g(*args, **kwargs))\n",
    "\n",
    "def add_user(user, users):\n",
    "    users.add(user)\n",
    "    return users\n",
    "\n",
    "def from_users_sets_by_points_to_len_by_points(images):\n",
    "    return [[[len(user_set)+1 for user_set in row] for row in image] for image in images]"
   ]
  },
  {
   "cell_type": "code",
   "execution_count": 37,
   "metadata": {},
   "outputs": [
    {
     "data": {
      "text/plain": [
       "just made summary from 2023-07-20 13:55:26.088000+00:00 to 2023-07-20 14:10:26.088000+00:00"
      ]
     },
     "metadata": {},
     "output_type": "display_data"
    },
    {
     "name": "stdout",
     "output_type": "stream",
     "text": [
      "start loading file: 2023_place_canvas_history-000000000000.csv\n",
      "start formating data\n",
      "loaded file : 2023_place_canvas_history-000000000000.csv\n",
      "results saved on users_variety_blur1.gif\n",
      "results saved on users_variety_blur5.gif\n",
      "results saved on users_variety_blur10.gif\n"
     ]
    }
   ],
   "source": [
    "blurs =[1,5,10]\n",
    "visualise_at_interval(\n",
    "    lambda users, _, user, is_mod  : users if is_mod else add_user(user, users), \n",
    "    { str(blur) : compose(partial(get_transform, blur = blur),\n",
    "                          from_users_sets_by_points_to_len_by_points) for blur in blurs}, \n",
    "    pd.Timedelta(minutes = 5), \n",
    "    [[set() for i in range(1000)] for j in range(1000)],\n",
    "    lambda blur : f\"users_variety_blur{blur}\",\n",
    "    duration = pd.Timedelta(minutes = 15),\n",
    "    EndingTimeStamp= pd.Timestamp(\"2023-07-20 14:00:26.088 UTC\")\n",
    ")"
   ]
  },
  {
   "cell_type": "markdown",
   "metadata": {},
   "source": [
    "\n",
    "matActivité forme : [x][y] = freq de maj --> image de l'activité bleu à rouge\n",
    "\n",
    "### map:\n",
    "- map de zone d'activité\n",
    "- map de zone d'activité par couleur?\n",
    "- map de certains utilisateurs actif \n",
    "- map de la couleur la plus utilisé\n",
    "- map de la variété d'utilisateurs\n",
    "- \n",
    "\n",
    "### statistique descriptive:\n",
    "- activité par utilisateur\n",
    "- activité par couleur\n",
    "- activité par heure\n",
    "\n",
    "### identifications:\n",
    "- identifié les bots\n",
    "- identifié communauté / projet de communauté\n",
    "- identification de la modération\n",
    "\n",
    "### technique:\n",
    "- download\n",
    "- augmentation taille grille\n",
    "- detection des antagonistes pour trouver les communautés\n",
    "- prétraitemtent des temps et diverse valeur pour réduire le temps d'ouverture"
   ]
  }
 ],
 "metadata": {
  "kernelspec": {
   "display_name": "Python 3.10.9 ('base')",
   "language": "python",
   "name": "python3"
  },
  "language_info": {
   "codemirror_mode": {
    "name": "ipython",
    "version": 3
   },
   "file_extension": ".py",
   "mimetype": "text/x-python",
   "name": "python",
   "nbconvert_exporter": "python",
   "pygments_lexer": "ipython3",
   "version": "3.10.13"
  },
  "orig_nbformat": 4,
  "vscode": {
   "interpreter": {
    "hash": "a5a318b75a7586e7126ee807ac3c15c9d32b27634cac574e72ad2f13c9c76b5e"
   }
  }
 },
 "nbformat": 4,
 "nbformat_minor": 2
}
