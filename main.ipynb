{
 "cells": [
  {
   "cell_type": "markdown",
   "metadata": {},
   "source": []
  },
  {
   "cell_type": "code",
   "execution_count": 2,
   "metadata": {},
   "outputs": [],
   "source": [
    "%load_ext autoreload\n",
    "import pandas as pd\n",
    "import numpy as np\n",
    "from matplotlib.colors import LogNorm\n",
    "from matplotlib.cm import ScalarMappable\n",
    "from scipy.ndimage import gaussian_filter\n",
    "from functools import partial\n",
    "import operator\n",
    "from IPython.display import clear_output"
   ]
  },
  {
   "cell_type": "code",
   "execution_count": 55,
   "metadata": {},
   "outputs": [
    {
     "name": "stdout",
     "output_type": "stream",
     "text": [
      "Warning: Your Kaggle API key is readable by other users on this system! To fix this, you can run 'chmod 600 /Users/timothebonhoure/.kaggle/kaggle.json'\n",
      "['2023_place_canvas_history-000000000000.csv', '2023_place_canvas_history-000000000001.csv', '2023_place_canvas_history-000000000002.csv', '2023_place_canvas_history-000000000003.csv', '2023_place_canvas_history-000000000004.csv', '2023_place_canvas_history-000000000005.csv', '2023_place_canvas_history-000000000006.csv', '2023_place_canvas_history-000000000007.csv', '2023_place_canvas_history-000000000008.csv', '2023_place_canvas_history-000000000009.csv', '2023_place_canvas_history-000000000010.csv', '2023_place_canvas_history-000000000011.csv', '2023_place_canvas_history-000000000012.csv', '2023_place_canvas_history-000000000013.csv', '2023_place_canvas_history-000000000014.csv', '2023_place_canvas_history-000000000015.csv', '2023_place_canvas_history-000000000016.csv', '2023_place_canvas_history-000000000017.csv', '2023_place_canvas_history-000000000018.csv', '2023_place_canvas_history-000000000019.csv', '2023_place_canvas_history-000000000020.csv', '2023_place_canvas_history-000000000021.csv', '2023_place_canvas_history-000000000022.csv', '2023_place_canvas_history-000000000023.csv', '2023_place_canvas_history-000000000024.csv', '2023_place_canvas_history-000000000025.csv', '2023_place_canvas_history-000000000026.csv', '2023_place_canvas_history-000000000027.csv', '2023_place_canvas_history-000000000028.csv', '2023_place_canvas_history-000000000029.csv', '2023_place_canvas_history-000000000030.csv', '2023_place_canvas_history-000000000031.csv', '2023_place_canvas_history-000000000032.csv', '2023_place_canvas_history-000000000033.csv', '2023_place_canvas_history-000000000034.csv', '2023_place_canvas_history-000000000035.csv', '2023_place_canvas_history-000000000036.csv', '2023_place_canvas_history-000000000037.csv', '2023_place_canvas_history-000000000038.csv', '2023_place_canvas_history-000000000039.csv', '2023_place_canvas_history-000000000040.csv', '2023_place_canvas_history-000000000041.csv', '2023_place_canvas_history-000000000042.csv', '2023_place_canvas_history-000000000043.csv', '2023_place_canvas_history-000000000044.csv', '2023_place_canvas_history-000000000045.csv', '2023_place_canvas_history-000000000046.csv', '2023_place_canvas_history-000000000047.csv', '2023_place_canvas_history-000000000048.csv', '2023_place_canvas_history-000000000049.csv']\n"
     ]
    }
   ],
   "source": [
    "%autoreload 2\n",
    "from utils import summary, visualise, string_to_color, visualise_at_interval, convertImage, data"
   ]
  },
  {
   "cell_type": "markdown",
   "metadata": {},
   "source": [
    "# Canvas reproduction"
   ]
  },
  {
   "cell_type": "code",
   "execution_count": null,
   "metadata": {},
   "outputs": [],
   "source": [
    "first_data = data[0]\n",
    "\n",
    "startingImage = [[\"#FFFFFF\" for i in range(1000)] for i in range(1000)]\n",
    "\n",
    "rez = summary(\n",
    "    pd.Timestamp(\"2023-07-20 13:00:26.088 UTC\"),\n",
    "    pd.Timestamp(\"2023-07-20 16:00:26.088 UTC\"),\n",
    "    startingImage,\n",
    "    data ,\n",
    "    lambda x, y, user, is_mod : y,\n",
    ")\n",
    "\n",
    "rez[0][10:20]"
   ]
  },
  {
   "cell_type": "code",
   "execution_count": null,
   "metadata": {},
   "outputs": [],
   "source": [
    "visualise(rez, string_to_color)"
   ]
  },
  {
   "cell_type": "markdown",
   "metadata": {},
   "source": [
    "# Activity"
   ]
  },
  {
   "cell_type": "code",
   "execution_count": 19,
   "metadata": {},
   "outputs": [],
   "source": [
    "def get_transform(images, blur = 0):\n",
    "    blurImages =[gaussian_filter(np.array(img), blur) for img in images]\n",
    "    maximum = np.max(blurImages)\n",
    "    custom_cmap = ScalarMappable(cmap='RdBu_r', norm=LogNorm(vmin=1, vmax=maximum + 1))\n",
    "    return [custom_cmap.to_rgba(img, bytes= True) for img in blurImages]"
   ]
  },
  {
   "cell_type": "code",
   "execution_count": 69,
   "metadata": {},
   "outputs": [
    {
     "name": "stdout",
     "output_type": "stream",
     "text": [
      "Warning: Your Kaggle API key is readable by other users on this system! To fix this, you can run 'chmod 600 /Users/timothebonhoure/.kaggle/kaggle.json'\n",
      "['2023_place_canvas_history-000000000000.csv', '2023_place_canvas_history-000000000001.csv']\n"
     ]
    },
    {
     "data": {
      "text/plain": [
       "just made summary until 2023-07-20 18:15:26.088000+00:00"
      ]
     },
     "metadata": {},
     "output_type": "display_data"
    },
    {
     "name": "stdout",
     "output_type": "stream",
     "text": [
      "made usable 0\n",
      "{0: (Timestamp('2023-07-20 13:00:26.088000+0000', tz='tzutc()'), Timestamp('2023-07-20 15:56:56.162000+0000', tz='tzutc()')), 1: (Timestamp('2023-07-20 15:56:56.167000+0000', tz='tzutc()'), Timestamp('2023-07-20 18:09:49.642000+0000', tz='tzutc()'))}\n",
      "made usable 1\n",
      "{0: (Timestamp('2023-07-20 13:00:26.088000+0000', tz='tzutc()'), Timestamp('2023-07-20 15:56:56.162000+0000', tz='tzutc()')), 1: (Timestamp('2023-07-20 15:56:56.167000+0000', tz='tzutc()'), Timestamp('2023-07-20 18:09:49.642000+0000', tz='tzutc()'))}\n",
      "made usable 0\n",
      "{0: (Timestamp('2023-07-20 13:00:26.088000+0000', tz='tzutc()'), Timestamp('2023-07-20 15:56:56.162000+0000', tz='tzutc()')), 1: (Timestamp('2023-07-20 15:56:56.167000+0000', tz='tzutc()'), Timestamp('2023-07-20 18:09:49.642000+0000', tz='tzutc()'))}\n",
      "made usable 0\n",
      "start loading file: 2023_place_canvas_history-000000000000.csv\n",
      "start formating data\n",
      "loaded file : 2023_place_canvas_history-000000000000.csv\n",
      "made usable 1\n",
      "{0: (Timestamp('2023-07-20 13:00:26.088000+0000', tz='tzutc()'), Timestamp('2023-07-20 15:56:56.162000+0000', tz='tzutc()')), 1: (Timestamp('2023-07-20 15:56:56.167000+0000', tz='tzutc()'), Timestamp('2023-07-20 18:09:49.642000+0000', tz='tzutc()'))}\n",
      "made usable 1\n",
      "start loading file: 2023_place_canvas_history-000000000001.csv\n",
      "start formating data\n",
      "loaded file : 2023_place_canvas_history-000000000001.csv\n",
      "'function' object has no attribute 'items'\n",
      "results saved on image.gif\n"
     ]
    }
   ],
   "source": [
    "visualise_at_interval(\n",
    "    lambda x, y, user, is_mod : y, \n",
    "    lambda l : [convertImage(x,string_to_color) for x in l], \n",
    "    pd.Timedelta(minutes = 15), \n",
    "    [[\"#FFFFFF\" for i in range(1000)] for i in range(1000)],\n",
    "    \"image\",\n",
    ") "
   ]
  },
  {
   "cell_type": "code",
   "execution_count": null,
   "metadata": {},
   "outputs": [],
   "source": [
    "\n",
    "visualise_at_interval(\n",
    "    lambda x, y, user, is_mod : x + 1, \n",
    "    get_transform,\n",
    "    pd.Timedelta(minutes = 15), \n",
    "    np.zeros((1000,1000)),\n",
    "    \"activite\",\n",
    "    duration = pd.Timedelta(minutes = 30),\n",
    ") "
   ]
  },
  {
   "cell_type": "code",
   "execution_count": 68,
   "metadata": {},
   "outputs": [
    {
     "name": "stdout",
     "output_type": "stream",
     "text": [
      "Warning: Your Kaggle API key is readable by other users on this system! To fix this, you can run 'chmod 600 /Users/timothebonhoure/.kaggle/kaggle.json'\n",
      "['2023_place_canvas_history-000000000000.csv', '2023_place_canvas_history-000000000001.csv']\n"
     ]
    },
    {
     "data": {
      "text/plain": [
       "just made summary until 2023-07-20 18:15:26.088000+00:00"
      ]
     },
     "metadata": {},
     "output_type": "display_data"
    },
    {
     "name": "stdout",
     "output_type": "stream",
     "text": [
      "made usable 0\n",
      "{0: (Timestamp('2023-07-20 13:00:26.088000+0000', tz='tzutc()'), Timestamp('2023-07-20 15:56:56.162000+0000', tz='tzutc()')), 1: (Timestamp('2023-07-20 15:56:56.167000+0000', tz='tzutc()'), Timestamp('2023-07-20 18:09:49.642000+0000', tz='tzutc()'))}\n",
      "made usable 1\n",
      "{0: (Timestamp('2023-07-20 13:00:26.088000+0000', tz='tzutc()'), Timestamp('2023-07-20 15:56:56.162000+0000', tz='tzutc()')), 1: (Timestamp('2023-07-20 15:56:56.167000+0000', tz='tzutc()'), Timestamp('2023-07-20 18:09:49.642000+0000', tz='tzutc()'))}\n",
      "made usable 0\n",
      "{0: (Timestamp('2023-07-20 13:00:26.088000+0000', tz='tzutc()'), Timestamp('2023-07-20 15:56:56.162000+0000', tz='tzutc()')), 1: (Timestamp('2023-07-20 15:56:56.167000+0000', tz='tzutc()'), Timestamp('2023-07-20 18:09:49.642000+0000', tz='tzutc()'))}\n",
      "made usable 0\n",
      "start loading file: 2023_place_canvas_history-000000000000.csv\n",
      "start formating data\n",
      "loaded file : 2023_place_canvas_history-000000000000.csv\n",
      "made usable 1\n",
      "{0: (Timestamp('2023-07-20 13:00:26.088000+0000', tz='tzutc()'), Timestamp('2023-07-20 15:56:56.162000+0000', tz='tzutc()')), 1: (Timestamp('2023-07-20 15:56:56.167000+0000', tz='tzutc()'), Timestamp('2023-07-20 18:09:49.642000+0000', tz='tzutc()'))}\n",
      "made usable 1\n",
      "start loading file: 2023_place_canvas_history-000000000001.csv\n",
      "start formating data\n",
      "loaded file : 2023_place_canvas_history-000000000001.csv\n",
      "Unexpected exception formatting exception. Falling back to standard exception\n"
     ]
    },
    {
     "name": "stderr",
     "output_type": "stream",
     "text": [
      "Traceback (most recent call last):\n",
      "  File \"/Users/timothebonhoure/Documents/GitHub/rplace_data_mining/utils.py\", line 201, in visualise_at_interval\n",
      "    for name, transform in transforms.items() :\n",
      "AttributeError: 'function' object has no attribute 'items'\n",
      "\n",
      "During handling of the above exception, another exception occurred:\n",
      "\n",
      "Traceback (most recent call last):\n",
      "  File \"/Users/timothebonhoure/miniconda3/lib/python3.10/site-packages/IPython/core/interactiveshell.py\", line 3526, in run_code\n",
      "    exec(code_obj, self.user_global_ns, self.user_ns)\n",
      "  File \"/var/folders/t6/dcx_br0j7j34tyk6_kptcj1h0000gn/T/ipykernel_79989/629969222.py\", line 1, in <module>\n",
      "    visualise_at_interval(\n",
      "  File \"/Users/timothebonhoure/Documents/GitHub/rplace_data_mining/utils.py\", line 207, in visualise_at_interval\n",
      "    except Error as e:\n",
      "NameError: name 'Error' is not defined. Did you mean: 'OSError'?\n",
      "\n",
      "During handling of the above exception, another exception occurred:\n",
      "\n",
      "Traceback (most recent call last):\n",
      "  File \"/Users/timothebonhoure/miniconda3/lib/python3.10/site-packages/IPython/core/interactiveshell.py\", line 2120, in showtraceback\n",
      "    stb = self.InteractiveTB.structured_traceback(\n",
      "  File \"/Users/timothebonhoure/miniconda3/lib/python3.10/site-packages/IPython/core/ultratb.py\", line 1435, in structured_traceback\n",
      "    return FormattedTB.structured_traceback(\n",
      "  File \"/Users/timothebonhoure/miniconda3/lib/python3.10/site-packages/IPython/core/ultratb.py\", line 1326, in structured_traceback\n",
      "    return VerboseTB.structured_traceback(\n",
      "  File \"/Users/timothebonhoure/miniconda3/lib/python3.10/site-packages/IPython/core/ultratb.py\", line 1173, in structured_traceback\n",
      "    formatted_exception = self.format_exception_as_a_whole(etype, evalue, etb, number_of_lines_of_context,\n",
      "  File \"/Users/timothebonhoure/miniconda3/lib/python3.10/site-packages/IPython/core/ultratb.py\", line 1088, in format_exception_as_a_whole\n",
      "    frames.append(self.format_record(record))\n",
      "  File \"/Users/timothebonhoure/miniconda3/lib/python3.10/site-packages/IPython/core/ultratb.py\", line 970, in format_record\n",
      "    frame_info.lines, Colors, self.has_colors, lvals\n",
      "  File \"/Users/timothebonhoure/miniconda3/lib/python3.10/site-packages/IPython/core/ultratb.py\", line 792, in lines\n",
      "    return self._sd.lines\n",
      "  File \"/Users/timothebonhoure/miniconda3/lib/python3.10/site-packages/stack_data/utils.py\", line 145, in cached_property_wrapper\n",
      "    value = obj.__dict__[self.func.__name__] = self.func(obj)\n",
      "  File \"/Users/timothebonhoure/miniconda3/lib/python3.10/site-packages/stack_data/core.py\", line 698, in lines\n",
      "    pieces = self.included_pieces\n",
      "  File \"/Users/timothebonhoure/miniconda3/lib/python3.10/site-packages/stack_data/utils.py\", line 145, in cached_property_wrapper\n",
      "    value = obj.__dict__[self.func.__name__] = self.func(obj)\n",
      "  File \"/Users/timothebonhoure/miniconda3/lib/python3.10/site-packages/stack_data/core.py\", line 649, in included_pieces\n",
      "    pos = scope_pieces.index(self.executing_piece)\n",
      "  File \"/Users/timothebonhoure/miniconda3/lib/python3.10/site-packages/stack_data/utils.py\", line 145, in cached_property_wrapper\n",
      "    value = obj.__dict__[self.func.__name__] = self.func(obj)\n",
      "  File \"/Users/timothebonhoure/miniconda3/lib/python3.10/site-packages/stack_data/core.py\", line 628, in executing_piece\n",
      "    return only(\n",
      "  File \"/Users/timothebonhoure/miniconda3/lib/python3.10/site-packages/executing/executing.py\", line 164, in only\n",
      "    raise NotOneValueFound('Expected one value, found 0')\n",
      "executing.executing.NotOneValueFound: Expected one value, found 0\n"
     ]
    }
   ],
   "source": [
    "\n",
    "visualise_at_interval(\n",
    "    lambda x, y, user, is_mod  : x + 1, \n",
    "    get_transform, \n",
    "    pd.Timedelta(minutes = 15), \n",
    "    np.zeros((1000,1000)),\n",
    "    \"activite_total\",\n",
    ") "
   ]
  },
  {
   "cell_type": "code",
   "execution_count": null,
   "metadata": {},
   "outputs": [],
   "source": [
    "blurs =[1,2,5,10,50,100]\n",
    "visualise_at_interval(\n",
    "    lambda x, y, user, is_mod  : x + 1, \n",
    "    { str(blur) : partial(get_transform, blur = blur) for blur in blurs}, \n",
    "    pd.Timedelta(minutes = 15), \n",
    "    np.ones((1000,1000)),\n",
    "    lambda blur : f\"activite_blur_{blur}\",\n",
    "    duration = pd.Timedelta(minutes = 30),\n",
    ") \n",
    "\n",
    "\n",
    "visualise_at_interval(\n",
    "    lambda x, y, user, is_mod  : x + int(not is_mod), \n",
    "    { str(blur) : partial(get_transform, blur = blur) for blur in blurs}, \n",
    "    pd.Timedelta(minutes = 15), \n",
    "    np.ones((1000,1000)),\n",
    "    lambda blur : f\"activite_blur_no_moderator_{blur}\",\n",
    "    duration = pd.Timedelta(minutes = 30),\n",
    ") \n"
   ]
  },
  {
   "cell_type": "markdown",
   "metadata": {},
   "source": [
    "# Variété d'utilisateur"
   ]
  },
  {
   "cell_type": "code",
   "execution_count": 35,
   "metadata": {},
   "outputs": [],
   "source": [
    "def compose(f, g):\n",
    "    return lambda *args, **kwargs : f(g(*args, **kwargs))\n",
    "\n",
    "def add_user(user, users):\n",
    "    users.add(user)\n",
    "    return users\n",
    "\n",
    "def from_users_sets_by_points_to_len_by_points(images):\n",
    "    return [[[len(user_set)+1 for user_set in row] for row in image] for image in images]"
   ]
  },
  {
   "cell_type": "code",
   "execution_count": 37,
   "metadata": {},
   "outputs": [
    {
     "data": {
      "text/plain": [
       "just made summary from 2023-07-20 13:55:26.088000+00:00 to 2023-07-20 14:10:26.088000+00:00"
      ]
     },
     "metadata": {},
     "output_type": "display_data"
    },
    {
     "name": "stdout",
     "output_type": "stream",
     "text": [
      "start loading file: 2023_place_canvas_history-000000000000.csv\n",
      "start formating data\n",
      "loaded file : 2023_place_canvas_history-000000000000.csv\n",
      "results saved on users_variety_blur1.gif\n",
      "results saved on users_variety_blur5.gif\n",
      "results saved on users_variety_blur10.gif\n"
     ]
    }
   ],
   "source": [
    "blurs =[1,5,10]\n",
    "visualise_at_interval(\n",
    "    lambda users, _, user, is_mod  : users if is_mod else add_user(user, users), \n",
    "    { str(blur) : compose(partial(get_transform, blur = blur),\n",
    "                          from_users_sets_by_points_to_len_by_points) for blur in blurs}, \n",
    "    pd.Timedelta(minutes = 5), \n",
    "    [[set() for i in range(1000)] for j in range(1000)],\n",
    "    lambda blur : f\"users_variety_blur{blur}\",\n",
    "    duration = pd.Timedelta(minutes = 15),\n",
    "    EndingTimeStamp= pd.Timestamp(\"2023-07-20 14:00:26.088 UTC\")\n",
    ")"
   ]
  },
  {
   "cell_type": "markdown",
   "metadata": {},
   "source": [
    "\n",
    "matActivité forme : [x][y] = freq de maj --> image de l'activité bleu à rouge\n",
    "\n",
    "### map:\n",
    "- map de zone d'activité\n",
    "- map de zone d'activité par couleur?\n",
    "- map de certains utilisateurs actif \n",
    "- map de la couleur la plus utilisé\n",
    "- map de la variété d'utilisateurs\n",
    "- \n",
    "\n",
    "### statistique descriptive:\n",
    "- activité par utilisateur\n",
    "- activité par couleur\n",
    "- activité par heure\n",
    "\n",
    "### identifications:\n",
    "- identifié les bots\n",
    "- identifié communauté / projet de communauté\n",
    "- identification de la modération\n",
    "\n",
    "### technique:\n",
    "- download\n",
    "- augmentation taille grille\n",
    "- detection des antagonistes pour trouver les communautés\n",
    "- prétraitemtent des temps et diverse valeur pour réduire le temps d'ouverture"
   ]
  }
 ],
 "metadata": {
  "kernelspec": {
   "display_name": "Python 3.10.9 ('base')",
   "language": "python",
   "name": "python3"
  },
  "language_info": {
   "codemirror_mode": {
    "name": "ipython",
    "version": 3
   },
   "file_extension": ".py",
   "mimetype": "text/x-python",
   "name": "python",
   "nbconvert_exporter": "python",
   "pygments_lexer": "ipython3",
   "version": "3.10.13"
  },
  "orig_nbformat": 4,
  "vscode": {
   "interpreter": {
    "hash": "a5a318b75a7586e7126ee807ac3c15c9d32b27634cac574e72ad2f13c9c76b5e"
   }
  }
 },
 "nbformat": 4,
 "nbformat_minor": 2
}
