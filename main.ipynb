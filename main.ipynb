{
 "cells": [
  {
   "cell_type": "markdown",
   "metadata": {},
   "source": []
  },
  {
   "cell_type": "code",
   "execution_count": 1,
   "metadata": {},
   "outputs": [],
   "source": [
    "%load_ext autoreload\n",
    "import pandas as pd\n",
    "import numpy as np\n",
    "from matplotlib.colors import LogNorm\n",
    "from matplotlib.cm import ScalarMappable\n",
    "from scipy.ndimage import gaussian_filter\n",
    "from functools import partial\n",
    "import operator\n",
    "from IPython.display import clear_output\n",
    "from tqdm import tqdm\n",
    "import networkx as nx\n",
    "import timeit\n",
    "import random\n",
    "import copy\n",
    "import community"
   ]
  },
  {
   "cell_type": "code",
   "execution_count": 2,
   "metadata": {},
   "outputs": [
    {
     "name": "stdout",
     "output_type": "stream",
     "text": [
      "Warning: Your Kaggle API key is readable by other users on this system! To fix this, you can run 'chmod 600 /Users/timothebonhoure/.kaggle/kaggle.json'\n"
     ]
    }
   ],
   "source": [
    "%autoreload 2\n",
    "from utils import summary, visualise, string_to_color, visualise_at_interval, convertImage, initialize_data_loader"
   ]
  },
  {
   "cell_type": "markdown",
   "metadata": {},
   "source": [
    "# Canvas reproduction"
   ]
  },
  {
   "cell_type": "code",
   "execution_count": 4,
   "metadata": {},
   "outputs": [
    {
     "name": "stdout",
     "output_type": "stream",
     "text": [
      "Warning: Your Kaggle API key is readable by other users on this system! To fix this, you can run 'chmod 600 /Users/timothebonhoure/.kaggle/kaggle.json'\n"
     ]
    },
    {
     "ename": "ZeroDivisionError",
     "evalue": "division by zero",
     "output_type": "error",
     "traceback": [
      "\u001b[0;31m---------------------------------------------------------------------------\u001b[0m",
      "\u001b[0;31mZeroDivisionError\u001b[0m                         Traceback (most recent call last)",
      "Cell \u001b[0;32mIn[4], line 1\u001b[0m\n\u001b[0;32m----> 1\u001b[0m \u001b[43mvisualise_at_interval\u001b[49m\u001b[43m(\u001b[49m\n\u001b[1;32m      2\u001b[0m \u001b[43m    \u001b[49m\u001b[38;5;28;43;01mlambda\u001b[39;49;00m\u001b[43m \u001b[49m\u001b[43mx\u001b[49m\u001b[43m,\u001b[49m\u001b[43m \u001b[49m\u001b[43my\u001b[49m\u001b[43m,\u001b[49m\u001b[43m \u001b[49m\u001b[43muser\u001b[49m\u001b[43m,\u001b[49m\u001b[43m \u001b[49m\u001b[43mis_mod\u001b[49m\u001b[43m \u001b[49m\u001b[43m:\u001b[49m\u001b[43m \u001b[49m\u001b[43my\u001b[49m\u001b[43m,\u001b[49m\u001b[43m \u001b[49m\n\u001b[1;32m      3\u001b[0m \u001b[43m    \u001b[49m\u001b[38;5;28;43;01mlambda\u001b[39;49;00m\u001b[43m \u001b[49m\u001b[43ml\u001b[49m\u001b[43m \u001b[49m\u001b[43m:\u001b[49m\u001b[43m \u001b[49m\u001b[38;5;28;43mlist\u001b[39;49m\u001b[43m(\u001b[49m\u001b[43mtqdm\u001b[49m\u001b[43m(\u001b[49m\u001b[43m(\u001b[49m\u001b[43mconvertImage\u001b[49m\u001b[43m(\u001b[49m\u001b[43mx\u001b[49m\u001b[43m,\u001b[49m\u001b[43mstring_to_color\u001b[49m\u001b[43m)\u001b[49m\u001b[43m \u001b[49m\u001b[38;5;28;43;01mfor\u001b[39;49;00m\u001b[43m \u001b[49m\u001b[43mx\u001b[49m\u001b[43m \u001b[49m\u001b[38;5;129;43;01min\u001b[39;49;00m\u001b[43m \u001b[49m\u001b[43ml\u001b[49m\u001b[43m)\u001b[49m\u001b[43m,\u001b[49m\u001b[43m \u001b[49m\u001b[43mtotal\u001b[49m\u001b[38;5;241;43m=\u001b[39;49m\u001b[38;5;28;43mlen\u001b[39;49m\u001b[43m(\u001b[49m\u001b[43ml\u001b[49m\u001b[43m)\u001b[49m\u001b[43m)\u001b[49m\u001b[43m)\u001b[49m\u001b[43m,\u001b[49m\u001b[43m \u001b[49m\n\u001b[1;32m      4\u001b[0m \u001b[43m    \u001b[49m\u001b[43mpd\u001b[49m\u001b[38;5;241;43m.\u001b[39;49m\u001b[43mTimedelta\u001b[49m\u001b[43m(\u001b[49m\u001b[43mminutes\u001b[49m\u001b[43m \u001b[49m\u001b[38;5;241;43m=\u001b[39;49m\u001b[43m \u001b[49m\u001b[38;5;241;43m15\u001b[39;49m\u001b[43m)\u001b[49m\u001b[43m,\u001b[49m\u001b[43m \u001b[49m\n\u001b[1;32m      5\u001b[0m \u001b[43m    \u001b[49m\u001b[43m[\u001b[49m\u001b[43m[\u001b[49m\u001b[38;5;124;43m\"\u001b[39;49m\u001b[38;5;124;43m#FFFFFF\u001b[39;49m\u001b[38;5;124;43m\"\u001b[39;49m\u001b[43m \u001b[49m\u001b[38;5;28;43;01mfor\u001b[39;49;00m\u001b[43m \u001b[49m\u001b[43mi\u001b[49m\u001b[43m \u001b[49m\u001b[38;5;129;43;01min\u001b[39;49;00m\u001b[43m \u001b[49m\u001b[38;5;28;43mrange\u001b[39;49m\u001b[43m(\u001b[49m\u001b[38;5;241;43m2000\u001b[39;49m\u001b[43m)\u001b[49m\u001b[43m]\u001b[49m\u001b[43m \u001b[49m\u001b[38;5;28;43;01mfor\u001b[39;49;00m\u001b[43m \u001b[49m\u001b[43mi\u001b[49m\u001b[43m \u001b[49m\u001b[38;5;129;43;01min\u001b[39;49;00m\u001b[43m \u001b[49m\u001b[38;5;28;43mrange\u001b[39;49m\u001b[43m(\u001b[49m\u001b[38;5;241;43m1000\u001b[39;49m\u001b[43m)\u001b[49m\u001b[43m]\u001b[49m\u001b[43m,\u001b[49m\n\u001b[1;32m      6\u001b[0m \u001b[43m    \u001b[49m\u001b[38;5;124;43m\"\u001b[39;49m\u001b[38;5;124;43mimage\u001b[39;49m\u001b[38;5;124;43m\"\u001b[39;49m\u001b[43m,\u001b[49m\n\u001b[1;32m      7\u001b[0m \u001b[43m)\u001b[49m\n",
      "File \u001b[0;32m~/Documents/GitHub/rplace_data_mining/utils.py:185\u001b[0m, in \u001b[0;36mvisualise_at_interval\u001b[0;34m(summary_function, transforms, interval, startingState, rezfilename, startingTimeStamp, EndingTimeStamp, duration, rez)\u001b[0m\n\u001b[1;32m    182\u001b[0m files_and_timestamp \u001b[39m=\u001b[39m data\u001b[39m.\u001b[39mstartStamps\n\u001b[1;32m    184\u001b[0m \u001b[39m# Transform Timedelta to ms\u001b[39;00m\n\u001b[0;32m--> 185\u001b[0m startingTimeStamp \u001b[39m=\u001b[39m convert_to_milliseconds(startingTimeStamp)\n\u001b[1;32m    186\u001b[0m EndingTimeStamp \u001b[39m=\u001b[39m convert_to_milliseconds(EndingTimeStamp)\n\u001b[1;32m    187\u001b[0m duration \u001b[39m=\u001b[39m convert_to_milliseconds(duration)\n",
      "File \u001b[0;32m~/Documents/GitHub/rplace_data_mining/utils.py:152\u001b[0m, in \u001b[0;36mconvert_to_milliseconds\u001b[0;34m(value)\u001b[0m\n\u001b[1;32m    151\u001b[0m \u001b[39mdef\u001b[39;00m \u001b[39mconvert_to_milliseconds\u001b[39m(value: TimePassed) \u001b[39m-\u001b[39m\u001b[39m>\u001b[39m \u001b[39mint\u001b[39m:\n\u001b[0;32m--> 152\u001b[0m     \u001b[39m1\u001b[39;49m\u001b[39m/\u001b[39;49m\u001b[39m0\u001b[39;49m\n\u001b[1;32m    153\u001b[0m     \u001b[39mif\u001b[39;00m \u001b[39misinstance\u001b[39m(value, pd\u001b[39m.\u001b[39mTimedelta):\n\u001b[1;32m    154\u001b[0m         \u001b[39mreturn\u001b[39;00m value\u001b[39m.\u001b[39mmicroseconds \u001b[39m/\u001b[39m\u001b[39m/\u001b[39m \u001b[39m1000\u001b[39m\n",
      "\u001b[0;31mZeroDivisionError\u001b[0m: division by zero"
     ]
    }
   ],
   "source": [
    "visualise_at_interval(\n",
    "    lambda rez, row : row.pixel_color, \n",
    "    lambda l : list(tqdm((convertImage(x,string_to_color) for x in l), total=len(l))), \n",
    "    pd.Timedelta(minutes = 15), \n",
    "    [[\"#FFFFFF\" for i in range(2000)] for i in range(1000)],\n",
    "    \"image\",\n",
    ") "
   ]
  },
  {
   "cell_type": "markdown",
   "metadata": {},
   "source": [
    "# Activity"
   ]
  },
  {
   "cell_type": "code",
   "execution_count": 19,
   "metadata": {},
   "outputs": [],
   "source": [
    "def get_transform(images, blur = 0):\n",
    "    blurImages =[gaussian_filter(np.array(img), blur) for img in images]\n",
    "    maximum = np.max(blurImages)\n",
    "    custom_cmap = ScalarMappable(cmap='RdBu_r', norm=LogNorm(vmin=1, vmax=maximum + 1))\n",
    "    return [custom_cmap.to_rgba(img, bytes= True) for img in blurImages]"
   ]
  },
  {
   "cell_type": "code",
   "execution_count": 24,
   "metadata": {},
   "outputs": [
    {
     "name": "stdout",
     "output_type": "stream",
     "text": [
      "loaded file : 2023_place_canvas_history-000000000019.csv.gzip\n",
      "\n",
      "start making visualizations\n",
      "results saved on activite.gif\n"
     ]
    }
   ],
   "source": [
    "\n",
    "visualise_at_interval(\n",
    "    lambda rez, row: rez + 1, \n",
    "    get_transform,\n",
    "    pd.Timedelta(minutes = 15), \n",
    "    np.ones((1000,2000)),\n",
    "    \"activite\",\n",
    "    duration = pd.Timedelta(minutes = 30),\n",
    ") "
   ]
  },
  {
   "cell_type": "code",
   "execution_count": 26,
   "metadata": {},
   "outputs": [
    {
     "name": "stdout",
     "output_type": "stream",
     "text": [
      "loaded file : 2023_place_canvas_history-000000000019.csv.gzip\n",
      "\n",
      "start making visualizations\n",
      "results saved on activite_total.gif\n"
     ]
    }
   ],
   "source": [
    "\n",
    "visualise_at_interval(\n",
    "    lambda rez, row : rez + 1, \n",
    "    get_transform, \n",
    "    -1, \n",
    "    np.ones((1000,2000)),\n",
    "    \"activite_total\",\n",
    ") "
   ]
  },
  {
   "cell_type": "code",
   "execution_count": null,
   "metadata": {},
   "outputs": [],
   "source": [
    "blurs =[1,2,5,10,50,100]\n",
    "visualise_at_interval(\n",
    "    lambda rez, row  : rez + 1, \n",
    "    { str(blur) : partial(get_transform, blur = blur) for blur in blurs}, \n",
    "    pd.Timedelta(minutes = 15), \n",
    "    np.ones((1000,1000)),\n",
    "    lambda blur : f\"activite_blur_{blur}\",\n",
    "    duration = pd.Timedelta(minutes = 30),\n",
    ") \n",
    "\n",
    "\n",
    "visualise_at_interval(\n",
    "    lambda rez, row : rez + int(not row.is_mod), \n",
    "    { str(blur) : partial(get_transform, blur = blur) for blur in blurs}, \n",
    "    pd.Timedelta(minutes = 15), \n",
    "    np.ones((1000,1000)),\n",
    "    lambda blur : f\"activite_blur_no_moderator_{blur}\",\n",
    "    duration = pd.Timedelta(minutes = 30),\n",
    ") \n"
   ]
  },
  {
   "cell_type": "markdown",
   "metadata": {},
   "source": [
    "# Variété d'utilisateur"
   ]
  },
  {
   "cell_type": "code",
   "execution_count": 35,
   "metadata": {},
   "outputs": [],
   "source": [
    "def compose(f, g):\n",
    "    return lambda *args, **kwargs : f(g(*args, **kwargs))\n",
    "\n",
    "def add_user(user, users):\n",
    "    users.add(user)\n",
    "    return users\n",
    "\n",
    "def from_users_sets_by_points_to_len_by_points(images):\n",
    "    return [[[len(user_set)+1 for user_set in row] for row in image] for image in images]"
   ]
  },
  {
   "cell_type": "code",
   "execution_count": 37,
   "metadata": {},
   "outputs": [
    {
     "data": {
      "text/plain": [
       "just made summary from 2023-07-20 13:55:26.088000+00:00 to 2023-07-20 14:10:26.088000+00:00"
      ]
     },
     "metadata": {},
     "output_type": "display_data"
    },
    {
     "name": "stdout",
     "output_type": "stream",
     "text": [
      "start loading file: 2023_place_canvas_history-000000000000.csv\n",
      "start formating data\n",
      "loaded file : 2023_place_canvas_history-000000000000.csv\n",
      "results saved on users_variety_blur1.gif\n",
      "results saved on users_variety_blur5.gif\n",
      "results saved on users_variety_blur10.gif\n"
     ]
    }
   ],
   "source": [
    "blurs =[1,5,10]\n",
    "visualise_at_interval(\n",
    "    lambda users, _, user, is_mod  : users if is_mod else add_user(user, users), \n",
    "    { str(blur) : compose(partial(get_transform, blur = blur),\n",
    "                          from_users_sets_by_points_to_len_by_points) for blur in blurs}, \n",
    "    pd.Timedelta(minutes = 5), \n",
    "    [[set() for i in range(1000)] for j in range(1000)],\n",
    "    lambda blur : f\"users_variety_blur{blur}\",\n",
    "    duration = pd.Timedelta(minutes = 15),\n",
    ")"
   ]
  },
  {
   "cell_type": "markdown",
   "metadata": {},
   "source": [
    "# Détection de communauté"
   ]
  },
  {
   "cell_type": "code",
   "execution_count": null,
   "metadata": {},
   "outputs": [],
   "source": []
  },
  {
   "cell_type": "code",
   "execution_count": 8,
   "metadata": {},
   "outputs": [
    {
     "name": "stdout",
     "output_type": "stream",
     "text": [
      "loaded file : 2023_place_canvas_history-000000000001.csv.gzip\n",
      "\n",
      "just made summary from 0 days 04:23:00 to 0 days 04:24:00\n",
      "epochs : i\n"
     ]
    },
    {
     "name": "stderr",
     "output_type": "stream",
     "text": [
      "100%|██████████| 18690/18690 [00:00<00:00, 644190.50it/s]\n"
     ]
    },
    {
     "ename": "KeyboardInterrupt",
     "evalue": "",
     "output_type": "error",
     "traceback": [
      "\u001b[0;31m---------------------------------------------------------------------------\u001b[0m",
      "\u001b[0;31mKeyboardInterrupt\u001b[0m                         Traceback (most recent call last)",
      "Cell \u001b[0;32mIn[8], line 15\u001b[0m\n\u001b[1;32m     11\u001b[0m         ennemies[row\u001b[38;5;241m.\u001b[39muser][last_user] \u001b[38;5;241m=\u001b[39m ennemies[row\u001b[38;5;241m.\u001b[39muser]\u001b[38;5;241m.\u001b[39mget(last_user, \u001b[38;5;241m0\u001b[39m) \u001b[38;5;241m+\u001b[39m \u001b[38;5;241m1\u001b[39m\n\u001b[1;32m     12\u001b[0m     \u001b[38;5;28;01mreturn\u001b[39;00m row\u001b[38;5;241m.\u001b[39muser\n\u001b[0;32m---> 15\u001b[0m \u001b[43mvisualise_at_interval\u001b[49m\u001b[43m(\u001b[49m\n\u001b[1;32m     16\u001b[0m \u001b[43m    \u001b[49m\u001b[43mget_ennemy_and_return_new_user\u001b[49m\u001b[43m,\u001b[49m\u001b[43m \u001b[49m\n\u001b[1;32m     17\u001b[0m \u001b[43m    \u001b[49m\u001b[43m{\u001b[49m\u001b[43m}\u001b[49m\u001b[43m,\u001b[49m\u001b[43m \u001b[49m\n\u001b[1;32m     18\u001b[0m \u001b[43m    \u001b[49m\u001b[43mpd\u001b[49m\u001b[38;5;241;43m.\u001b[39;49m\u001b[43mTimedelta\u001b[49m\u001b[43m(\u001b[49m\u001b[43mminutes\u001b[49m\u001b[38;5;241;43m=\u001b[39;49m\u001b[43m \u001b[49m\u001b[38;5;241;43m1\u001b[39;49m\u001b[43m)\u001b[49m\u001b[43m,\u001b[49m\u001b[43m \u001b[49m\n\u001b[1;32m     19\u001b[0m \u001b[43m    \u001b[49m\u001b[43m[\u001b[49m\u001b[43m[\u001b[49m\u001b[38;5;124;43m\"\u001b[39;49m\u001b[38;5;124;43m\"\u001b[39;49m\u001b[43m \u001b[49m\u001b[38;5;28;43;01mfor\u001b[39;49;00m\u001b[43m \u001b[49m\u001b[43mi\u001b[49m\u001b[43m \u001b[49m\u001b[38;5;129;43;01min\u001b[39;49;00m\u001b[43m \u001b[49m\u001b[38;5;28;43mrange\u001b[39;49m\u001b[43m(\u001b[49m\u001b[38;5;241;43m2000\u001b[39;49m\u001b[43m)\u001b[49m\u001b[43m]\u001b[49m\u001b[43m \u001b[49m\u001b[38;5;28;43;01mfor\u001b[39;49;00m\u001b[43m \u001b[49m\u001b[43mj\u001b[49m\u001b[43m \u001b[49m\u001b[38;5;129;43;01min\u001b[39;49;00m\u001b[43m \u001b[49m\u001b[38;5;28;43mrange\u001b[39;49m\u001b[43m(\u001b[49m\u001b[38;5;241;43m1000\u001b[39;49m\u001b[43m)\u001b[49m\u001b[43m]\u001b[49m\u001b[43m,\u001b[49m\n\u001b[1;32m     20\u001b[0m \u001b[43m    \u001b[49m\u001b[38;5;124;43m\"\u001b[39;49m\u001b[38;5;124;43m\"\u001b[39;49m\u001b[43m,\u001b[49m\n\u001b[1;32m     21\u001b[0m \u001b[43m    \u001b[49m\u001b[43mduration\u001b[49m\u001b[38;5;241;43m=\u001b[39;49m\u001b[43m \u001b[49m\u001b[43mpd\u001b[49m\u001b[38;5;241;43m.\u001b[39;49m\u001b[43mTimedelta\u001b[49m\u001b[43m(\u001b[49m\u001b[43mminutes\u001b[49m\u001b[38;5;241;43m=\u001b[39;49m\u001b[43m \u001b[49m\u001b[38;5;241;43m1\u001b[39;49m\u001b[43m)\u001b[49m\n\u001b[1;32m     22\u001b[0m \u001b[43m)\u001b[49m\n",
      "File \u001b[0;32m~/Documents/GitHub/rplace_data_mining/utils.py:236\u001b[0m, in \u001b[0;36mvisualise_at_interval\u001b[0;34m(summary_function, transforms, interval, startingState, rezfilename, startingTimeStamp, EndingTimeStamp, duration, rez)\u001b[0m\n\u001b[1;32m    234\u001b[0m i \u001b[39m+\u001b[39m\u001b[39m=\u001b[39m \u001b[39m1\u001b[39m\n\u001b[1;32m    235\u001b[0m \u001b[39mif\u001b[39;00m duration \u001b[39m>\u001b[39m \u001b[39m0\u001b[39m:\n\u001b[0;32m--> 236\u001b[0m     currentState \u001b[39m=\u001b[39m copy\u001b[39m.\u001b[39;49mdeepcopy(startingState)\n\u001b[1;32m    237\u001b[0m     dh\u001b[39m.\u001b[39mupdate(\n\u001b[1;32m    238\u001b[0m         \u001b[39mf\u001b[39m\u001b[39m\"\"\"\u001b[39m\n\u001b[1;32m    239\u001b[0m \u001b[39m            just made summary from \u001b[39m\u001b[39m{\u001b[39;00mpd\u001b[39m.\u001b[39mTimedelta(milliseconds\u001b[39m=\u001b[39mcurrentTimeStamp)\u001b[39m}\u001b[39;00m\u001b[39m to \u001b[39m\u001b[39m{\u001b[39;00mpd\u001b[39m.\u001b[39mTimedelta(milliseconds\u001b[39m=\u001b[39mnextTimeStamp)\u001b[39m}\u001b[39;00m\n\u001b[1;32m    240\u001b[0m \u001b[39m            epochs : i\u001b[39m\n\u001b[1;32m    241\u001b[0m \u001b[39m        \u001b[39m\u001b[39m\"\"\"\u001b[39m\n\u001b[1;32m    242\u001b[0m     )\n\u001b[1;32m    243\u001b[0m \u001b[39melse\u001b[39;00m:\n",
      "File \u001b[0;32m~/miniconda3/lib/python3.10/copy.py:146\u001b[0m, in \u001b[0;36mdeepcopy\u001b[0;34m(x, memo, _nil)\u001b[0m\n\u001b[1;32m    144\u001b[0m copier \u001b[39m=\u001b[39m _deepcopy_dispatch\u001b[39m.\u001b[39mget(\u001b[39mcls\u001b[39m)\n\u001b[1;32m    145\u001b[0m \u001b[39mif\u001b[39;00m copier \u001b[39mis\u001b[39;00m \u001b[39mnot\u001b[39;00m \u001b[39mNone\u001b[39;00m:\n\u001b[0;32m--> 146\u001b[0m     y \u001b[39m=\u001b[39m copier(x, memo)\n\u001b[1;32m    147\u001b[0m \u001b[39melse\u001b[39;00m:\n\u001b[1;32m    148\u001b[0m     \u001b[39mif\u001b[39;00m \u001b[39missubclass\u001b[39m(\u001b[39mcls\u001b[39m, \u001b[39mtype\u001b[39m):\n",
      "File \u001b[0;32m~/miniconda3/lib/python3.10/copy.py:206\u001b[0m, in \u001b[0;36m_deepcopy_list\u001b[0;34m(x, memo, deepcopy)\u001b[0m\n\u001b[1;32m    204\u001b[0m append \u001b[39m=\u001b[39m y\u001b[39m.\u001b[39mappend\n\u001b[1;32m    205\u001b[0m \u001b[39mfor\u001b[39;00m a \u001b[39min\u001b[39;00m x:\n\u001b[0;32m--> 206\u001b[0m     append(deepcopy(a, memo))\n\u001b[1;32m    207\u001b[0m \u001b[39mreturn\u001b[39;00m y\n",
      "File \u001b[0;32m~/miniconda3/lib/python3.10/copy.py:146\u001b[0m, in \u001b[0;36mdeepcopy\u001b[0;34m(x, memo, _nil)\u001b[0m\n\u001b[1;32m    144\u001b[0m copier \u001b[39m=\u001b[39m _deepcopy_dispatch\u001b[39m.\u001b[39mget(\u001b[39mcls\u001b[39m)\n\u001b[1;32m    145\u001b[0m \u001b[39mif\u001b[39;00m copier \u001b[39mis\u001b[39;00m \u001b[39mnot\u001b[39;00m \u001b[39mNone\u001b[39;00m:\n\u001b[0;32m--> 146\u001b[0m     y \u001b[39m=\u001b[39m copier(x, memo)\n\u001b[1;32m    147\u001b[0m \u001b[39melse\u001b[39;00m:\n\u001b[1;32m    148\u001b[0m     \u001b[39mif\u001b[39;00m \u001b[39missubclass\u001b[39m(\u001b[39mcls\u001b[39m, \u001b[39mtype\u001b[39m):\n",
      "File \u001b[0;32m~/miniconda3/lib/python3.10/copy.py:206\u001b[0m, in \u001b[0;36m_deepcopy_list\u001b[0;34m(x, memo, deepcopy)\u001b[0m\n\u001b[1;32m    204\u001b[0m append \u001b[39m=\u001b[39m y\u001b[39m.\u001b[39mappend\n\u001b[1;32m    205\u001b[0m \u001b[39mfor\u001b[39;00m a \u001b[39min\u001b[39;00m x:\n\u001b[0;32m--> 206\u001b[0m     append(deepcopy(a, memo))\n\u001b[1;32m    207\u001b[0m \u001b[39mreturn\u001b[39;00m y\n",
      "File \u001b[0;32m~/miniconda3/lib/python3.10/copy.py:142\u001b[0m, in \u001b[0;36mdeepcopy\u001b[0;34m(x, memo, _nil)\u001b[0m\n\u001b[1;32m    139\u001b[0m \u001b[39mif\u001b[39;00m y \u001b[39mis\u001b[39;00m \u001b[39mnot\u001b[39;00m _nil:\n\u001b[1;32m    140\u001b[0m     \u001b[39mreturn\u001b[39;00m y\n\u001b[0;32m--> 142\u001b[0m \u001b[39mcls\u001b[39m \u001b[39m=\u001b[39m \u001b[39mtype\u001b[39;49m(x)\n\u001b[1;32m    144\u001b[0m copier \u001b[39m=\u001b[39m _deepcopy_dispatch\u001b[39m.\u001b[39mget(\u001b[39mcls\u001b[39m)\n\u001b[1;32m    145\u001b[0m \u001b[39mif\u001b[39;00m copier \u001b[39mis\u001b[39;00m \u001b[39mnot\u001b[39;00m \u001b[39mNone\u001b[39;00m:\n",
      "\u001b[0;31mKeyboardInterrupt\u001b[0m: "
     ]
    }
   ],
   "source": [
    "ennemies = {}\n",
    "moderators = set()\n",
    "\n",
    "def get_ennemy_and_return_new_user(last_user, row, is_mod):\n",
    "\n",
    "    if is_mod :\n",
    "        moderators.add(row.user)\n",
    "    if last_user :\n",
    "        if not row.user in ennemies:\n",
    "            ennemies[row.user] = {}\n",
    "        ennemies[row.user][last_user] = ennemies[row.user].get(last_user, 0) + 1\n",
    "    return row.user\n",
    "\n",
    "\n",
    "visualise_at_interval(\n",
    "    get_ennemy_and_return_new_user, \n",
    "    {}, \n",
    "    -1, \n",
    "    [[\"\" for i in range(2000)] for j in range(1000)],\n",
    "    \"\",\n",
    "    EndingTimeStamp= pd.Timedelta(days= 1)\n",
    ") "
   ]
  },
  {
   "cell_type": "code",
   "execution_count": 4,
   "metadata": {},
   "outputs": [
    {
     "data": {
      "text/plain": [
       "47163075"
      ]
     },
     "execution_count": 4,
     "metadata": {},
     "output_type": "execute_result"
    }
   ],
   "source": [
    "total_link = sum(len(neighbors) for neighbors in ennemies.values())\n",
    "total_link"
   ]
  },
  {
   "cell_type": "code",
   "execution_count": 3,
   "metadata": {},
   "outputs": [],
   "source": [
    "def make_symmetric(adj_dict):\n",
    "    rez = copy.deepcopy(adj_dict)\n",
    "    for node in adj_dict:\n",
    "        for enemy in adj_dict[node]:\n",
    "            rez[enemy][node] = adj_dict[enemy].get(node,0) + adj_dict[node].get(enemy,0)\n",
    "    return rez\n",
    "\n",
    "def normalize_weights(adj_dict):\n",
    "    degree = { node : sum(neighbor.values()) for node, neighbor in adj_dict.items()}\n",
    "\n",
    "    for node1 in adj_dict:\n",
    "        for node2 in adj_dict[node1]:\n",
    "            adj_dict[node1][node2] /= degree[node1]\n",
    "\n",
    "def get_weight_from_stats(middle_weight,weight1, weight2):\n",
    "    return middle_weight * (weight1 + weight2) / 4\n",
    "\n",
    "\n",
    "def ennemies_of_enemies_are_friends(enemies):\n",
    "    enemies = make_symmetric(enemies)\n",
    "    degree = { node : sum(neighbor.values()) for node, neighbor in enemies.items()}\n",
    "    enemies_of_enemies = {node : {enemy : -2*value / (degree[node] + degree[enemy]) for enemy, value in enemies[node].items()} for node in enemies}\n",
    "    for node in enemies:\n",
    "        for enemy, weight1 in enemies[node].items():\n",
    "            for enemy_of_enemy, weight2 in enemies[enemy].items():\n",
    "                if enemy_of_enemy != node :\n",
    "                    enemies_of_enemies[node][enemy_of_enemy] = enemies_of_enemies[node].get(enemy_of_enemy,0) + get_weight_from_stats((weight1 + weight2)/degree[enemy], weight1/degree[node],weight2/degree[enemy_of_enemy])\n",
    "    return enemies_of_enemies\n",
    "\n",
    "def keep_only_above_threshold(graph, threshold):\n",
    "    if threshold < 0 :\n",
    "        raise ValueError(\"threshold needs to be a positive value\")\n",
    "    return {node : {neighbor : val for neighbor,val in neighbors.items() if val > threshold} for node, neighbors in tqdm(graph.items())}\n",
    "\n",
    "def to_networkx(adj_dict):\n",
    "    total_link = sum(len(neighbors) for neighbors in adj_dict.values())\n",
    "    G= nx.Graph()\n",
    "    G.add_edges_from(tqdm(((node1,node2,{'weight' : weight}) for node1, neighbors in adj_dict.items() for node2, weight in neighbors.items()), total= total_link, desc = \"to_networkx\"))\n",
    "    return G"
   ]
  },
  {
   "cell_type": "code",
   "execution_count": 60,
   "metadata": {},
   "outputs": [
    {
     "name": "stdout",
     "output_type": "stream",
     "text": [
      "{1: {2: 2}, 2: {1: 2}}\n"
     ]
    },
    {
     "data": {
      "text/plain": [
       "{1: {2: -1.0}, 2: {1: -1.0}}"
      ]
     },
     "execution_count": 60,
     "metadata": {},
     "output_type": "execute_result"
    }
   ],
   "source": [
    "ennemies_of_enemies_are_friends(\n",
    "    {\n",
    "        1 : {2:1},\n",
    "        2 : {1:1},\n",
    "    }\n",
    ")"
   ]
  },
  {
   "cell_type": "code",
   "execution_count": 4,
   "metadata": {},
   "outputs": [
    {
     "name": "stderr",
     "output_type": "stream",
     "text": [
      "100%|██████████| 10000/10000 [00:00<00:00, 38150.19it/s]\n",
      "to_networkx: 100%|██████████| 3874818/3874818 [00:05<00:00, 757549.50it/s]\n",
      "100%|██████████| 10000/10000 [00:02<00:00, 4052.55it/s]\n",
      "100%|██████████| 10000/10000 [00:02<00:00, 4600.84it/s]\n",
      "100%|██████████| 10000/10000 [00:02<00:00, 4764.84it/s]\n",
      "100%|██████████| 10000/10000 [00:02<00:00, 4899.74it/s]\n",
      "100%|██████████| 10000/10000 [00:02<00:00, 4947.79it/s]\n",
      "100%|██████████| 10000/10000 [00:01<00:00, 5098.05it/s]\n",
      "100%|██████████| 10000/10000 [00:01<00:00, 5165.98it/s]\n",
      "100%|██████████| 10000/10000 [00:01<00:00, 5250.31it/s]\n",
      "100%|██████████| 10000/10000 [00:01<00:00, 5235.70it/s]\n",
      "100%|██████████| 10000/10000 [00:01<00:00, 5285.74it/s]\n",
      "100%|██████████| 10000/10000 [00:01<00:00, 5628.16it/s]\n",
      "100%|██████████| 10000/10000 [00:01<00:00, 5476.18it/s]\n",
      "100%|██████████| 10000/10000 [00:01<00:00, 5535.92it/s]\n",
      "100%|██████████| 10000/10000 [00:01<00:00, 5437.52it/s]\n",
      "100%|██████████| 10000/10000 [00:01<00:00, 5729.79it/s]\n",
      "100%|██████████| 10000/10000 [00:01<00:00, 5816.93it/s]\n",
      "100%|██████████| 10000/10000 [00:01<00:00, 5816.48it/s]\n",
      "100%|██████████| 10000/10000 [00:01<00:00, 5794.89it/s]\n",
      "100%|██████████| 10000/10000 [00:01<00:00, 5795.45it/s]\n",
      "100%|██████████| 10000/10000 [00:01<00:00, 5906.71it/s]\n",
      "100%|██████████| 10000/10000 [00:01<00:00, 5724.97it/s]\n",
      "100%|██████████| 10000/10000 [00:01<00:00, 5691.12it/s]\n",
      "100%|██████████| 10000/10000 [00:01<00:00, 5854.38it/s]\n",
      "100%|██████████| 10000/10000 [00:01<00:00, 5744.06it/s]\n",
      "100%|██████████| 10000/10000 [00:01<00:00, 5859.46it/s]\n",
      "100%|██████████| 10000/10000 [00:01<00:00, 5956.81it/s]\n",
      "100%|██████████| 10000/10000 [00:01<00:00, 5945.19it/s]\n",
      "100%|██████████| 10000/10000 [00:01<00:00, 5947.73it/s]\n",
      "100%|██████████| 10000/10000 [00:01<00:00, 5953.24it/s]\n",
      "100%|██████████| 10000/10000 [00:01<00:00, 5934.13it/s]\n",
      "100%|██████████| 10000/10000 [00:01<00:00, 5985.83it/s]\n",
      "100%|██████████| 10000/10000 [00:01<00:00, 5972.91it/s]\n",
      "100%|██████████| 10000/10000 [00:01<00:00, 5733.36it/s]\n",
      "100%|██████████| 10000/10000 [00:01<00:00, 5531.48it/s]\n",
      "100%|██████████| 10000/10000 [00:01<00:00, 5874.67it/s]\n",
      "100%|██████████| 10000/10000 [00:01<00:00, 5923.02it/s]\n",
      "100%|██████████| 10000/10000 [00:01<00:00, 5898.60it/s]\n",
      "100%|██████████| 10000/10000 [00:01<00:00, 5847.16it/s]\n",
      "100%|██████████| 10000/10000 [00:01<00:00, 5881.25it/s]\n",
      "100%|██████████| 10000/10000 [00:01<00:00, 5982.13it/s]\n",
      "100%|██████████| 10000/10000 [00:01<00:00, 5993.35it/s]\n",
      "100%|██████████| 10000/10000 [00:01<00:00, 5972.53it/s]\n",
      "100%|██████████| 10000/10000 [00:01<00:00, 5998.76it/s]\n",
      "100%|██████████| 10000/10000 [00:01<00:00, 5985.73it/s]\n",
      "100%|██████████| 10000/10000 [00:01<00:00, 5914.32it/s]\n",
      "100%|██████████| 10000/10000 [00:01<00:00, 5775.03it/s]\n",
      "100%|██████████| 10000/10000 [00:01<00:00, 5838.70it/s]\n",
      "100%|██████████| 10000/10000 [00:01<00:00, 6009.16it/s]\n",
      "100%|██████████| 10000/10000 [00:01<00:00, 5935.68it/s]\n",
      "100%|██████████| 10000/10000 [00:01<00:00, 5975.97it/s]\n",
      "100%|██████████| 10000/10000 [00:01<00:00, 5994.82it/s]\n",
      "100%|██████████| 10000/10000 [00:01<00:00, 5967.88it/s]\n",
      "100%|██████████| 10000/10000 [00:01<00:00, 5962.80it/s]\n",
      "100%|██████████| 10000/10000 [00:01<00:00, 6005.36it/s]\n",
      "100%|██████████| 10000/10000 [00:01<00:00, 5984.24it/s]\n",
      "100%|██████████| 10000/10000 [00:01<00:00, 6000.41it/s]\n",
      "100%|██████████| 10000/10000 [00:01<00:00, 6024.39it/s]\n",
      "100%|██████████| 10000/10000 [00:01<00:00, 5896.81it/s]\n",
      "100%|██████████| 10000/10000 [00:01<00:00, 5956.50it/s]\n",
      "100%|██████████| 10000/10000 [00:01<00:00, 5775.22it/s]\n",
      "100%|██████████| 10000/10000 [00:01<00:00, 5790.26it/s]\n",
      "100%|██████████| 10000/10000 [00:01<00:00, 5745.87it/s]\n",
      "100%|██████████| 10000/10000 [00:01<00:00, 5728.96it/s]\n",
      "100%|██████████| 10000/10000 [00:01<00:00, 5307.91it/s]\n",
      "100%|██████████| 10000/10000 [00:01<00:00, 5599.94it/s]\n",
      "100%|██████████| 10000/10000 [00:01<00:00, 5714.44it/s]\n",
      "100%|██████████| 10000/10000 [00:01<00:00, 5690.95it/s]\n",
      "100%|██████████| 10000/10000 [00:01<00:00, 5724.18it/s]\n",
      "100%|██████████| 10000/10000 [00:01<00:00, 5745.60it/s]\n",
      "100%|██████████| 10000/10000 [00:01<00:00, 5526.71it/s]\n",
      "100%|██████████| 10000/10000 [00:01<00:00, 5817.58it/s]\n",
      "100%|██████████| 10000/10000 [00:01<00:00, 5776.43it/s]\n",
      "100%|██████████| 10000/10000 [00:01<00:00, 5665.43it/s]\n",
      "100%|██████████| 10000/10000 [00:01<00:00, 5696.50it/s]\n",
      "100%|██████████| 10000/10000 [00:01<00:00, 5835.80it/s]\n",
      "100%|██████████| 10000/10000 [00:01<00:00, 5775.38it/s]\n",
      "100%|██████████| 10000/10000 [00:01<00:00, 5890.22it/s]\n",
      "100%|██████████| 10000/10000 [00:01<00:00, 5656.26it/s]\n",
      "100%|██████████| 10000/10000 [00:01<00:00, 5703.01it/s]\n",
      "100%|██████████| 10000/10000 [00:01<00:00, 5747.98it/s]\n",
      "100%|██████████| 10000/10000 [00:01<00:00, 5909.09it/s]\n",
      "100%|██████████| 10000/10000 [00:01<00:00, 5857.89it/s]\n",
      "100%|██████████| 10000/10000 [00:01<00:00, 5842.00it/s]\n",
      "100%|██████████| 10000/10000 [00:01<00:00, 5776.68it/s]\n",
      "100%|██████████| 10000/10000 [00:01<00:00, 5825.05it/s]\n",
      "100%|██████████| 10000/10000 [00:01<00:00, 5533.53it/s]\n",
      "100%|██████████| 10000/10000 [00:01<00:00, 5457.40it/s]\n",
      "100%|██████████| 10000/10000 [00:01<00:00, 5611.83it/s]\n",
      "100%|██████████| 10000/10000 [00:01<00:00, 5522.03it/s]\n",
      "100%|██████████| 10000/10000 [00:01<00:00, 5776.09it/s]\n",
      "100%|██████████| 10000/10000 [00:01<00:00, 5867.09it/s]\n",
      "100%|██████████| 10000/10000 [00:01<00:00, 5850.90it/s]\n",
      "100%|██████████| 10000/10000 [00:01<00:00, 5811.40it/s]\n",
      "100%|██████████| 10000/10000 [00:01<00:00, 5784.91it/s]\n",
      "100%|██████████| 10000/10000 [00:01<00:00, 5843.20it/s]\n",
      "100%|██████████| 10000/10000 [00:01<00:00, 5910.94it/s]\n",
      "100%|██████████| 10000/10000 [00:01<00:00, 5948.17it/s]\n",
      "100%|██████████| 10000/10000 [00:01<00:00, 5916.55it/s]\n",
      "100%|██████████| 10000/10000 [00:01<00:00, 5850.38it/s]\n",
      "100%|██████████| 10000/10000 [00:01<00:00, 5869.40it/s]\n",
      "100%|██████████| 10000/10000 [00:01<00:00, 5897.60it/s]\n",
      "100%|██████████| 10000/10000 [00:01<00:00, 5872.88it/s]\n",
      "100%|██████████| 10000/10000 [00:01<00:00, 5879.38it/s]\n",
      "100%|██████████| 10000/10000 [00:01<00:00, 5922.21it/s]\n",
      "100%|██████████| 10000/10000 [00:01<00:00, 5875.04it/s]\n",
      "100%|██████████| 10000/10000 [00:01<00:00, 5878.80it/s]\n",
      "100%|██████████| 10000/10000 [00:01<00:00, 5874.91it/s]\n",
      "100%|██████████| 10000/10000 [00:01<00:00, 5801.93it/s]\n",
      "100%|██████████| 10000/10000 [00:01<00:00, 5476.52it/s]\n",
      "100%|██████████| 10000/10000 [00:01<00:00, 5778.27it/s]\n",
      "100%|██████████| 10000/10000 [00:01<00:00, 5812.37it/s]\n",
      "100%|██████████| 10000/10000 [00:01<00:00, 5671.73it/s]\n",
      "100%|██████████| 10000/10000 [00:01<00:00, 5472.45it/s]\n",
      "100%|██████████| 10000/10000 [00:01<00:00, 5479.68it/s]\n",
      "100%|██████████| 10000/10000 [00:01<00:00, 5625.83it/s]\n",
      "100%|██████████| 10000/10000 [00:01<00:00, 5821.91it/s]\n",
      "100%|██████████| 10000/10000 [00:01<00:00, 5681.44it/s]\n",
      "100%|██████████| 10000/10000 [00:01<00:00, 5707.42it/s]\n",
      "100%|██████████| 10000/10000 [00:01<00:00, 5657.22it/s]\n",
      "100%|██████████| 10000/10000 [00:01<00:00, 5719.86it/s]\n",
      "100%|██████████| 10000/10000 [00:01<00:00, 5806.37it/s]\n",
      "100%|██████████| 10000/10000 [00:01<00:00, 5734.26it/s]\n",
      "100%|██████████| 10000/10000 [00:01<00:00, 5873.06it/s]\n",
      "100%|██████████| 10000/10000 [00:01<00:00, 5827.77it/s]\n",
      "100%|██████████| 10000/10000 [00:01<00:00, 5732.29it/s]\n",
      "100%|██████████| 10000/10000 [00:01<00:00, 5757.89it/s]\n",
      "100%|██████████| 10000/10000 [00:01<00:00, 5465.89it/s]\n",
      "100%|██████████| 10000/10000 [00:01<00:00, 5572.14it/s]\n",
      "100%|██████████| 10000/10000 [00:01<00:00, 5924.60it/s]\n",
      "100%|██████████| 10000/10000 [00:01<00:00, 5850.85it/s]\n",
      "100%|██████████| 10000/10000 [00:01<00:00, 5837.73it/s]\n",
      "100%|██████████| 10000/10000 [00:01<00:00, 5870.77it/s]\n",
      "100%|██████████| 10000/10000 [00:01<00:00, 5845.59it/s]\n",
      "100%|██████████| 10000/10000 [00:01<00:00, 5906.45it/s]\n",
      "100%|██████████| 10000/10000 [00:01<00:00, 5785.58it/s]\n",
      "100%|██████████| 10000/10000 [00:01<00:00, 5601.00it/s]\n",
      "100%|██████████| 10000/10000 [00:01<00:00, 5626.17it/s]\n",
      "100%|██████████| 10000/10000 [00:01<00:00, 5722.78it/s]\n",
      "100%|██████████| 10000/10000 [00:01<00:00, 5749.44it/s]\n",
      "100%|██████████| 10000/10000 [00:01<00:00, 5568.29it/s]\n",
      "100%|██████████| 18/18 [00:00<00:00, 68634.07it/s]\n",
      "100%|██████████| 18/18 [00:00<00:00, 91846.07it/s]\n",
      "100%|██████████| 18/18 [00:00<00:00, 60836.00it/s]\n",
      "100%|██████████| 10/10 [00:00<00:00, 82565.04it/s]\n"
     ]
    },
    {
     "data": {
      "text/plain": [
       "2"
      ]
     },
     "execution_count": 4,
     "metadata": {},
     "output_type": "execute_result"
    }
   ],
   "source": [
    "n = 10000\n",
    "friends = ennemies_of_enemies_are_friends({i : {j : 1 for j in range(n) if random.random() < 10/n} for i in range(n)})\n",
    "above_threshold = keep_only_above_threshold(friends, 0)\n",
    "G= to_networkx(above_threshold)\n",
    "len(community.generate_dendrogram(G))\n"
   ]
  },
  {
   "cell_type": "code",
   "execution_count": null,
   "metadata": {},
   "outputs": [],
   "source": []
  },
  {
   "cell_type": "code",
   "execution_count": 9,
   "metadata": {},
   "outputs": [
    {
     "name": "stdout",
     "output_type": "stream",
     "text": [
      "range(0, 5)\n"
     ]
    }
   ],
   "source": [
    "print(range(5))"
   ]
  },
  {
   "cell_type": "code",
   "execution_count": null,
   "metadata": {},
   "outputs": [],
   "source": [
    "# Create a NetworkX graph\n",
    "G_ennemies = nx.Graph(tqdm(((node,neighbor) for node, neighbors in ennemies.items() for neighbor in neighbors), total= total_link))"
   ]
  },
  {
   "cell_type": "code",
   "execution_count": 6,
   "metadata": {},
   "outputs": [],
   "source": [
    "import community"
   ]
  },
  {
   "cell_type": "code",
   "execution_count": 8,
   "metadata": {},
   "outputs": [],
   "source": [
    "G_basic = nx.Graph()\n",
    "G_basic.add_edges_from([(1,2),(2,3),(1,3),(1,4),(3,4),(1,5),(2,5),(4,5)])"
   ]
  },
  {
   "cell_type": "code",
   "execution_count": 9,
   "metadata": {},
   "outputs": [
    {
     "data": {
      "text/plain": [
       "[{1: 0, 2: 0, 3: 0, 4: 1, 5: 1}]"
      ]
     },
     "execution_count": 9,
     "metadata": {},
     "output_type": "execute_result"
    }
   ],
   "source": [
    "community.generate_dendrogram(G_basic, inverted= True)"
   ]
  },
  {
   "cell_type": "markdown",
   "metadata": {},
   "source": [
    "# Todo"
   ]
  },
  {
   "cell_type": "code",
   "execution_count": 29,
   "metadata": {},
   "outputs": [
    {
     "name": "stdout",
     "output_type": "stream",
     "text": [
      "loaded file : 2023_place_canvas_history-000000000000.csv.gzip\n",
      "\n",
      "start making visualizations\n"
     ]
    },
    {
     "data": {
      "text/plain": [
       "[{},\n",
       " {'#FFFFFF': 2, '#FF4500': 1, '#B44AC0': 1},\n",
       " {'#FF4500': 1, '#FFFFFF': 2, '#3690EA': 1, '#00A368': 1},\n",
       " {},\n",
       " {'#000000': 3, '#FF4500': 1},\n",
       " {'#B44AC0': 130,\n",
       "  '#FFFFFF': 13,\n",
       "  '#000000': 577,\n",
       "  '#00A368': 112,\n",
       "  '#3690EA': 165,\n",
       "  '#FF4500': 330,\n",
       "  '#FFD635': 830,\n",
       "  '#FFA800': 100},\n",
       " {'#3690EA': 565,\n",
       "  '#000000': 1765,\n",
       "  '#B44AC0': 296,\n",
       "  '#FFD635': 2320,\n",
       "  '#FFA800': 195,\n",
       "  '#00A368': 228,\n",
       "  '#FF4500': 1074,\n",
       "  '#FFFFFF': 50}]"
      ]
     },
     "execution_count": 29,
     "metadata": {},
     "output_type": "execute_result"
    }
   ],
   "source": [
    "class all_in_one:\n",
    "    def __init__(self, val) -> None:\n",
    "        self.val = val\n",
    "    \n",
    "    def __getitem__(self, index):\n",
    "        return self.val\n",
    "    \n",
    "    def __setitem__(self, index, val):\n",
    "        self.val = val\n",
    "\n",
    "def get_color (colors, row, is_mod):\n",
    "    if not is_mod:\n",
    "        colors[row.pixel_color] = colors.get(row.pixel_color, 0) + 1\n",
    "    return colors\n",
    "\n",
    "rez = []\n",
    "\n",
    "visualise_at_interval(\n",
    "    get_color, \n",
    "    {}, \n",
    "    pd.Timedelta(minutes = 1), \n",
    "    all_in_one(all_in_one({})),\n",
    "    \"\",\n",
    "    EndingTimeStamp= pd.Timedelta(minutes = 6),\n",
    "    duration = pd.Timedelta(minutes = 1),\n",
    "    rez = rez,\n",
    ")\n",
    "colors_each_min = [ image[0][0] for image in rez]\n",
    "colors_each_min"
   ]
  },
  {
   "cell_type": "code",
   "execution_count": 6,
   "metadata": {},
   "outputs": [
    {
     "name": "stdout",
     "output_type": "stream",
     "text": [
      "loaded file : 2023_place_canvas_history-000000000000.csv.gzip\n"
     ]
    },
    {
     "name": "stderr",
     "output_type": "stream",
     "text": [
      "  0%|          | 0/4 [00:00<?, ?it/s]"
     ]
    },
    {
     "name": "stdout",
     "output_type": "stream",
     "text": [
      "265 801\n",
      "-199,-235\n"
     ]
    },
    {
     "name": "stderr",
     "output_type": "stream",
     "text": [
      "\n"
     ]
    },
    {
     "ename": "TypeError",
     "evalue": "<lambda>() missing 1 required positional argument: 'is_mod'",
     "output_type": "error",
     "traceback": [
      "\u001b[0;31m---------------------------------------------------------------------------\u001b[0m",
      "\u001b[0;31mTypeError\u001b[0m                                 Traceback (most recent call last)",
      "Cell \u001b[0;32mIn[6], line 11\u001b[0m\n\u001b[1;32m      8\u001b[0m     \u001b[38;5;28;01melse\u001b[39;00m:\n\u001b[1;32m      9\u001b[0m         stats[\u001b[38;5;124m'\u001b[39m\u001b[38;5;124mnon_mods\u001b[39m\u001b[38;5;124m'\u001b[39m] \u001b[38;5;241m+\u001b[39m\u001b[38;5;241m=\u001b[39m \u001b[38;5;241m1\u001b[39m\n\u001b[0;32m---> 11\u001b[0m \u001b[43mvisualise_at_interval\u001b[49m\u001b[43m(\u001b[49m\n\u001b[1;32m     12\u001b[0m \u001b[43m    \u001b[49m\u001b[38;5;28;43;01mlambda\u001b[39;49;00m\u001b[43m \u001b[49m\u001b[43mx\u001b[49m\u001b[43m,\u001b[49m\u001b[43m \u001b[49m\u001b[43my\u001b[49m\u001b[43m,\u001b[49m\u001b[43m \u001b[49m\u001b[43muser\u001b[49m\u001b[43m,\u001b[49m\u001b[43m \u001b[49m\u001b[43mis_mod\u001b[49m\u001b[43m \u001b[49m\u001b[43m:\u001b[49m\u001b[43m \u001b[49m\u001b[43maggregate\u001b[49m\u001b[43m(\u001b[49m\u001b[43mstats\u001b[49m\u001b[43m,\u001b[49m\u001b[43m \u001b[49m\u001b[43musers\u001b[49m\u001b[43m,\u001b[49m\u001b[43m \u001b[49m\u001b[43muser\u001b[49m\u001b[43m,\u001b[49m\u001b[43m \u001b[49m\u001b[43mis_mod\u001b[49m\u001b[43m)\u001b[49m\u001b[43m,\u001b[49m\n\u001b[1;32m     13\u001b[0m \u001b[43m    \u001b[49m\u001b[43m{\u001b[49m\u001b[43m}\u001b[49m\u001b[43m,\u001b[49m\u001b[43m \u001b[49m\n\u001b[1;32m     14\u001b[0m \u001b[43m    \u001b[49m\u001b[43mpd\u001b[49m\u001b[38;5;241;43m.\u001b[39;49m\u001b[43mTimedelta\u001b[49m\u001b[43m(\u001b[49m\u001b[43mminutes\u001b[49m\u001b[38;5;241;43m=\u001b[39;49m\u001b[43m \u001b[49m\u001b[38;5;241;43m30\u001b[39;49m\u001b[43m)\u001b[49m\u001b[43m,\u001b[49m\u001b[43m \u001b[49m\n\u001b[1;32m     15\u001b[0m \u001b[43m    \u001b[49m\u001b[43m[\u001b[49m\u001b[43m[\u001b[49m\u001b[38;5;124;43m\"\u001b[39;49m\u001b[38;5;124;43m#FFFFFF\u001b[39;49m\u001b[38;5;124;43m\"\u001b[39;49m\u001b[43m \u001b[49m\u001b[38;5;28;43;01mfor\u001b[39;49;00m\u001b[43m \u001b[49m\u001b[43mi\u001b[49m\u001b[43m \u001b[49m\u001b[38;5;129;43;01min\u001b[39;49;00m\u001b[43m \u001b[49m\u001b[38;5;28;43mrange\u001b[39;49m\u001b[43m(\u001b[49m\u001b[38;5;241;43m2000\u001b[39;49m\u001b[43m)\u001b[49m\u001b[43m]\u001b[49m\u001b[43m \u001b[49m\u001b[38;5;28;43;01mfor\u001b[39;49;00m\u001b[43m \u001b[49m\u001b[43mi\u001b[49m\u001b[43m \u001b[49m\u001b[38;5;129;43;01min\u001b[39;49;00m\u001b[43m \u001b[49m\u001b[38;5;28;43mrange\u001b[39;49m\u001b[43m(\u001b[49m\u001b[38;5;241;43m1000\u001b[39;49m\u001b[43m)\u001b[49m\u001b[43m]\u001b[49m\u001b[43m,\u001b[49m\n\u001b[1;32m     16\u001b[0m \u001b[43m    \u001b[49m\u001b[38;5;124;43m\"\u001b[39;49m\u001b[38;5;124;43mimage\u001b[39;49m\u001b[38;5;124;43m\"\u001b[39;49m\u001b[43m,\u001b[49m\n\u001b[1;32m     17\u001b[0m \u001b[43m    \u001b[49m\u001b[43mduration\u001b[49m\u001b[38;5;241;43m=\u001b[39;49m\u001b[43m \u001b[49m\u001b[43mpd\u001b[49m\u001b[38;5;241;43m.\u001b[39;49m\u001b[43mTimedelta\u001b[49m\u001b[43m(\u001b[49m\u001b[43mminutes\u001b[49m\u001b[38;5;241;43m=\u001b[39;49m\u001b[43m \u001b[49m\u001b[38;5;241;43m1\u001b[39;49m\u001b[43m)\u001b[49m\n\u001b[1;32m     18\u001b[0m \u001b[43m)\u001b[49m \n\u001b[1;32m     19\u001b[0m stats, users\n",
      "File \u001b[0;32m~/Documents/GitHub/rplace_data_mining/utils.py:215\u001b[0m, in \u001b[0;36mvisualise_at_interval\u001b[0;34m(summary_function, transforms, interval, startingState, rezfilename, startingTimeStamp, EndingTimeStamp, duration, rez)\u001b[0m\n\u001b[1;32m    211\u001b[0m start_idx \u001b[39m=\u001b[39m idx\n\u001b[1;32m    213\u001b[0m \u001b[39mwhile\u001b[39;00m currentTimeStamp \u001b[39m<\u001b[39m EndingTimeStamp:\n\u001b[1;32m    214\u001b[0m     \u001b[39m# make the summary\u001b[39;00m\n\u001b[0;32m--> 215\u001b[0m     currentState \u001b[39m=\u001b[39m summary(\n\u001b[1;32m    216\u001b[0m         currentTimeStamp, nextTimeStamp, currentState, df, summary_function)\n\u001b[1;32m    217\u001b[0m     \u001b[39mif\u001b[39;00m nextTimeStamp \u001b[39m>\u001b[39m nextFileTimeStamp \u001b[39mand\u001b[39;00m idx \u001b[39m+\u001b[39m \u001b[39m1\u001b[39m \u001b[39m<\u001b[39m \u001b[39mlen\u001b[39m(files_and_timestamp):\n\u001b[1;32m    218\u001b[0m         idx \u001b[39m+\u001b[39m\u001b[39m=\u001b[39m \u001b[39m1\u001b[39m\n",
      "File \u001b[0;32m~/Documents/GitHub/rplace_data_mining/utils.py:127\u001b[0m, in \u001b[0;36msummary\u001b[0;34m(startingTimeStamp, EndingTimeStamp, startingData, df, summary_function)\u001b[0m\n\u001b[1;32m    125\u001b[0m             \u001b[39mprint\u001b[39m(x, y)\n\u001b[1;32m    126\u001b[0m             \u001b[39mprint\u001b[39m(row\u001b[39m.\u001b[39mcoordinate)\n\u001b[0;32m--> 127\u001b[0m             \u001b[39mraise\u001b[39;00m e\n\u001b[1;32m    128\u001b[0m \u001b[39mreturn\u001b[39;00m rezData\n",
      "File \u001b[0;32m~/Documents/GitHub/rplace_data_mining/utils.py:122\u001b[0m, in \u001b[0;36msummary\u001b[0;34m(startingTimeStamp, EndingTimeStamp, startingData, df, summary_function)\u001b[0m\n\u001b[1;32m    120\u001b[0m x, y \u001b[39m=\u001b[39m coord\n\u001b[1;32m    121\u001b[0m \u001b[39mtry\u001b[39;00m:\n\u001b[0;32m--> 122\u001b[0m     rezData[x][y] \u001b[39m=\u001b[39m summary_function(\n\u001b[1;32m    123\u001b[0m         rezData[x][y], row, is_mod)\n\u001b[1;32m    124\u001b[0m \u001b[39mexcept\u001b[39;00m \u001b[39mException\u001b[39;00m \u001b[39mas\u001b[39;00m e:\n\u001b[1;32m    125\u001b[0m     \u001b[39mprint\u001b[39m(x, y)\n",
      "\u001b[0;31mTypeError\u001b[0m: <lambda>() missing 1 required positional argument: 'is_mod'"
     ]
    }
   ],
   "source": [
    "stats = {'pixels': 0, 'mods': 0, 'non_mods': 0}\n",
    "users = set()\n",
    "def aggregate(stats, users, user, is_mod):\n",
    "    users.add(user)\n",
    "    stats['pixels'] += 1\n",
    "    if is_mod:\n",
    "        stats['mods'] += 1\n",
    "    else:\n",
    "        stats['non_mods'] += 1\n",
    "\n",
    "visualise_at_interval(\n",
    "    lambda x, y, user, is_mod : aggregate(stats, users, user, is_mod),\n",
    "    {}, \n",
    "    pd.Timedelta(minutes= 30), \n",
    "    [[\"#FFFFFF\" for i in range(2000)] for i in range(1000)],\n",
    "    \"image\",\n",
    "    duration= pd.Timedelta(minutes= 1)\n",
    ") \n",
    "stats, users"
   ]
  },
  {
   "cell_type": "markdown",
   "metadata": {},
   "source": [
    "\n",
    "matActivité forme : [x][y] = freq de maj --> image de l'activité bleu à rouge\n",
    "\n",
    "### map:\n",
    "- map de zone d'activité\n",
    "- map de zone d'activité par couleur?\n",
    "- map de certains utilisateurs actif \n",
    "- map de la couleur la plus utilisé\n",
    "- map de la variété d'utilisateurs\n",
    "- \n",
    "\n",
    "### statistique descriptive:\n",
    "- activité par utilisateur\n",
    "- activité par couleur\n",
    "- activité par heure\n",
    "\n",
    "### identifications:\n",
    "- identifié les bots\n",
    "- identifié communauté / projet de communauté\n",
    "- identification de la modération\n",
    "\n",
    "### technique:\n",
    "- download fait\n",
    "- augmentation taille grille fait\n",
    "- detection des antagonistes pour trouver les communautés fait\n",
    "- prétraitemtent des temps et diverse valeur pour réduire le temps d'ouverture fait"
   ]
  }
 ],
 "metadata": {
  "kernelspec": {
   "display_name": "Python 3.10.9 ('base')",
   "language": "python",
   "name": "python3"
  },
  "language_info": {
   "codemirror_mode": {
    "name": "ipython",
    "version": 3
   },
   "file_extension": ".py",
   "mimetype": "text/x-python",
   "name": "python",
   "nbconvert_exporter": "python",
   "pygments_lexer": "ipython3",
   "version": "3.10.13"
  },
  "orig_nbformat": 4,
  "vscode": {
   "interpreter": {
    "hash": "a5a318b75a7586e7126ee807ac3c15c9d32b27634cac574e72ad2f13c9c76b5e"
   }
  }
 },
 "nbformat": 4,
 "nbformat_minor": 2
}
