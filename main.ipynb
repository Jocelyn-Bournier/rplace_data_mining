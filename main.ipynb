{
 "cells": [
  {
   "cell_type": "code",
   "execution_count": 1,
   "metadata": {},
   "outputs": [],
   "source": [
    "%load_ext autoreload\n",
    "import pandas as pd\n",
    "import numpy as np\n",
    "from matplotlib.colors import LogNorm\n",
    "from matplotlib.cm import ScalarMappable\n",
    "from scipy.ndimage import gaussian_filter\n",
    "from functools import partial\n",
    "import operator\n",
    "from IPython.display import clear_output\n",
    "from tqdm import tqdm\n",
    "import networkx as nx\n",
    "import timeit\n",
    "import random\n",
    "import copy\n",
    "import community as community_louvain\n",
    "import matplotlib.pyplot as plt\n",
    "from matplotlib.colors import hsv_to_rgb, BASE_COLORS\n",
    "from itertools import product\n",
    "import json\n",
    "from imageio import imwrite"
   ]
  },
  {
   "cell_type": "code",
   "execution_count": 2,
   "metadata": {},
   "outputs": [
    {
     "name": "stdout",
     "output_type": "stream",
     "text": [
      "Warning: Your Kaggle API key is readable by other users on this system! To fix this, you can run 'chmod 600 /Users/timothebonhoure/.kaggle/kaggle.json'\n"
     ]
    }
   ],
   "source": [
    "%autoreload 2\n",
    "from utils import summary, visualise, string_to_color, visualise_at_interval, convertImage, initialize_data_loader"
   ]
  },
  {
   "cell_type": "markdown",
   "metadata": {},
   "source": [
    "# Canvas reproduction"
   ]
  },
  {
   "cell_type": "code",
   "execution_count": null,
   "metadata": {},
   "outputs": [],
   "source": [
    "visualise_at_interval(\n",
    "    lambda rez, row, is_mod : row.pixel_color, \n",
    "    lambda l : list(tqdm((convertImage(x,string_to_color) for x in l), total=len(l))), \n",
    "    pd.Timedelta(minutes = 15), \n",
    "    [[\"#FFFFFF\" for i in range(2000)] for i in range(1000)],\n",
    "    \"image\",\n",
    ") "
   ]
  },
  {
   "cell_type": "markdown",
   "metadata": {},
   "source": [
    "# Activity"
   ]
  },
  {
   "cell_type": "code",
   "execution_count": null,
   "metadata": {},
   "outputs": [],
   "source": [
    "def get_transform(images, blur = 0):\n",
    "    blurImages =[gaussian_filter(np.array(img), blur) for img in images]\n",
    "    maximum = np.max(blurImages)\n",
    "    custom_cmap = ScalarMappable(cmap='RdBu_r', norm=LogNorm(vmin=1, vmax=maximum + 1))\n",
    "    return [custom_cmap.to_rgba(img, bytes= True) for img in blurImages]"
   ]
  },
  {
   "cell_type": "code",
   "execution_count": null,
   "metadata": {},
   "outputs": [],
   "source": [
    "\n",
    "visualise_at_interval(\n",
    "    lambda rez, row: rez + 1, \n",
    "    get_transform,\n",
    "    pd.Timedelta(minutes = 15), \n",
    "    np.ones((1000,2000)),\n",
    "    \"activite\",\n",
    "    duration = pd.Timedelta(minutes = 30),\n",
    ") "
   ]
  },
  {
   "cell_type": "code",
   "execution_count": null,
   "metadata": {},
   "outputs": [],
   "source": [
    "\n",
    "visualise_at_interval(\n",
    "    lambda rez, row : rez + 1, \n",
    "    get_transform, \n",
    "    -1, \n",
    "    np.ones((1000,2000)),\n",
    "    \"activite_total\",\n",
    ") "
   ]
  },
  {
   "cell_type": "code",
   "execution_count": null,
   "metadata": {},
   "outputs": [],
   "source": [
    "blurs =[1,2,5,10,50,100]\n",
    "visualise_at_interval(\n",
    "    lambda rez, row  : rez + 1, \n",
    "    { str(blur) : partial(get_transform, blur = blur) for blur in blurs}, \n",
    "    pd.Timedelta(minutes = 15), \n",
    "    np.ones((1000,1000)),\n",
    "    lambda blur : f\"activite_blur_{blur}\",\n",
    "    duration = pd.Timedelta(minutes = 30),\n",
    ") \n",
    "\n",
    "\n",
    "visualise_at_interval(\n",
    "    lambda rez, row : rez + int(not row.is_mod), \n",
    "    { str(blur) : partial(get_transform, blur = blur) for blur in blurs}, \n",
    "    pd.Timedelta(minutes = 15), \n",
    "    np.ones((1000,1000)),\n",
    "    lambda blur : f\"activite_blur_no_moderator_{blur}\",\n",
    "    duration = pd.Timedelta(minutes = 30),\n",
    ") \n"
   ]
  },
  {
   "cell_type": "markdown",
   "metadata": {},
   "source": [
    "# Variété d'utilisateur"
   ]
  },
  {
   "cell_type": "code",
   "execution_count": null,
   "metadata": {},
   "outputs": [],
   "source": [
    "def compose(f, g):\n",
    "    return lambda *args, **kwargs : f(g(*args, **kwargs))\n",
    "\n",
    "def add_user(user, users):\n",
    "    users.add(user)\n",
    "    return users\n",
    "\n",
    "def from_users_sets_by_points_to_len_by_points(images):\n",
    "    return [[[len(user_set)+1 for user_set in row] for row in image] for image in images]"
   ]
  },
  {
   "cell_type": "code",
   "execution_count": null,
   "metadata": {},
   "outputs": [],
   "source": [
    "blurs =[1,5,10]\n",
    "visualise_at_interval(\n",
    "    lambda users, _, user, is_mod  : users if is_mod else add_user(user, users), \n",
    "    { str(blur) : compose(partial(get_transform, blur = blur),\n",
    "                          from_users_sets_by_points_to_len_by_points) for blur in blurs}, \n",
    "    pd.Timedelta(minutes = 5), \n",
    "    [[set() for i in range(1000)] for j in range(1000)],\n",
    "    lambda blur : f\"users_variety_blur{blur}\",\n",
    "    duration = pd.Timedelta(minutes = 15),\n",
    ")"
   ]
  },
  {
   "cell_type": "markdown",
   "metadata": {},
   "source": [
    "# Détection de communauté"
   ]
  },
  {
   "cell_type": "code",
   "execution_count": 4,
   "metadata": {},
   "outputs": [],
   "source": [
    "def get_or_set_default(obj, index, default):\n",
    "    try : \n",
    "        return obj[index]\n",
    "    except KeyError :\n",
    "        obj[index] = default\n",
    "        return default\n",
    "\n",
    "def make_symmetric(adj_dict):\n",
    "    rez = copy.deepcopy(adj_dict)\n",
    "    for node in tqdm(adj_dict):\n",
    "        for enemy in adj_dict[node]:\n",
    "            # get_or_set_default handles the case where a node is in the neighbors of a node but is not in the keys of the adj_dict\n",
    "            get_or_set_default(rez,enemy,{})[node] = adj_dict.get(enemy,{}).get(node,0) + adj_dict[node][enemy]\n",
    "    return rez\n",
    "\n",
    "def normalize_weights(adj_dict):\n",
    "    degree = { node : sum(neighbor.values()) for node, neighbor in adj_dict.items()}\n",
    "\n",
    "    for node1 in adj_dict:\n",
    "        for node2 in adj_dict[node1]:\n",
    "            adj_dict[node1][node2] /= degree[node1]\n",
    "\n",
    "def get_weight_from_stats(middle_weight,weight1, weight2):\n",
    "    return middle_weight * (weight1 + weight2) / 2\n",
    "\n",
    "\n",
    "def ennemies_of_enemies_are_friends(enemies):\n",
    "    enemies = make_symmetric(enemies)\n",
    "    degree = { node : sum(neighbor.values()) for node, neighbor in enemies.items()}\n",
    "    enemies_of_enemies = {node : {enemy : -2*value / (degree[node] + degree[enemy]) for enemy, value in enemies[node].items()} for node in enemies}\n",
    "    for node in tqdm(enemies):\n",
    "        for enemy, weight1 in enemies[node].items():\n",
    "            for enemy_of_enemy, weight2 in enemies[enemy].items():\n",
    "                if enemy_of_enemy != node :\n",
    "                    enemies_of_enemies[node][enemy_of_enemy] = enemies_of_enemies[node].get(enemy_of_enemy,0) + get_weight_from_stats((weight1 + weight2)/degree[enemy], weight1/degree[node],weight2/degree[enemy_of_enemy])\n",
    "    return enemies_of_enemies\n",
    "\n",
    "def keep_only_above_threshold(graph, threshold):\n",
    "    if threshold < 0 :\n",
    "        raise ValueError(\"threshold needs to be a positive value\")\n",
    "    return {node : {neighbor : val for neighbor,val in neighbors.items() if val > threshold} for node, neighbors in tqdm(graph.items())}\n",
    "\n",
    "def to_networkx(adj_dict):\n",
    "    total_link = sum(len(neighbors) for neighbors in adj_dict.values())\n",
    "    G= nx.Graph()\n",
    "    G.add_edges_from(tqdm(((node1,node2,{'weight' : weight}) for node1, neighbors in adj_dict.items() for node2, weight in neighbors.items()), total= total_link, desc = \"to_networkx\"))\n",
    "    return G"
   ]
  },
  {
   "cell_type": "markdown",
   "metadata": {},
   "source": [
    "## enemies of nemies as friends"
   ]
  },
  {
   "cell_type": "code",
   "execution_count": 5,
   "metadata": {},
   "outputs": [
    {
     "name": "stderr",
     "output_type": "stream",
     "text": [
      "100%|██████████| 3/3 [00:00<00:00, 88612.06it/s]\n",
      "100%|██████████| 3/3 [00:00<00:00, 103991.01it/s]\n"
     ]
    },
    {
     "data": {
      "text/plain": [
       "{1: {2: -0.6666666666666666, 3: 1.0},\n",
       " 2: {3: -0.6666666666666666, 1: -0.6666666666666666},\n",
       " 3: {2: -0.6666666666666666, 1: 1.0}}"
      ]
     },
     "execution_count": 5,
     "metadata": {},
     "output_type": "execute_result"
    }
   ],
   "source": [
    "ennemies_of_enemies_are_friends(\n",
    "    {\n",
    "        1 : {2:1},\n",
    "        2 : {3:1},\n",
    "        3 : {}\n",
    "    }\n",
    ")"
   ]
  },
  {
   "cell_type": "code",
   "execution_count": 6,
   "metadata": {},
   "outputs": [
    {
     "name": "stdout",
     "output_type": "stream",
     "text": [
      "loaded file : 2023_place_canvas_history-000000000001.csv.gzip\n",
      "\n",
      "start making visualizations\n"
     ]
    }
   ],
   "source": [
    "ennemies = {}\n",
    "moderators = set()\n",
    "\n",
    "def get_ennemy_and_return_new_user(last_user, row, is_mod):\n",
    "\n",
    "    if is_mod :\n",
    "        moderators.add(row.user)\n",
    "    if last_user :\n",
    "        ennemies[row.user][last_user] = get_or_set_default(ennemies,row.user,{}).get(last_user, 0) + 1\n",
    "    return row.user\n",
    "\n",
    "\n",
    "visualise_at_interval(\n",
    "    get_ennemy_and_return_new_user, \n",
    "    {}, \n",
    "    -1, \n",
    "    [[\"\" for i in range(2000)] for j in range(1000)],\n",
    "    \"\",\n",
    "    EndingTimeStamp= pd.Timedelta(hours= 5)\n",
    ") "
   ]
  },
  {
   "cell_type": "code",
   "execution_count": 7,
   "metadata": {},
   "outputs": [
    {
     "name": "stderr",
     "output_type": "stream",
     "text": [
      "100%|██████████| 1028009/1028009 [00:00<00:00, 7000021.53it/s]\n",
      "100%|██████████| 1028009/1028009 [00:05<00:00, 185582.09it/s]\n"
     ]
    },
    {
     "name": "stdout",
     "output_type": "stream",
     "text": [
      "1155097\n"
     ]
    },
    {
     "name": "stderr",
     "output_type": "stream",
     "text": [
      "100%|██████████| 1028009/1028009 [00:05<00:00, 183217.88it/s]\n",
      "100%|██████████| 1155097/1155097 [02:33<00:00, 7538.71it/s] \n",
      "100%|██████████| 1155097/1155097 [00:34<00:00, 33813.56it/s] \n"
     ]
    },
    {
     "name": "stdout",
     "output_type": "stream",
     "text": [
      "205204100 3624865\n"
     ]
    }
   ],
   "source": [
    "total_link = sum(len(neighbors) for neighbors in tqdm(ennemies.values()))\n",
    "print(len(make_symmetric(ennemies)))\n",
    "friends = ennemies_of_enemies_are_friends(ennemies)\n",
    "values = list(value for neighbor in tqdm(friends.values()) for value in neighbor.values() if value > 0)\n",
    "print(len(values), total_link)"
   ]
  },
  {
   "cell_type": "code",
   "execution_count": 8,
   "metadata": {},
   "outputs": [
    {
     "name": "stderr",
     "output_type": "stream",
     "text": [
      "100%|██████████| 1155097/1155097 [01:01<00:00, 18744.00it/s] \n"
     ]
    }
   ],
   "source": [
    "above_threshold = keep_only_above_threshold(friends, np.percentile(values,100 - 100 * total_link/len(values)))"
   ]
  },
  {
   "cell_type": "code",
   "execution_count": 9,
   "metadata": {},
   "outputs": [
    {
     "name": "stderr",
     "output_type": "stream",
     "text": [
      "to_networkx: 100%|██████████| 3624216/3624216 [01:09<00:00, 52249.13it/s] \n",
      "one level 1/-1: 100%|██████████| 946606/946606 [00:15<00:00, 61604.21it/s]\n",
      "one level 2/-1: 100%|██████████| 946606/946606 [00:17<00:00, 54637.69it/s]\n",
      "one level 3/-1: 100%|██████████| 946606/946606 [00:23<00:00, 41045.10it/s]\n",
      "one level 4/-1: 100%|██████████| 946606/946606 [00:26<00:00, 35271.56it/s]\n",
      "one level 5/-1: 100%|██████████| 946606/946606 [00:19<00:00, 47883.30it/s]\n",
      "one level 6/-1: 100%|██████████| 946606/946606 [00:16<00:00, 57150.25it/s]\n",
      "one level 7/-1: 100%|██████████| 946606/946606 [00:14<00:00, 66898.57it/s]\n",
      "one level 8/-1: 100%|██████████| 946606/946606 [00:12<00:00, 74442.10it/s]\n",
      "one level 9/-1: 100%|██████████| 946606/946606 [00:12<00:00, 75393.74it/s]\n",
      "one level 10/-1: 100%|██████████| 946606/946606 [00:12<00:00, 73687.20it/s]\n",
      "one level 1/-1: 100%|██████████| 250369/250369 [00:03<00:00, 79437.84it/s]\n",
      "one level 2/-1: 100%|██████████| 250369/250369 [00:02<00:00, 85415.31it/s]\n",
      "one level 3/-1: 100%|██████████| 250369/250369 [00:03<00:00, 82632.79it/s]\n",
      "one level 4/-1: 100%|██████████| 250369/250369 [00:03<00:00, 81184.28it/s]\n",
      "one level 5/-1: 100%|██████████| 250369/250369 [00:02<00:00, 87405.12it/s]\n",
      "one level 6/-1: 100%|██████████| 250369/250369 [00:02<00:00, 87736.25it/s]\n",
      "one level 7/-1: 100%|██████████| 250369/250369 [00:02<00:00, 85485.79it/s]\n",
      "one level 8/-1: 100%|██████████| 250369/250369 [00:03<00:00, 83332.42it/s]\n",
      "one level 9/-1: 100%|██████████| 250369/250369 [00:03<00:00, 82831.34it/s]\n"
     ]
    },
    {
     "name": "stdout",
     "output_type": "stream",
     "text": [
      "one level done\n"
     ]
    },
    {
     "name": "stderr",
     "output_type": "stream",
     "text": [
      "one level 1/-1: 100%|██████████| 72239/72239 [00:01<00:00, 46931.73it/s]\n",
      "one level 2/-1: 100%|██████████| 72239/72239 [00:01<00:00, 46223.23it/s]\n",
      "one level 3/-1: 100%|██████████| 72239/72239 [00:01<00:00, 48535.42it/s]\n",
      "one level 4/-1: 100%|██████████| 72239/72239 [00:01<00:00, 54471.37it/s]\n",
      "one level 5/-1: 100%|██████████| 72239/72239 [00:01<00:00, 53526.81it/s]\n",
      "one level 6/-1: 100%|██████████| 72239/72239 [00:01<00:00, 56088.71it/s]\n"
     ]
    },
    {
     "name": "stdout",
     "output_type": "stream",
     "text": [
      "one level done\n"
     ]
    },
    {
     "name": "stderr",
     "output_type": "stream",
     "text": [
      "one level 1/-1: 100%|██████████| 30569/30569 [00:00<00:00, 35461.94it/s]\n",
      "one level 2/-1: 100%|██████████| 30569/30569 [00:00<00:00, 35556.69it/s]\n",
      "one level 3/-1: 100%|██████████| 30569/30569 [00:00<00:00, 36708.32it/s]\n",
      "one level 4/-1: 100%|██████████| 30569/30569 [00:00<00:00, 36006.05it/s]\n",
      "one level 5/-1: 100%|██████████| 30569/30569 [00:00<00:00, 36453.34it/s]\n",
      "one level 6/-1: 100%|██████████| 30569/30569 [00:00<00:00, 37123.26it/s]\n",
      "one level 7/-1: 100%|██████████| 30569/30569 [00:00<00:00, 36800.85it/s]\n",
      "one level 8/-1: 100%|██████████| 30569/30569 [00:00<00:00, 36853.52it/s]\n",
      "one level 9/-1: 100%|██████████| 30569/30569 [00:00<00:00, 36238.52it/s]\n",
      "one level 10/-1: 100%|██████████| 30569/30569 [00:00<00:00, 33926.87it/s]\n"
     ]
    },
    {
     "name": "stdout",
     "output_type": "stream",
     "text": [
      "one level done\n"
     ]
    },
    {
     "name": "stderr",
     "output_type": "stream",
     "text": [
      "one level 1/-1: 100%|██████████| 22161/22161 [00:00<00:00, 36957.36it/s]\n",
      "one level 2/-1: 100%|██████████| 22161/22161 [00:00<00:00, 39215.64it/s]\n",
      "one level 3/-1: 100%|██████████| 22161/22161 [00:00<00:00, 38198.62it/s]\n",
      "one level 4/-1: 100%|██████████| 22161/22161 [00:00<00:00, 37088.10it/s]\n",
      "one level 5/-1: 100%|██████████| 22161/22161 [00:00<00:00, 36032.20it/s]\n",
      "one level 6/-1: 100%|██████████| 22161/22161 [00:00<00:00, 37102.44it/s]\n",
      "one level 7/-1: 100%|██████████| 22161/22161 [00:00<00:00, 36820.24it/s]\n",
      "one level 8/-1: 100%|██████████| 22161/22161 [00:00<00:00, 36562.98it/s]\n"
     ]
    },
    {
     "name": "stdout",
     "output_type": "stream",
     "text": [
      "one level done\n"
     ]
    },
    {
     "name": "stderr",
     "output_type": "stream",
     "text": [
      "one level 1/-1: 100%|██████████| 20801/20801 [00:00<00:00, 71055.22it/s]\n",
      "one level 2/-1: 100%|██████████| 20801/20801 [00:00<00:00, 69691.65it/s]\n"
     ]
    },
    {
     "name": "stdout",
     "output_type": "stream",
     "text": [
      "one level done\n"
     ]
    },
    {
     "name": "stderr",
     "output_type": "stream",
     "text": [
      "one level 1/-1: 100%|██████████| 20753/20753 [00:00<00:00, 76146.59it/s]\n"
     ]
    },
    {
     "name": "stdout",
     "output_type": "stream",
     "text": [
      "one level done\n"
     ]
    }
   ],
   "source": [
    "G= to_networkx(above_threshold)\n",
    "dendo = community_louvain.generate_dendrogram(G)\n",
    "partition = community_louvain.partition_at_level(dendo, len(dendo) -1)"
   ]
  },
  {
   "cell_type": "markdown",
   "metadata": {},
   "source": [
    "## Directly friends"
   ]
  },
  {
   "cell_type": "code",
   "execution_count": 4,
   "metadata": {},
   "outputs": [
    {
     "name": "stdout",
     "output_type": "stream",
     "text": [
      "loaded file : 2023_place_canvas_history-000000000019.csv.gzip\n",
      "\n",
      "start making visualizations\n"
     ]
    }
   ],
   "source": [
    "class first_in_first_out:\n",
    "    def __init__(self, size, default) -> None:\n",
    "        self.size = size\n",
    "        self.cache = [copy.deepcopy(default) for i in range(size)]\n",
    "        self.index = 0\n",
    "    \n",
    "    def append(self, val):\n",
    "        self.cache[self.index] = val\n",
    "    \n",
    "    def __getitem__(self, index):\n",
    "        return self.cache[(self.index + index) % self.size]\n",
    "\n",
    "friends = {}\n",
    "\n",
    "def get_friends(two_last_actions, row, is_mod):\n",
    "    if is_mod:\n",
    "        return two_last_actions\n",
    "    if two_last_actions[0] is not None and two_last_actions[0].pixel_color == row.pixel_color :\n",
    "        friends[two_last_actions[0].user][row.user] = get_or_set_default(friends,two_last_actions[0].user,{}).get(row.user, 0) + 1\n",
    "    two_last_actions.append(row)\n",
    "    return two_last_actions\n",
    "\n",
    "visualise_at_interval(\n",
    "    get_friends,\n",
    "    {},\n",
    "    -1,\n",
    "    [[first_in_first_out(2,None) for i in range(2000)] for j in tqdm(range(1000), desc = \"Init :\")],\n",
    "    \"\",\n",
    ")\n",
    "    "
   ]
  },
  {
   "cell_type": "code",
   "execution_count": 5,
   "metadata": {},
   "outputs": [
    {
     "name": "stderr",
     "output_type": "stream",
     "text": [
      "100%|██████████| 2112155/2112155 [00:11<00:00, 179038.76it/s]\n",
      "to_networkx: 100%|██████████| 13273811/13273811 [00:29<00:00, 447150.43it/s]\n"
     ]
    },
    {
     "data": {
      "text/plain": [
       "2809078"
      ]
     },
     "execution_count": 5,
     "metadata": {},
     "output_type": "execute_result"
    }
   ],
   "source": [
    "friends = make_symmetric(friends)\n",
    "G_friends = to_networkx(friends)\n",
    "len(G_friends.nodes)"
   ]
  },
  {
   "cell_type": "code",
   "execution_count": null,
   "metadata": {},
   "outputs": [
    {
     "data": {
      "text/plain": [
       "2626220"
      ]
     },
     "execution_count": 6,
     "metadata": {},
     "output_type": "execute_result"
    }
   ],
   "source": [
    "# Find connected components\n",
    "components = list(nx.connected_components(G_friends))\n",
    "\n",
    "# Select the largest connected component\n",
    "largest_component = max(components, key=len)\n",
    "\n",
    "# Create a subgraph containing only the nodes and edges in the largest connected component\n",
    "G_friends = G_friends.subgraph(largest_component)\n",
    "\n",
    "len(G_friends.nodes)"
   ]
  },
  {
   "cell_type": "code",
   "execution_count": 7,
   "metadata": {},
   "outputs": [],
   "source": [
    "nx.write_graphml(G_friends, \"G_friends.graphml\")"
   ]
  },
  {
   "cell_type": "code",
   "execution_count": null,
   "metadata": {},
   "outputs": [],
   "source": [
    "G_friends = nx.read_graphml(\"G_friends.graphml\")"
   ]
  },
  {
   "cell_type": "code",
   "execution_count": null,
   "metadata": {},
   "outputs": [
    {
     "name": "stderr",
     "output_type": "stream",
     "text": [
      "one level 1/-1: 100%|██████████| 2626220/2626220 [01:51<00:00, 23576.56it/s]\n",
      "one level 2/-1: 100%|██████████| 2626220/2626220 [02:08<00:00, 20429.94it/s]\n",
      "one level 3/-1: 100%|██████████| 2626220/2626220 [00:33<00:00, 78101.43it/s]\n",
      "one level 4/-1: 100%|██████████| 2626220/2626220 [00:46<00:00, 56440.38it/s]\n",
      "one level 5/-1: 100%|██████████| 2626220/2626220 [00:39<00:00, 67269.62it/s]\n",
      "one level 6/-1: 100%|██████████| 2626220/2626220 [00:43<00:00, 59766.20it/s]\n",
      "one level 7/-1: 100%|██████████| 2626220/2626220 [00:39<00:00, 66242.49it/s]\n",
      "one level 8/-1: 100%|██████████| 2626220/2626220 [00:39<00:00, 65700.03it/s]\n",
      "one level 9/-1: 100%|██████████| 2626220/2626220 [01:15<00:00, 34886.36it/s]\n",
      "one level 10/-1: 100%|██████████| 2626220/2626220 [01:23<00:00, 31557.95it/s]\n",
      "one level 11/-1: 100%|██████████| 2626220/2626220 [01:12<00:00, 36438.85it/s]\n",
      "one level 12/-1: 100%|██████████| 2626220/2626220 [01:26<00:00, 30533.83it/s]\n",
      "one level 13/-1: 100%|██████████| 2626220/2626220 [01:20<00:00, 32495.70it/s]\n",
      "one level 14/-1: 100%|██████████| 2626220/2626220 [01:17<00:00, 34106.60it/s]\n",
      "one level 15/-1: 100%|██████████| 2626220/2626220 [01:33<00:00, 27986.79it/s]\n",
      "one level 16/-1: 100%|██████████| 2626220/2626220 [01:35<00:00, 27550.32it/s]\n",
      "one level 17/-1: 100%|██████████| 2626220/2626220 [01:46<00:00, 24597.51it/s]\n",
      "one level 18/-1: 100%|██████████| 2626220/2626220 [02:01<00:00, 21648.68it/s]\n",
      "one level 19/-1: 100%|██████████| 2626220/2626220 [02:06<00:00, 20727.39it/s]\n",
      "one level 20/-1: 100%|██████████| 2626220/2626220 [02:27<00:00, 17820.66it/s]\n",
      "one level 21/-1: 100%|██████████| 2626220/2626220 [02:25<00:00, 18092.97it/s]\n",
      "one level 22/-1: 100%|██████████| 2626220/2626220 [02:09<00:00, 20347.16it/s]\n",
      "one level 23/-1: 100%|██████████| 2626220/2626220 [02:20<00:00, 18738.54it/s]\n",
      "one level 24/-1: 100%|██████████| 2626220/2626220 [01:01<00:00, 42508.58it/s]\n",
      "one level 25/-1: 100%|██████████| 2626220/2626220 [00:32<00:00, 81044.38it/s]\n",
      "one level 26/-1: 100%|██████████| 2626220/2626220 [00:32<00:00, 81672.55it/s]\n",
      "one level 27/-1: 100%|██████████| 2626220/2626220 [00:34<00:00, 76765.54it/s]\n",
      "one level 28/-1: 100%|██████████| 2626220/2626220 [00:34<00:00, 76247.70it/s]\n",
      "one level 29/-1: 100%|██████████| 2626220/2626220 [00:33<00:00, 78544.84it/s]\n",
      "one level 30/-1: 100%|██████████| 2626220/2626220 [00:44<00:00, 59286.04it/s]\n",
      "one level 31/-1: 100%|██████████| 2626220/2626220 [00:41<00:00, 63011.27it/s]\n",
      "one level 32/-1: 100%|██████████| 2626220/2626220 [00:44<00:00, 58870.26it/s]\n",
      "one level 33/-1: 100%|██████████| 2626220/2626220 [00:43<00:00, 60323.83it/s]\n",
      "one level 34/-1: 100%|██████████| 2626220/2626220 [00:43<00:00, 60407.17it/s]\n",
      "one level 35/-1: 100%|██████████| 2626220/2626220 [00:42<00:00, 61453.94it/s]\n",
      "one level 36/-1: 100%|██████████| 2626220/2626220 [00:43<00:00, 59705.33it/s]\n",
      "one level 37/-1: 100%|██████████| 2626220/2626220 [00:43<00:00, 60823.05it/s]\n",
      "one level 38/-1: 100%|██████████| 2626220/2626220 [00:43<00:00, 60302.77it/s]\n",
      "one level 39/-1: 100%|██████████| 2626220/2626220 [00:42<00:00, 61482.46it/s]\n",
      "one level 40/-1: 100%|██████████| 2626220/2626220 [00:40<00:00, 64312.35it/s]\n",
      "one level 41/-1: 100%|██████████| 2626220/2626220 [00:42<00:00, 61459.80it/s]\n",
      "one level 42/-1: 100%|██████████| 2626220/2626220 [00:44<00:00, 59125.71it/s]\n",
      "one level 43/-1: 100%|██████████| 2626220/2626220 [00:42<00:00, 62159.16it/s]\n",
      "one level 44/-1: 100%|██████████| 2626220/2626220 [00:43<00:00, 60414.63it/s]\n",
      "one level 45/-1: 100%|██████████| 2626220/2626220 [00:43<00:00, 59690.24it/s]\n",
      "one level 46/-1: 100%|██████████| 2626220/2626220 [00:43<00:00, 59922.63it/s]\n",
      "one level 47/-1: 100%|██████████| 2626220/2626220 [00:42<00:00, 61118.12it/s]\n",
      "one level 48/-1: 100%|██████████| 2626220/2626220 [00:43<00:00, 59718.53it/s]\n",
      "one level 49/-1: 100%|██████████| 2626220/2626220 [00:44<00:00, 59543.25it/s]\n",
      "one level 50/-1: 100%|██████████| 2626220/2626220 [00:47<00:00, 55335.21it/s]\n",
      "one level 51/-1: 100%|██████████| 2626220/2626220 [00:43<00:00, 60870.28it/s]\n",
      "one level 52/-1: 100%|██████████| 2626220/2626220 [00:40<00:00, 64519.28it/s]\n",
      "one level 53/-1: 100%|██████████| 2626220/2626220 [00:37<00:00, 69602.46it/s]\n",
      "one level 54/-1: 100%|██████████| 2626220/2626220 [00:44<00:00, 58377.34it/s]\n",
      "one level 55/-1: 100%|██████████| 2626220/2626220 [00:47<00:00, 55491.20it/s]\n",
      "one level 56/-1: 100%|██████████| 2626220/2626220 [00:47<00:00, 55598.27it/s]\n",
      "one level 57/-1: 100%|██████████| 2626220/2626220 [00:46<00:00, 56855.14it/s]\n",
      "one level 58/-1: 100%|██████████| 2626220/2626220 [00:50<00:00, 51544.06it/s]\n",
      "one level 59/-1: 100%|██████████| 2626220/2626220 [00:56<00:00, 46475.16it/s]\n",
      "one level 60/-1: 100%|██████████| 2626220/2626220 [00:54<00:00, 48288.35it/s]\n",
      "one level 61/-1: 100%|██████████| 2626220/2626220 [01:02<00:00, 41888.95it/s]\n",
      "one level 62/-1: 100%|██████████| 2626220/2626220 [01:03<00:00, 41525.99it/s]\n",
      "one level 63/-1: 100%|██████████| 2626220/2626220 [01:08<00:00, 38280.97it/s]\n",
      "one level 1/-1: 100%|██████████| 634203/634203 [00:08<00:00, 72714.01it/s]\n",
      "one level 2/-1: 100%|██████████| 634203/634203 [00:08<00:00, 74288.88it/s]\n",
      "one level 3/-1: 100%|██████████| 634203/634203 [00:08<00:00, 75570.91it/s]\n",
      "one level 4/-1: 100%|██████████| 634203/634203 [00:08<00:00, 73364.18it/s]\n",
      "one level 5/-1: 100%|██████████| 634203/634203 [00:07<00:00, 81026.94it/s]\n",
      "one level 6/-1: 100%|██████████| 634203/634203 [00:07<00:00, 83778.03it/s]\n",
      "one level 7/-1: 100%|██████████| 634203/634203 [00:07<00:00, 84899.28it/s]\n",
      "one level 8/-1: 100%|██████████| 634203/634203 [00:07<00:00, 85788.32it/s]\n",
      "one level 9/-1: 100%|██████████| 634203/634203 [00:07<00:00, 86289.80it/s]\n",
      "one level 10/-1: 100%|██████████| 634203/634203 [00:07<00:00, 86483.74it/s]\n",
      "one level 11/-1: 100%|██████████| 634203/634203 [00:07<00:00, 86829.00it/s]\n",
      "one level 12/-1: 100%|██████████| 634203/634203 [00:07<00:00, 86537.44it/s]\n",
      "one level 13/-1: 100%|██████████| 634203/634203 [00:07<00:00, 87458.27it/s]\n",
      "one level 14/-1: 100%|██████████| 634203/634203 [00:07<00:00, 87348.54it/s]\n",
      "one level 15/-1: 100%|██████████| 634203/634203 [00:07<00:00, 87570.66it/s]\n",
      "one level 16/-1: 100%|██████████| 634203/634203 [00:07<00:00, 88430.10it/s]\n",
      "one level 17/-1: 100%|██████████| 634203/634203 [00:06<00:00, 91952.33it/s] \n",
      "one level 18/-1: 100%|██████████| 634203/634203 [00:06<00:00, 94074.47it/s] \n",
      "one level 19/-1: 100%|██████████| 634203/634203 [00:06<00:00, 94846.55it/s] \n",
      "one level 20/-1: 100%|██████████| 634203/634203 [00:06<00:00, 94978.39it/s] \n",
      "one level 21/-1: 100%|██████████| 634203/634203 [00:06<00:00, 95509.54it/s] \n",
      "one level 22/-1: 100%|██████████| 634203/634203 [00:06<00:00, 96027.64it/s] \n",
      "one level 23/-1: 100%|██████████| 634203/634203 [00:06<00:00, 95829.22it/s] \n",
      "one level 24/-1: 100%|██████████| 634203/634203 [00:06<00:00, 96143.99it/s] \n",
      "one level 25/-1: 100%|██████████| 634203/634203 [00:06<00:00, 95688.34it/s] \n",
      "one level 26/-1: 100%|██████████| 634203/634203 [00:06<00:00, 96467.56it/s] \n",
      "one level 27/-1: 100%|██████████| 634203/634203 [00:06<00:00, 96014.89it/s] \n",
      "one level 28/-1: 100%|██████████| 634203/634203 [00:06<00:00, 96316.59it/s] \n",
      "one level 29/-1: 100%|██████████| 634203/634203 [00:06<00:00, 96096.95it/s] \n",
      "one level 30/-1: 100%|██████████| 634203/634203 [00:06<00:00, 96360.02it/s] \n",
      "one level 31/-1: 100%|██████████| 634203/634203 [00:06<00:00, 96243.40it/s] \n",
      "one level 32/-1: 100%|██████████| 634203/634203 [00:06<00:00, 96403.55it/s] \n"
     ]
    },
    {
     "name": "stdout",
     "output_type": "stream",
     "text": [
      "one level done\n"
     ]
    },
    {
     "name": "stderr",
     "output_type": "stream",
     "text": [
      "one level 1/-1: 100%|██████████| 82711/82711 [00:01<00:00, 80196.13it/s] \n",
      "one level 2/-1: 100%|██████████| 82711/82711 [00:00<00:00, 85446.05it/s]\n",
      "one level 3/-1: 100%|██████████| 82711/82711 [00:00<00:00, 87453.03it/s] \n",
      "one level 4/-1: 100%|██████████| 82711/82711 [00:00<00:00, 88350.31it/s] \n",
      "one level 5/-1: 100%|██████████| 82711/82711 [00:00<00:00, 86630.88it/s]\n",
      "one level 6/-1: 100%|██████████| 82711/82711 [00:00<00:00, 88350.24it/s]\n",
      "one level 7/-1: 100%|██████████| 82711/82711 [00:00<00:00, 88646.30it/s]\n",
      "one level 8/-1: 100%|██████████| 82711/82711 [00:00<00:00, 88526.86it/s]\n",
      "one level 9/-1: 100%|██████████| 82711/82711 [00:00<00:00, 88252.09it/s] \n",
      "one level 10/-1: 100%|██████████| 82711/82711 [00:00<00:00, 90372.31it/s]\n",
      "one level 11/-1: 100%|██████████| 82711/82711 [00:00<00:00, 89125.53it/s] \n",
      "one level 12/-1: 100%|██████████| 82711/82711 [00:00<00:00, 89350.05it/s]\n",
      "one level 13/-1: 100%|██████████| 82711/82711 [00:00<00:00, 89833.83it/s] \n",
      "one level 14/-1: 100%|██████████| 82711/82711 [00:00<00:00, 90897.32it/s] \n",
      "one level 15/-1: 100%|██████████| 82711/82711 [00:00<00:00, 89116.03it/s]\n",
      "one level 16/-1: 100%|██████████| 82711/82711 [00:00<00:00, 89947.05it/s]\n",
      "one level 17/-1: 100%|██████████| 82711/82711 [00:00<00:00, 89438.40it/s]\n",
      "one level 18/-1: 100%|██████████| 82711/82711 [00:00<00:00, 90057.52it/s]\n",
      "one level 19/-1: 100%|██████████| 82711/82711 [00:00<00:00, 86913.24it/s] \n",
      "one level 20/-1: 100%|██████████| 82711/82711 [00:00<00:00, 90959.98it/s]\n",
      "one level 21/-1: 100%|██████████| 82711/82711 [00:00<00:00, 89622.71it/s] \n",
      "one level 22/-1: 100%|██████████| 82711/82711 [00:00<00:00, 90397.01it/s] \n",
      "one level 23/-1: 100%|██████████| 82711/82711 [00:00<00:00, 88962.76it/s] \n",
      "one level 24/-1: 100%|██████████| 82711/82711 [00:00<00:00, 89388.99it/s] \n",
      "one level 25/-1: 100%|██████████| 82711/82711 [00:00<00:00, 89673.61it/s]\n",
      "one level 26/-1: 100%|██████████| 82711/82711 [00:00<00:00, 89334.22it/s]\n"
     ]
    },
    {
     "name": "stdout",
     "output_type": "stream",
     "text": [
      "one level done\n"
     ]
    },
    {
     "name": "stderr",
     "output_type": "stream",
     "text": [
      "one level 1/-1: 100%|██████████| 26158/26158 [00:00<00:00, 79432.02it/s]\n",
      "one level 2/-1: 100%|██████████| 26158/26158 [00:00<00:00, 81783.19it/s]\n",
      "one level 3/-1: 100%|██████████| 26158/26158 [00:00<00:00, 84728.05it/s]\n",
      "one level 4/-1: 100%|██████████| 26158/26158 [00:00<00:00, 85253.50it/s]\n",
      "one level 5/-1: 100%|██████████| 26158/26158 [00:00<00:00, 84708.88it/s]\n",
      "one level 6/-1: 100%|██████████| 26158/26158 [00:00<00:00, 86353.35it/s]\n",
      "one level 7/-1: 100%|██████████| 26158/26158 [00:00<00:00, 86225.35it/s]\n",
      "one level 8/-1: 100%|██████████| 26158/26158 [00:00<00:00, 86920.69it/s]\n",
      "one level 9/-1: 100%|██████████| 26158/26158 [00:00<00:00, 85658.59it/s] \n",
      "one level 10/-1: 100%|██████████| 26158/26158 [00:00<00:00, 86868.53it/s]\n",
      "one level 11/-1: 100%|██████████| 26158/26158 [00:00<00:00, 85456.03it/s]\n",
      "one level 12/-1: 100%|██████████| 26158/26158 [00:00<00:00, 84293.92it/s]\n",
      "one level 13/-1: 100%|██████████| 26158/26158 [00:00<00:00, 84320.22it/s]\n",
      "one level 14/-1: 100%|██████████| 26158/26158 [00:00<00:00, 85604.19it/s]\n",
      "one level 15/-1: 100%|██████████| 26158/26158 [00:00<00:00, 84393.45it/s]\n",
      "one level 16/-1: 100%|██████████| 26158/26158 [00:00<00:00, 81395.85it/s]\n",
      "one level 17/-1: 100%|██████████| 26158/26158 [00:00<00:00, 84342.32it/s]\n",
      "one level 18/-1: 100%|██████████| 26158/26158 [00:00<00:00, 85369.85it/s]\n",
      "one level 19/-1: 100%|██████████| 26158/26158 [00:00<00:00, 85919.13it/s]\n",
      "one level 20/-1: 100%|██████████| 26158/26158 [00:00<00:00, 84910.93it/s]\n"
     ]
    },
    {
     "name": "stdout",
     "output_type": "stream",
     "text": [
      "one level done\n"
     ]
    },
    {
     "name": "stderr",
     "output_type": "stream",
     "text": [
      "one level 1/-1: 100%|██████████| 14653/14653 [00:00<00:00, 96059.92it/s] \n",
      "one level 2/-1: 100%|██████████| 14653/14653 [00:00<00:00, 98749.05it/s]\n",
      "one level 3/-1: 100%|██████████| 14653/14653 [00:00<00:00, 101522.93it/s]\n",
      "one level 4/-1: 100%|██████████| 14653/14653 [00:00<00:00, 98399.64it/s]\n",
      "one level 5/-1: 100%|██████████| 14653/14653 [00:00<00:00, 98288.07it/s] \n",
      "one level 6/-1: 100%|██████████| 14653/14653 [00:00<00:00, 99436.05it/s] \n",
      "one level 7/-1: 100%|██████████| 14653/14653 [00:00<00:00, 98858.49it/s] \n",
      "one level 8/-1: 100%|██████████| 14653/14653 [00:00<00:00, 100757.80it/s]\n",
      "one level 9/-1: 100%|██████████| 14653/14653 [00:00<00:00, 102092.27it/s]\n",
      "one level 10/-1: 100%|██████████| 14653/14653 [00:00<00:00, 103012.54it/s]\n",
      "one level 11/-1: 100%|██████████| 14653/14653 [00:00<00:00, 100826.57it/s]\n",
      "one level 12/-1: 100%|██████████| 14653/14653 [00:00<00:00, 100187.85it/s]\n",
      "one level 13/-1: 100%|██████████| 14653/14653 [00:00<00:00, 97998.29it/s]\n",
      "one level 14/-1: 100%|██████████| 14653/14653 [00:00<00:00, 98394.44it/s] \n",
      "one level 15/-1: 100%|██████████| 14653/14653 [00:00<00:00, 100812.67it/s]\n",
      "one level 16/-1: 100%|██████████| 14653/14653 [00:00<00:00, 99664.54it/s]\n",
      "one level 17/-1: 100%|██████████| 14653/14653 [00:00<00:00, 99295.80it/s]\n"
     ]
    },
    {
     "name": "stdout",
     "output_type": "stream",
     "text": [
      "one level done\n"
     ]
    },
    {
     "name": "stderr",
     "output_type": "stream",
     "text": [
      "one level 1/-1: 100%|██████████| 11786/11786 [00:00<00:00, 121008.59it/s]\n",
      "one level 2/-1: 100%|██████████| 11786/11786 [00:00<00:00, 120229.85it/s]\n",
      "one level 3/-1: 100%|██████████| 11786/11786 [00:00<00:00, 119641.48it/s]\n",
      "one level 4/-1: 100%|██████████| 11786/11786 [00:00<00:00, 119855.56it/s]\n",
      "one level 5/-1: 100%|██████████| 11786/11786 [00:00<00:00, 123511.99it/s]\n",
      "one level 6/-1: 100%|██████████| 11786/11786 [00:00<00:00, 123910.43it/s]\n",
      "one level 7/-1: 100%|██████████| 11786/11786 [00:00<00:00, 119557.86it/s]\n",
      "one level 8/-1: 100%|██████████| 11786/11786 [00:00<00:00, 123131.12it/s]\n",
      "one level 9/-1: 100%|██████████| 11786/11786 [00:00<00:00, 125001.12it/s]\n",
      "one level 10/-1: 100%|██████████| 11786/11786 [00:00<00:00, 118046.71it/s]\n",
      "one level 11/-1: 100%|██████████| 11786/11786 [00:00<00:00, 121046.22it/s]\n",
      "one level 12/-1: 100%|██████████| 11786/11786 [00:00<00:00, 119214.18it/s]\n",
      "one level 13/-1: 100%|██████████| 11786/11786 [00:00<00:00, 120280.17it/s]\n",
      "one level 14/-1: 100%|██████████| 11786/11786 [00:00<00:00, 123043.77it/s]\n",
      "one level 15/-1: 100%|██████████| 11786/11786 [00:00<00:00, 122024.78it/s]\n",
      "one level 16/-1: 100%|██████████| 11786/11786 [00:00<00:00, 121689.55it/s]\n",
      "one level 17/-1: 100%|██████████| 11786/11786 [00:00<00:00, 122717.25it/s]\n",
      "one level 18/-1: 100%|██████████| 11786/11786 [00:00<00:00, 123414.85it/s]\n"
     ]
    },
    {
     "name": "stdout",
     "output_type": "stream",
     "text": [
      "one level done\n"
     ]
    },
    {
     "name": "stderr",
     "output_type": "stream",
     "text": [
      "one level 1/-1: 100%|██████████| 11145/11145 [00:00<00:00, 138388.79it/s]\n",
      "one level 2/-1: 100%|██████████| 11145/11145 [00:00<00:00, 134538.06it/s]\n",
      "one level 3/-1: 100%|██████████| 11145/11145 [00:00<00:00, 131426.88it/s]\n",
      "one level 4/-1: 100%|██████████| 11145/11145 [00:00<00:00, 132626.45it/s]\n",
      "one level 5/-1: 100%|██████████| 11145/11145 [00:00<00:00, 134340.10it/s]\n",
      "one level 6/-1: 100%|██████████| 11145/11145 [00:00<00:00, 134889.79it/s]\n",
      "one level 7/-1: 100%|██████████| 11145/11145 [00:00<00:00, 137315.17it/s]\n"
     ]
    },
    {
     "name": "stdout",
     "output_type": "stream",
     "text": [
      "one level done\n"
     ]
    },
    {
     "name": "stderr",
     "output_type": "stream",
     "text": [
      "one level 1/-1: 100%|██████████| 10949/10949 [00:00<00:00, 143114.93it/s]\n",
      "one level 2/-1: 100%|██████████| 10949/10949 [00:00<00:00, 141837.49it/s]\n",
      "one level 3/-1: 100%|██████████| 10949/10949 [00:00<00:00, 143545.72it/s]\n"
     ]
    },
    {
     "name": "stdout",
     "output_type": "stream",
     "text": [
      "one level done\n"
     ]
    },
    {
     "name": "stderr",
     "output_type": "stream",
     "text": [
      "one level 1/-1: 100%|██████████| 10915/10915 [00:00<00:00, 140617.47it/s]\n"
     ]
    },
    {
     "name": "stdout",
     "output_type": "stream",
     "text": [
      "one level done\n"
     ]
    }
   ],
   "source": [
    "dendo = community_louvain.generate_dendrogram(G_friends)\n",
    "partition = community_louvain.partition_at_level(dendo, len(dendo) -1)"
   ]
  },
  {
   "cell_type": "code",
   "execution_count": 19,
   "metadata": {},
   "outputs": [],
   "source": [
    "json_data = json.dumps(partition, indent=2)\n",
    "\n",
    "with open(\"partition.json\", 'w') as file:\n",
    "    file.write(json_data)"
   ]
  },
  {
   "cell_type": "code",
   "execution_count": 18,
   "metadata": {},
   "outputs": [],
   "source": [
    "json_data = json.dumps(dendo, indent=2)\n",
    "\n",
    "with open(\"dendo.json\", 'w') as file:\n",
    "    file.write(json_data)"
   ]
  },
  {
   "cell_type": "code",
   "execution_count": 3,
   "metadata": {},
   "outputs": [],
   "source": [
    "with open(\"partition.json\", 'r') as file:\n",
    "    partition = json.load(file)"
   ]
  },
  {
   "cell_type": "markdown",
   "metadata": {},
   "source": [
    "# Visualise comunities"
   ]
  },
  {
   "cell_type": "code",
   "execution_count": 5,
   "metadata": {},
   "outputs": [
    {
     "name": "stderr",
     "output_type": "stream",
     "text": [
      "100%|██████████| 2626220/2626220 [00:00<00:00, 6684515.07it/s]\n"
     ]
    },
    {
     "name": "stdout",
     "output_type": "stream",
     "text": [
      "10915\n"
     ]
    },
    {
     "data": {
      "image/png": "[encoded data removed]",
      "text/plain": [
       "<Figure size 640x480 with 1 Axes>"
      ]
     },
     "metadata": {},
     "output_type": "display_data"
    }
   ],
   "source": [
    "\n",
    "communities = set(partition.values())\n",
    "user_by_community = { com : 0 for com in communities}\n",
    "for com in tqdm(partition.values()):\n",
    "    user_by_community[com] += 1\n",
    "\n",
    "#only keep communities with more than  5 users\n",
    "communities = [com for com, val in user_by_community.items()]\n",
    "print(len(communities))\n",
    "plt.hist(user_by_community.values(),bins = [1.1**i for i in range(120)], edgecolor= 'black', log = True)\n",
    "plt.xscale('log')\n",
    "plt.show()"
   ]
  },
  {
   "cell_type": "code",
   "execution_count": 6,
   "metadata": {},
   "outputs": [
    {
     "name": "stdout",
     "output_type": "stream",
     "text": [
      "loaded file : 2023_place_canvas_history-000000000019.csv.gzip\n",
      "\n",
      "start making visualizations\n"
     ]
    }
   ],
   "source": [
    "#aggregate how much points has been placed by each user\n",
    "class all_in_one:\n",
    "    def __init__(self, val) -> None:\n",
    "        self.val = val\n",
    "    \n",
    "    def __getitem__(self, index):\n",
    "        return self.val\n",
    "    \n",
    "    def __setitem__(self, index, val):\n",
    "        self.val = val\n",
    "\n",
    "def up_community_pixels(communities_pixels, row, is_mod):\n",
    "    if not is_mod:\n",
    "        communities_pixels[partition.get(row.user, -1)] = communities_pixels.get(partition.get(row.user,-2), 0) + 1 \n",
    "    return communities_pixels\n",
    "\n",
    "communities_pixels = []\n",
    "\n",
    "visualise_at_interval(\n",
    "    up_community_pixels, \n",
    "    {}, \n",
    "    -1, \n",
    "    all_in_one(all_in_one({})),\n",
    "    \"\",\n",
    "    rez = communities_pixels,\n",
    ")\n",
    "\n",
    "communities_pixels = communities_pixels[1][0][0]\n",
    "for community in communities_pixels:\n",
    "    if community != -1:\n",
    "        communities_pixels[-1] += communities_pixels[community]\n",
    "for community in communities_pixels:\n",
    "    if community != -1:\n",
    "        communities_pixels[-1] += communities_pixels[community]\n",
    "total_pixels = communities_pixels.pop(-1)"
   ]
  },
  {
   "cell_type": "code",
   "execution_count": 7,
   "metadata": {},
   "outputs": [
    {
     "data": {
      "image/png": "[encoded data removed]",
      "text/plain": [
       "<Figure size 640x480 with 1 Axes>"
      ]
     },
     "metadata": {},
     "output_type": "display_data"
    }
   ],
   "source": [
    "plt.hist(communities_pixels.values(), bins = [1.1**i for i in range(175)], edgecolor= 'black', log= True)\n",
    "plt.xscale('log')\n",
    "plt.show()\n",
    "\n",
    "#sort communities by number of pixels placed\n",
    "community_pixels = sorted(communities_pixels.items(), key=lambda item: item[1], reverse=True)"
   ]
  },
  {
   "cell_type": "code",
   "execution_count": 8,
   "metadata": {},
   "outputs": [
    {
     "data": {
      "text/plain": [
       "22"
      ]
     },
     "execution_count": 8,
     "metadata": {},
     "output_type": "execute_result"
    }
   ],
   "source": [
    "\n",
    "communities_selected = [community for community, activity in community_pixels if activity > 100_000]\n",
    "len(communities_selected)"
   ]
  },
  {
   "cell_type": "code",
   "execution_count": 11,
   "metadata": {},
   "outputs": [
    {
     "name": "stdout",
     "output_type": "stream",
     "text": [
      "loaded file : 2023_place_canvas_history-000000000001.csv.gzip\n",
      "\n",
      "just made summary until 0 days 04:00:00\n"
     ]
    },
    {
     "name": "stderr",
     "output_type": "stream",
     "text": [
      "100%|██████████| 546651/546651 [00:01<00:00, 300218.32it/s]\n"
     ]
    },
    {
     "ename": "",
     "evalue": "",
     "output_type": "error",
     "traceback": [
      "\u001b[1;31mLe Kernel s’est bloqué lors de l’exécution du code dans la cellule active ou une cellule précédente. Veuillez vérifier le code dans la ou les cellules pour identifier une cause possible de l’échec. Cliquez <a href='https://aka.ms/vscodeJupyterKernelCrash'>ici</a> pour plus d’informations. Pour plus d’informations, consultez Jupyter <a href='command:jupyter.viewOutput'>log</a>."
     ]
    },
    {
     "ename": "",
     "evalue": "",
     "output_type": "error",
     "traceback": [
      "\u001b[1;31mCanceled future for execute_request message before replies were done"
     ]
    }
   ],
   "source": [
    "saturation = 0.8\n",
    "lightness = 0.8\n",
    "\n",
    "hues = np.linspace(0, 1, len(communities_selected), endpoint=False)\n",
    "\n",
    "# Create colors for both groups\n",
    "colors = {community\t: hsv_to_rgb([hue, saturation, lightness]) for community, hue in zip(communities_selected,hues)}\n",
    "\n",
    "red = np.array([255,0,0], dtype = np.uint8)\n",
    "white = np.array([0,0,0], dtype = np.uint8)\n",
    "def aggregate(rez, row, is_mod) : \n",
    "    if not is_mod :\n",
    "        user_community = partition.get(row.user,-1)\n",
    "        if user_community in communities_selected :\n",
    "            rez[user_community] += 1\n",
    "        rez[-1] += 1\n",
    "    return rez\n",
    "\n",
    "colors[-1] = np.array([255,255,255], dtype = np.uint8)\n",
    "\n",
    "def transform(image, community):\n",
    "    converted_img = convertImage(image, lambda dict : colors[community] * dict[community] / max(dict[-1],1), dtype = np.float64)\n",
    "    converted_img /= np.max(converted_img)\n",
    "    converted_img *= 255\n",
    "    return converted_img.astype(np.uint8)\n",
    "\n",
    "rez = []\n",
    "visualise_at_interval( \n",
    "    aggregate ,\n",
    "    {community : partial(transform, community = community) for community in communities_selected}, \n",
    "    -1, \n",
    "    [[{ community : 0 for community in colors} for i in range(2000)] for j in range(1000)],\n",
    "    lambda community : f\"friends/last_pixel_by_community/{community}\",\n",
    "    rez = rez,\n",
    ")"
   ]
  },
  {
   "cell_type": "code",
   "execution_count": 56,
   "metadata": {},
   "outputs": [
    {
     "name": "stdout",
     "output_type": "stream",
     "text": [
      "0.8000000000000002\n",
      "[[[ 34.45456697  21.92563352   6.89091339]\n",
      "  [ 31.32352941  19.93315508   6.26470588]\n",
      "  [ 27.14828897   5.42965779   5.42965779]\n",
      "  ...\n",
      "  [ 79.80916031  15.96183206  15.96183206]\n",
      "  [ 71.95544554  14.39108911  14.39108911]\n",
      "  [ 52.72074659  10.54414932  10.54414932]]\n",
      "\n",
      " [[ 25.21978022   5.04395604   5.04395604]\n",
      "  [ 10.91701903   8.00581395  40.02906977]\n",
      "  [  8.99294671   6.59482759  32.97413793]\n",
      "  ...\n",
      "  [ 91.3255814   18.26511628  18.26511628]\n",
      "  [ 76.80722892  15.36144578  15.36144578]\n",
      "  [ 73.06314797  14.61262959  14.61262959]]\n",
      "\n",
      " [[ 35.64516129   7.12903226   7.12903226]\n",
      "  [ 33.55263158  28.6722488    6.71052632]\n",
      "  [  8.21403006   6.02362205  30.11811024]\n",
      "  ...\n",
      "  [ 88.14814815  17.62962963  17.62962963]\n",
      "  [ 81.74641148  16.3492823   16.3492823 ]\n",
      "  [ 80.86956522  16.17391304  16.17391304]]\n",
      "\n",
      " ...\n",
      "\n",
      " [[103.2496937  111.34770889  22.26954178]\n",
      "  [108.87115762 117.41007194  23.48201439]\n",
      "  [ 94.28250863 101.67721519  20.33544304]\n",
      "  ...\n",
      "  [ 70.0993564   75.59734513  15.11946903]\n",
      "  [ 86.8832981   93.69767442  18.73953488]\n",
      "  [ 54.96279991  59.27360775  11.85472155]]\n",
      "\n",
      " [[101.37712404 109.32827103  21.86565421]\n",
      "  [ 99.72213439 107.54347826  21.50869565]\n",
      "  [ 97.5581691  105.20979021  21.04195804]\n",
      "  ...\n",
      "  [ 64.9520202   70.0462963   14.00925926]\n",
      "  [ 58.2468675   62.81524927  12.56304985]\n",
      "  [ 55.84790875  23.35458002  11.16958175]]\n",
      "\n",
      " [[ 84.53971876  91.17028494  18.23405699]\n",
      "  [ 98.03619529 105.72530864  21.14506173]\n",
      "  [104.43409091 112.625       22.525     ]\n",
      "  ...\n",
      "  [ 63.50721744  68.48817568  13.69763514]\n",
      "  [ 57.13196481  61.61290323  12.32258065]\n",
      "  [ 47.94529948  20.04985251   9.5890599 ]]]\n"
     ]
    }
   ],
   "source": [
    "images = rez\n",
    "communities_detected = []\n",
    "\n",
    "def best_commmunity_color(dict):\n",
    "    community = max(dict, key=lambda x : -1 if x == -1 else dict[x])\n",
    "    communities_detected.append(tuple(colors[community].tolist()))\n",
    "    return colors[community] * dict[community] / max(dict[-1],1)\n",
    "\n",
    "\n",
    "converted_imgs = [convertImage(image, best_commmunity_color, dtype=np.float64)  for image in images]\n",
    "print(np.max(converted_img))  \n",
    "converted_img /= np.max(converted_img)\n",
    "converted_img *= 255\n",
    "print(converted_img)\n",
    "imwrite(\"visualisation/friends/summary.png\",converted_img.astype(np.uint8))"
   ]
  },
  {
   "cell_type": "code",
   "execution_count": 45,
   "metadata": {},
   "outputs": [
    {
     "name": "stdout",
     "output_type": "stream",
     "text": [
      "Counter({(0.8, 0.15999999999999998, 0.15999999999999998): 606184, (0.8, 0.19840000000000002, 0.15999999999999998): 7158, (0.8, 0.23679999999999995, 0.15999999999999998): 6786, (0.8, 0.3520000000000001, 0.15999999999999998): 6308, (0.8, 0.2751999999999999, 0.15999999999999998): 6240, (0.8, 0.31359999999999993, 0.15999999999999998): 6215, (0.8, 0.3904, 0.15999999999999998): 5993, (0.8, 0.42880000000000007, 0.15999999999999998): 5860, (0.8, 0.4672, 0.15999999999999998): 5810, (0.8, 0.544, 0.15999999999999998): 5638, (0.8, 0.5056, 0.15999999999999998): 5637, (0.8, 0.5824, 0.15999999999999998): 5554, (0.8, 0.736, 0.15999999999999998): 5411, (0.7488, 0.8, 0.15999999999999998): 5392, (0.8, 0.6208, 0.15999999999999998): 5332, (0.8, 0.6592000000000001, 0.15999999999999998): 5322, (0.8, 0.7744, 0.15999999999999998): 5307, (0.7872, 0.8, 0.15999999999999998): 5283, (0.8, 0.6976000000000001, 0.15999999999999998): 5269, (0.6336, 0.8, 0.15999999999999998): 5136, (0.7103999999999999, 0.8, 0.15999999999999998): 5024, (0.6719999999999999, 0.8, 0.15999999999999998): 5010, (0.5568, 0.8, 0.15999999999999998): 4895, (0.48, 0.8, 0.15999999999999998): 4860, (0.5952000000000001, 0.8, 0.15999999999999998): 4741, (0.5184000000000001, 0.8, 0.15999999999999998): 4669, (0.4416, 0.8, 0.15999999999999998): 4604, (0.15999999999999998, 0.8, 0.22400000000000003): 4549, (0.32640000000000013, 0.8, 0.15999999999999998): 4528, (0.40319999999999995, 0.8, 0.15999999999999998): 4495, (0.3647999999999999, 0.8, 0.15999999999999998): 4463, (0.2880000000000001, 0.8, 0.15999999999999998): 4405, (0.15999999999999998, 0.8, 0.2624000000000001): 4373, (0.21120000000000003, 0.8, 0.15999999999999998): 4366, (0.24960000000000004, 0.8, 0.15999999999999998): 4287, (0.15999999999999998, 0.8, 0.33920000000000017): 4287, (0.15999999999999998, 0.8, 0.1856): 4157, (0.17279999999999998, 0.8, 0.15999999999999998): 4150, (0.15999999999999998, 0.8, 0.4928): 4095, (0.15999999999999998, 0.8, 0.30079999999999985): 4019, (0.15999999999999998, 0.8, 0.4160000000000002): 4014, (0.15999999999999998, 0.8, 0.37759999999999994): 3987, (0.15999999999999998, 0.8, 0.5696000000000001): 3933, (0.15999999999999998, 0.8, 0.5312): 3904, (0.15999999999999998, 0.8, 0.6080000000000001): 3856, (0.15999999999999998, 0.8, 0.6464000000000002): 3844, (0.15999999999999998, 0.8, 0.45439999999999997): 3783, (0.15999999999999998, 0.8, 0.6848000000000002): 3761, (0.15999999999999998, 0.8, 0.8): 3706, (0.15999999999999998, 0.6463999999999999, 0.8): 3705, (0.15999999999999998, 0.8, 0.7616): 3665, (0.15999999999999998, 0.8, 0.7232): 3665, (0.15999999999999998, 0.7232, 0.8): 3600, (0.15999999999999998, 0.45439999999999997, 0.8): 3596, (0.15999999999999998, 0.5311999999999998, 0.8): 3590, (0.15999999999999998, 0.7616, 0.8): 3531, (0.15999999999999998, 0.6848, 0.8): 3461, (0.15999999999999998, 0.4928000000000003, 0.8): 3460, (0.15999999999999998, 0.5695999999999998, 0.8): 3455, (0.15999999999999998, 0.30079999999999985, 0.8): 3439, (0.15999999999999998, 0.37759999999999994, 0.8): 3438, (0.15999999999999998, 0.4160000000000002, 0.8): 3398, (0.15999999999999998, 0.33920000000000017, 0.8): 3397, (0.15999999999999998, 0.22399999999999975, 0.8): 3375, (0.15999999999999998, 0.6079999999999999, 0.8): 3362, (0.21120000000000003, 0.15999999999999998, 0.8): 3352, (0.15999999999999998, 0.2624000000000001, 0.8): 3338, (0.15999999999999998, 0.1856, 0.8): 3287, (0.17280000000000026, 0.15999999999999998, 0.8): 3271, (0.2880000000000001, 0.15999999999999998, 0.8): 3266, (0.32639999999999986, 0.15999999999999998, 0.8): 3238, (0.6720000000000005, 0.15999999999999998, 0.8): 3170, (0.4415999999999997, 0.15999999999999998, 0.8): 3146, (0.48, 0.15999999999999998, 0.8): 3117, (0.7104000000000003, 0.15999999999999998, 0.8): 3102, (0.8, 0.15999999999999998, 0.7360000000000002): 3097, (0.24960000000000032, 0.15999999999999998, 0.8): 3084, (0.5951999999999998, 0.15999999999999998, 0.8): 3073, (0.5568000000000001, 0.15999999999999998, 0.8): 3026, (0.6336000000000002, 0.15999999999999998, 0.8): 3020, (0.40319999999999995, 0.15999999999999998, 0.8): 3018, (0.7488, 0.15999999999999998, 0.8): 3015, (0.3648000000000002, 0.15999999999999998, 0.8): 2929, (0.8, 0.15999999999999998, 0.5056): 2851, (0.8, 0.15999999999999998, 0.7744): 2804, (0.7872000000000003, 0.15999999999999998, 0.8): 2798, (0.8, 0.15999999999999998, 0.6976): 2788, (0.5184000000000003, 0.15999999999999998, 0.8): 2785, (0.8, 0.15999999999999998, 0.6207999999999999): 2773, (0.8, 0.15999999999999998, 0.4671999999999997): 2747, (0.8, 0.15999999999999998, 0.27519999999999983): 2746, (0.8, 0.15999999999999998, 0.35199999999999987): 2742, (0.8, 0.15999999999999998, 0.5824000000000001): 2739, (0.8, 0.15999999999999998, 0.3136000000000001): 2738, (0.8, 0.15999999999999998, 0.6592000000000002): 2735, (0.8, 0.15999999999999998, 0.39039999999999964): 2731, (0.8, 0.15999999999999998, 0.5439999999999998): 2719, (0.8, 0.15999999999999998, 0.42879999999999996): 2696, (0.8, 0.15999999999999998, 0.19840000000000027): 2687, (0.8, 0.15999999999999998, 0.23680000000000004): 2635})\n"
     ]
    }
   ],
   "source": [
    "from collections import Counter\n",
    "\n",
    "communities_detected = [tuple(community) for community in communities_detected]\n",
    "# Use Counter to count occurrences\n",
    "count_dict = Counter(communities_detected)\n",
    "\n",
    "print(count_dict)"
   ]
  },
  {
   "cell_type": "markdown",
   "metadata": {},
   "source": [
    "# Todo"
   ]
  },
  {
   "cell_type": "code",
   "execution_count": 42,
   "metadata": {},
   "outputs": [
    {
     "name": "stdout",
     "output_type": "stream",
     "text": [
      "loaded file : 2023_place_canvas_history-000000000000.csv.gzip\n",
      "\n",
      "start making visualizations\n"
     ]
    },
    {
     "data": {
      "text/plain": [
       "[{},\n",
       " {'#FFFFFF': 30821,\n",
       "  '#FF4500': 110951,\n",
       "  '#B44AC0': 30705,\n",
       "  '#3690EA': 78922,\n",
       "  '#00A368': 32807,\n",
       "  '#000000': 166817,\n",
       "  '#FFD635': 84722,\n",
       "  '#FFA800': 17123}]"
      ]
     },
     "execution_count": 42,
     "metadata": {},
     "output_type": "execute_result"
    }
   ],
   "source": [
    "rez = []\n",
    "\n",
    "interval = 5\n",
    "\n",
    "visualise_at_interval(\n",
    "    get_color, \n",
    "    {}, \n",
    "    -1, \n",
    "    all_in_one(all_in_one({})),\n",
    "    \"\",\n",
    "    EndingTimeStamp= pd.Timedelta(hours = 1),\n",
    "    rez = rez,\n",
    ")\n",
    "colors_each_min = [image[0][0] for image in rez]\n",
    "colors_each_min = colors_each_min[1:]\n",
    "#sum up pixels\n",
    "for i in range(0,len(colors_each_min)):\n",
    "    colors_each_min[i]['total'] = 0\n",
    "    for color in colors_each_min[i]:\n",
    "        if color != 'total':\n",
    "            colors_each_min[i]['total'] += colors_each_min[i].get(color,0)\n",
    "\n",
    "print([image['total'] for image in colors_each_min])\n",
    "\n",
    "#normalize numbers of pixels\n",
    "'''\n",
    "for i in range(0,len(colors_each_min)):\n",
    "    for color in colors_each_min[i]:\n",
    "        if color != 'total':\n",
    "            colors_each_min[i][color] = colors_each_min[i][color] / colors_each_min[i]['total']\n",
    "'''\n",
    "\n",
    "#smooth points if necesary\n",
    "smoothed_colors_each_min = []\n",
    "smooth_factor = 2\n",
    "for i in range(0,len(colors_each_min)-smooth_factor):\n",
    "    smoothed_colors_each_min.append({})\n",
    "    for color in colors_each_min[i]:\n",
    "        smoothed_colors_each_min[i][color] = np.sum(\n",
    "            [colors_each_min[i+j][color] for j in range(0,smooth_factor)]) / smooth_factor\n",
    "\n",
    "#plot curve of pixels placement frequency with colors as area under the curve\n",
    "import matplotlib.pyplot as plt\n",
    "\n",
    "colors = set()\n",
    "for i in range(0,len(smoothed_colors_each_min)):\n",
    "    for color in colors_each_min[i]:\n",
    "        if color != 'total':\n",
    "            colors.add(color)\n",
    "\n",
    "#sort colors by frequency\n",
    "colors = sorted(colors, key=lambda color: smoothed_colors_each_min[-1][color])\n",
    "\n",
    "plt.figure()\n",
    "curr_y = [0 for i in range(0,len(smoothed_colors_each_min))]\n",
    "\n",
    "for color in colors:\n",
    "    if color == 'total':\n",
    "        continue\n",
    "    x = range(0,len(smoothed_colors_each_min))\n",
    "    loc_y = [smoothed_colors_each_min[i].get(color,0) for i in range(0,len(smoothed_colors_each_min))]\n",
    "    last_y = copy.deepcopy(curr_y)\n",
    "    curr_y = [curr_y[i] + loc_y[i] for i in range(0,len(smoothed_colors_each_min))]\n",
    "    p_color = color\n",
    "    if color == '#FFFFFF': #white\n",
    "        p_color = 'lightgrey'\n",
    "    plt.plot(x, curr_y, color=p_color, label=color)\n",
    "    plt.fill_between(x, last_y, curr_y, alpha=0.5, color=p_color)\n",
    "\n",
    "#plot tick every x hours instead of minutes\n",
    "hours_tick = 5\n",
    "ticks = [i for i in range(0,len(smoothed_colors_each_min),hours_tick*60//interval)]\n",
    "plt.xticks(ticks, [str(int(i*interval/60)) for i in ticks])\n",
    "\n",
    "plt.xlabel('Temps en heures')\n",
    "plt.ylabel('Nombre de pixels placés sur les 5 dernières minutes')\n",
    "plt.savefig('pixel_placement_frequency_by_color.png', dpi=1000)\n",
    "plt.show()\n"
   ]
  },
  {
   "cell_type": "markdown",
   "metadata": {},
   "source": [
    "# Users activity distribution"
   ]
  },
  {
   "cell_type": "code",
   "execution_count": null,
   "metadata": {},
   "outputs": [],
   "source": [
    "#aggregate how much points has been placed by each user\n",
    "users_pixels = {}\n",
    "\n",
    "def up_user_pixels(aggr, row, is_mod):\n",
    "    if not is_mod:\n",
    "        users_pixels[row.user] = users_pixels.get(row.user, 0) + 1 \n",
    "    return users_pixels\n",
    "\n",
    "interval = 3000\n",
    "max_pixels = (interval / 5) + 1\n",
    "\n",
    "visualise_at_interval(\n",
    "    up_user_pixels, \n",
    "    {}, \n",
    "    -1, \n",
    "    all_in_one(all_in_one({})),\n",
    "    \"\",\n",
    "    EndingTimeStamp= pd.Timedelta(minutes = interval),\n",
    ")\n",
    "\n",
    "#sort users by number of pixels placed\n",
    "users_pixels = sorted(users_pixels.items(), key=lambda item: item[1], reverse=True)\n",
    "#remove cheaters\n",
    "users_pixels = [user for user in users_pixels if user[1] < max_pixels]\n",
    "\n",
    "#plot curve of pixels placement frequency by users\n",
    "import matplotlib.pyplot as plt\n",
    "\n",
    "plt.figure()\n",
    "x = range(0,len(users_pixels))\n",
    "y = [user[1] for user in users_pixels]\n",
    "plt.plot(x, y, color='blue')\n",
    "plt.xlabel('Utilisateurs')\n",
    "plt.ylabel('Nombre de pixels')\n",
    "plt.savefig('pixel_placement_frequency_by_user.png', dpi=1000)"
   ]
  },
  {
   "cell_type": "code",
   "execution_count": null,
   "metadata": {},
   "outputs": [],
   "source": [
    "stats = {'pixels': 0, 'mods': 0, 'non_mods': 0}\n",
    "users = set()\n",
    "def aggregate(stats, users, user, is_mod):\n",
    "    users.add(user)\n",
    "    stats['pixels'] += 1\n",
    "    if is_mod:\n",
    "        stats['mods'] += 1\n",
    "    else:\n",
    "        stats['non_mods'] += 1\n",
    "\n",
    "visualise_at_interval(\n",
    "    lambda x, y, user, is_mod : aggregate(stats, users, user, is_mod),\n",
    "    {}, \n",
    "    pd.Timedelta(minutes= 30), \n",
    "    [[\"#FFFFFF\" for i in range(2000)] for i in range(1000)],\n",
    "    \"image\",\n",
    "    duration= pd.Timedelta(minutes= 1)\n",
    ") \n",
    "stats, users"
   ]
  },
  {
   "cell_type": "markdown",
   "metadata": {},
   "source": [
    "\n",
    "matActivité forme : [x][y] = freq de maj --> image de l'activité bleu à rouge\n",
    "\n",
    "### map:\n",
    "- map de zone d'activité\n",
    "- map de zone d'activité par couleur?\n",
    "- map de certains utilisateurs actif \n",
    "- map de la couleur la plus utilisé\n",
    "- map de la variété d'utilisateurs\n",
    "- \n",
    "\n",
    "### statistique descriptive:\n",
    "- activité par utilisateur\n",
    "- activité par couleur\n",
    "- activité par heure\n",
    "\n",
    "### identifications:\n",
    "- identifié les bots\n",
    "- identifié communauté / projet de communauté\n",
    "- identification de la modération\n",
    "\n",
    "### technique:\n",
    "- download fait\n",
    "- augmentation taille grille fait\n",
    "- detection des antagonistes pour trouver les communautés fait\n",
    "- prétraitemtent des temps et diverse valeur pour réduire le temps d'ouverture fait"
   ]
  }
 ],
 "metadata": {
  "kernelspec": {
   "display_name": "Python 3.10.9 ('base')",
   "language": "python",
   "name": "python3"
  },
  "language_info": {
   "codemirror_mode": {
    "name": "ipython",
    "version": 3
   },
   "file_extension": ".py",
   "mimetype": "text/x-python",
   "name": "python",
   "nbconvert_exporter": "python",
   "pygments_lexer": "ipython3",
   "version": "3.10.13"
  },
  "orig_nbformat": 4,
  "vscode": {
   "interpreter": {
    "hash": "a5a318b75a7586e7126ee807ac3c15c9d32b27634cac574e72ad2f13c9c76b5e"
   }
  }
 },
 "nbformat": 4,
 "nbformat_minor": 2
}
