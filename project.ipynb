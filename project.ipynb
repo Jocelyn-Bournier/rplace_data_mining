{
 "cells": [
  {
   "cell_type": "code",
   "execution_count": 2,
   "metadata": {},
   "outputs": [],
   "source": [
    "import pandas as pd\n",
    "import numpy as np\n",
    "import matplotlib.pyplot as plt"
   ]
  },
  {
   "cell_type": "code",
   "execution_count": 3,
   "metadata": {},
   "outputs": [
    {
     "name": "stdout",
     "output_type": "stream",
     "text": [
      "                          timestamp  \\\n",
      "count                       2359618   \n",
      "unique                      1479742   \n",
      "top     2023-07-20 15:26:26.447 UTC   \n",
      "freq                             14   \n",
      "\n",
      "                                                     user coordinate  \\\n",
      "count                                             2359618    2359618   \n",
      "unique                                             739677     780808   \n",
      "top     /XIhfEKO27ngFqiOWS5VBLbRGEp8eqMghGEcRtH7xFfwtX...    499,499   \n",
      "freq                                                  164       1892   \n",
      "\n",
      "       pixel_color  \n",
      "count      2359618  \n",
      "unique           8  \n",
      "top        #000000  \n",
      "freq        659263  \n"
     ]
    }
   ],
   "source": [
    "df = pd.read_csv('2023_place_canvas_history-000000000000.csv')\n",
    "print(df.describe())"
   ]
  },
  {
   "cell_type": "markdown",
   "metadata": {},
   "source": [
    "matActivité forme : [x][y] = freq de maj --> image de l'activité bleu à rouge\n",
    "\n",
    "### map:\n",
    "- map de zone d'activité\n",
    "- map de zone d'activité par couleur?\n",
    "- map de certains utilisateurs actif \n",
    "- map de la couleur la plus utilisé\n",
    "- map de la variété d'utilisateurs\n",
    "- \n",
    "\n",
    "### statistique descriptive:\n",
    "- activité par utilisateur\n",
    "- activité par couleur\n",
    "- activité par heure\n",
    "\n",
    "### identifications:\n",
    "- identifié les bots\n",
    "- identifié communauté / projet de communauté\n",
    "- identification de la modération\n"
   ]
  }
 ],
 "metadata": {
  "kernelspec": {
   "display_name": "base",
   "language": "python",
   "name": "python3"
  },
  "language_info": {
   "codemirror_mode": {
    "name": "ipython",
    "version": 3
   },
   "file_extension": ".py",
   "mimetype": "text/x-python",
   "name": "python",
   "nbconvert_exporter": "python",
   "pygments_lexer": "ipython3",
   "version": "3.9.12"
  }
 },
 "nbformat": 4,
 "nbformat_minor": 2
}
